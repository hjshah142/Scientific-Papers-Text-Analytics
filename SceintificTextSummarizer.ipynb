{
  "nbformat": 4,
  "nbformat_minor": 0,
  "metadata": {
    "colab": {
      "name": "SceintificTextSummarizer.ipynb",
      "provenance": [],
      "toc_visible": true
    },
    "kernelspec": {
      "name": "python3",
      "display_name": "Python 3"
    },
    "language_info": {
      "name": "python"
    },
    "widgets": {
      "application/vnd.jupyter.widget-state+json": {
        "d1211b1e1f7c4c31a38e151a8ed3e94b": {
          "model_module": "@jupyter-widgets/controls",
          "model_name": "HBoxModel",
          "model_module_version": "1.5.0",
          "state": {
            "_view_name": "HBoxView",
            "_dom_classes": [],
            "_model_name": "HBoxModel",
            "_view_module": "@jupyter-widgets/controls",
            "_model_module_version": "1.5.0",
            "_view_count": null,
            "_view_module_version": "1.5.0",
            "box_style": "",
            "layout": "IPY_MODEL_bdd6a0d732c54180a73814979183d7c0",
            "_model_module": "@jupyter-widgets/controls",
            "children": [
              "IPY_MODEL_547429c718d14d919d04b252fcc87c48",
              "IPY_MODEL_34172d636f66493e92466ce448a65876"
            ]
          }
        },
        "bdd6a0d732c54180a73814979183d7c0": {
          "model_module": "@jupyter-widgets/base",
          "model_name": "LayoutModel",
          "model_module_version": "1.2.0",
          "state": {
            "_view_name": "LayoutView",
            "grid_template_rows": null,
            "right": null,
            "justify_content": null,
            "_view_module": "@jupyter-widgets/base",
            "overflow": null,
            "_model_module_version": "1.2.0",
            "_view_count": null,
            "flex_flow": null,
            "width": null,
            "min_width": null,
            "border": null,
            "align_items": null,
            "bottom": null,
            "_model_module": "@jupyter-widgets/base",
            "top": null,
            "grid_column": null,
            "overflow_y": null,
            "overflow_x": null,
            "grid_auto_flow": null,
            "grid_area": null,
            "grid_template_columns": null,
            "flex": null,
            "_model_name": "LayoutModel",
            "justify_items": null,
            "grid_row": null,
            "max_height": null,
            "align_content": null,
            "visibility": null,
            "align_self": null,
            "height": null,
            "min_height": null,
            "padding": null,
            "grid_auto_rows": null,
            "grid_gap": null,
            "max_width": null,
            "order": null,
            "_view_module_version": "1.2.0",
            "grid_template_areas": null,
            "object_position": null,
            "object_fit": null,
            "grid_auto_columns": null,
            "margin": null,
            "display": null,
            "left": null
          }
        },
        "547429c718d14d919d04b252fcc87c48": {
          "model_module": "@jupyter-widgets/controls",
          "model_name": "FloatProgressModel",
          "model_module_version": "1.5.0",
          "state": {
            "_view_name": "ProgressView",
            "style": "IPY_MODEL_1d9a715d951a41a8bdcec1bbdac6a2b7",
            "_dom_classes": [],
            "description": "Downloading: 100%",
            "_model_name": "FloatProgressModel",
            "bar_style": "success",
            "max": 1802,
            "_view_module": "@jupyter-widgets/controls",
            "_model_module_version": "1.5.0",
            "value": 1802,
            "_view_count": null,
            "_view_module_version": "1.5.0",
            "orientation": "horizontal",
            "min": 0,
            "description_tooltip": null,
            "_model_module": "@jupyter-widgets/controls",
            "layout": "IPY_MODEL_61ea3590a0eb413b9a257e13183a5147"
          }
        },
        "34172d636f66493e92466ce448a65876": {
          "model_module": "@jupyter-widgets/controls",
          "model_name": "HTMLModel",
          "model_module_version": "1.5.0",
          "state": {
            "_view_name": "HTMLView",
            "style": "IPY_MODEL_d70e4cc896a44154b8a5e74871a2d56d",
            "_dom_classes": [],
            "description": "",
            "_model_name": "HTMLModel",
            "placeholder": "​",
            "_view_module": "@jupyter-widgets/controls",
            "_model_module_version": "1.5.0",
            "value": " 1.80k/1.80k [00:34&lt;00:00, 51.5B/s]",
            "_view_count": null,
            "_view_module_version": "1.5.0",
            "description_tooltip": null,
            "_model_module": "@jupyter-widgets/controls",
            "layout": "IPY_MODEL_e5338b9420064f0593546e78d6767b1d"
          }
        },
        "1d9a715d951a41a8bdcec1bbdac6a2b7": {
          "model_module": "@jupyter-widgets/controls",
          "model_name": "ProgressStyleModel",
          "model_module_version": "1.5.0",
          "state": {
            "_view_name": "StyleView",
            "_model_name": "ProgressStyleModel",
            "description_width": "initial",
            "_view_module": "@jupyter-widgets/base",
            "_model_module_version": "1.5.0",
            "_view_count": null,
            "_view_module_version": "1.2.0",
            "bar_color": null,
            "_model_module": "@jupyter-widgets/controls"
          }
        },
        "61ea3590a0eb413b9a257e13183a5147": {
          "model_module": "@jupyter-widgets/base",
          "model_name": "LayoutModel",
          "model_module_version": "1.2.0",
          "state": {
            "_view_name": "LayoutView",
            "grid_template_rows": null,
            "right": null,
            "justify_content": null,
            "_view_module": "@jupyter-widgets/base",
            "overflow": null,
            "_model_module_version": "1.2.0",
            "_view_count": null,
            "flex_flow": null,
            "width": null,
            "min_width": null,
            "border": null,
            "align_items": null,
            "bottom": null,
            "_model_module": "@jupyter-widgets/base",
            "top": null,
            "grid_column": null,
            "overflow_y": null,
            "overflow_x": null,
            "grid_auto_flow": null,
            "grid_area": null,
            "grid_template_columns": null,
            "flex": null,
            "_model_name": "LayoutModel",
            "justify_items": null,
            "grid_row": null,
            "max_height": null,
            "align_content": null,
            "visibility": null,
            "align_self": null,
            "height": null,
            "min_height": null,
            "padding": null,
            "grid_auto_rows": null,
            "grid_gap": null,
            "max_width": null,
            "order": null,
            "_view_module_version": "1.2.0",
            "grid_template_areas": null,
            "object_position": null,
            "object_fit": null,
            "grid_auto_columns": null,
            "margin": null,
            "display": null,
            "left": null
          }
        },
        "d70e4cc896a44154b8a5e74871a2d56d": {
          "model_module": "@jupyter-widgets/controls",
          "model_name": "DescriptionStyleModel",
          "model_module_version": "1.5.0",
          "state": {
            "_view_name": "StyleView",
            "_model_name": "DescriptionStyleModel",
            "description_width": "",
            "_view_module": "@jupyter-widgets/base",
            "_model_module_version": "1.5.0",
            "_view_count": null,
            "_view_module_version": "1.2.0",
            "_model_module": "@jupyter-widgets/controls"
          }
        },
        "e5338b9420064f0593546e78d6767b1d": {
          "model_module": "@jupyter-widgets/base",
          "model_name": "LayoutModel",
          "model_module_version": "1.2.0",
          "state": {
            "_view_name": "LayoutView",
            "grid_template_rows": null,
            "right": null,
            "justify_content": null,
            "_view_module": "@jupyter-widgets/base",
            "overflow": null,
            "_model_module_version": "1.2.0",
            "_view_count": null,
            "flex_flow": null,
            "width": null,
            "min_width": null,
            "border": null,
            "align_items": null,
            "bottom": null,
            "_model_module": "@jupyter-widgets/base",
            "top": null,
            "grid_column": null,
            "overflow_y": null,
            "overflow_x": null,
            "grid_auto_flow": null,
            "grid_area": null,
            "grid_template_columns": null,
            "flex": null,
            "_model_name": "LayoutModel",
            "justify_items": null,
            "grid_row": null,
            "max_height": null,
            "align_content": null,
            "visibility": null,
            "align_self": null,
            "height": null,
            "min_height": null,
            "padding": null,
            "grid_auto_rows": null,
            "grid_gap": null,
            "max_width": null,
            "order": null,
            "_view_module_version": "1.2.0",
            "grid_template_areas": null,
            "object_position": null,
            "object_fit": null,
            "grid_auto_columns": null,
            "margin": null,
            "display": null,
            "left": null
          }
        },
        "bcb4636eedb24ddd86abfc7c2c4a016e": {
          "model_module": "@jupyter-widgets/controls",
          "model_name": "HBoxModel",
          "model_module_version": "1.5.0",
          "state": {
            "_view_name": "HBoxView",
            "_dom_classes": [],
            "_model_name": "HBoxModel",
            "_view_module": "@jupyter-widgets/controls",
            "_model_module_version": "1.5.0",
            "_view_count": null,
            "_view_module_version": "1.5.0",
            "box_style": "",
            "layout": "IPY_MODEL_cb848350135b4d5f8e629ab159289961",
            "_model_module": "@jupyter-widgets/controls",
            "children": [
              "IPY_MODEL_7cebfd368dcd4d8688946c49f116f4ed",
              "IPY_MODEL_55c425e824fc46b18729776697e9d971"
            ]
          }
        },
        "cb848350135b4d5f8e629ab159289961": {
          "model_module": "@jupyter-widgets/base",
          "model_name": "LayoutModel",
          "model_module_version": "1.2.0",
          "state": {
            "_view_name": "LayoutView",
            "grid_template_rows": null,
            "right": null,
            "justify_content": null,
            "_view_module": "@jupyter-widgets/base",
            "overflow": null,
            "_model_module_version": "1.2.0",
            "_view_count": null,
            "flex_flow": null,
            "width": null,
            "min_width": null,
            "border": null,
            "align_items": null,
            "bottom": null,
            "_model_module": "@jupyter-widgets/base",
            "top": null,
            "grid_column": null,
            "overflow_y": null,
            "overflow_x": null,
            "grid_auto_flow": null,
            "grid_area": null,
            "grid_template_columns": null,
            "flex": null,
            "_model_name": "LayoutModel",
            "justify_items": null,
            "grid_row": null,
            "max_height": null,
            "align_content": null,
            "visibility": null,
            "align_self": null,
            "height": null,
            "min_height": null,
            "padding": null,
            "grid_auto_rows": null,
            "grid_gap": null,
            "max_width": null,
            "order": null,
            "_view_module_version": "1.2.0",
            "grid_template_areas": null,
            "object_position": null,
            "object_fit": null,
            "grid_auto_columns": null,
            "margin": null,
            "display": null,
            "left": null
          }
        },
        "7cebfd368dcd4d8688946c49f116f4ed": {
          "model_module": "@jupyter-widgets/controls",
          "model_name": "FloatProgressModel",
          "model_module_version": "1.5.0",
          "state": {
            "_view_name": "ProgressView",
            "style": "IPY_MODEL_dd16fcee871343a3ad7650dc4cc4aad9",
            "_dom_classes": [],
            "description": "Downloading: 100%",
            "_model_name": "FloatProgressModel",
            "bar_style": "success",
            "max": 1222317369,
            "_view_module": "@jupyter-widgets/controls",
            "_model_module_version": "1.5.0",
            "value": 1222317369,
            "_view_count": null,
            "_view_module_version": "1.5.0",
            "orientation": "horizontal",
            "min": 0,
            "description_tooltip": null,
            "_model_module": "@jupyter-widgets/controls",
            "layout": "IPY_MODEL_6d9b3c8fe2ac4733b275575ecaf61ca8"
          }
        },
        "55c425e824fc46b18729776697e9d971": {
          "model_module": "@jupyter-widgets/controls",
          "model_name": "HTMLModel",
          "model_module_version": "1.5.0",
          "state": {
            "_view_name": "HTMLView",
            "style": "IPY_MODEL_b33afa33a0f6408095d4195897081a51",
            "_dom_classes": [],
            "description": "",
            "_model_name": "HTMLModel",
            "placeholder": "​",
            "_view_module": "@jupyter-widgets/controls",
            "_model_module_version": "1.5.0",
            "value": " 1.22G/1.22G [00:34&lt;00:00, 35.4MB/s]",
            "_view_count": null,
            "_view_module_version": "1.5.0",
            "description_tooltip": null,
            "_model_module": "@jupyter-widgets/controls",
            "layout": "IPY_MODEL_357bc3da8ce44eeb8c106ec8a7045448"
          }
        },
        "dd16fcee871343a3ad7650dc4cc4aad9": {
          "model_module": "@jupyter-widgets/controls",
          "model_name": "ProgressStyleModel",
          "model_module_version": "1.5.0",
          "state": {
            "_view_name": "StyleView",
            "_model_name": "ProgressStyleModel",
            "description_width": "initial",
            "_view_module": "@jupyter-widgets/base",
            "_model_module_version": "1.5.0",
            "_view_count": null,
            "_view_module_version": "1.2.0",
            "bar_color": null,
            "_model_module": "@jupyter-widgets/controls"
          }
        },
        "6d9b3c8fe2ac4733b275575ecaf61ca8": {
          "model_module": "@jupyter-widgets/base",
          "model_name": "LayoutModel",
          "model_module_version": "1.2.0",
          "state": {
            "_view_name": "LayoutView",
            "grid_template_rows": null,
            "right": null,
            "justify_content": null,
            "_view_module": "@jupyter-widgets/base",
            "overflow": null,
            "_model_module_version": "1.2.0",
            "_view_count": null,
            "flex_flow": null,
            "width": null,
            "min_width": null,
            "border": null,
            "align_items": null,
            "bottom": null,
            "_model_module": "@jupyter-widgets/base",
            "top": null,
            "grid_column": null,
            "overflow_y": null,
            "overflow_x": null,
            "grid_auto_flow": null,
            "grid_area": null,
            "grid_template_columns": null,
            "flex": null,
            "_model_name": "LayoutModel",
            "justify_items": null,
            "grid_row": null,
            "max_height": null,
            "align_content": null,
            "visibility": null,
            "align_self": null,
            "height": null,
            "min_height": null,
            "padding": null,
            "grid_auto_rows": null,
            "grid_gap": null,
            "max_width": null,
            "order": null,
            "_view_module_version": "1.2.0",
            "grid_template_areas": null,
            "object_position": null,
            "object_fit": null,
            "grid_auto_columns": null,
            "margin": null,
            "display": null,
            "left": null
          }
        },
        "b33afa33a0f6408095d4195897081a51": {
          "model_module": "@jupyter-widgets/controls",
          "model_name": "DescriptionStyleModel",
          "model_module_version": "1.5.0",
          "state": {
            "_view_name": "StyleView",
            "_model_name": "DescriptionStyleModel",
            "description_width": "",
            "_view_module": "@jupyter-widgets/base",
            "_model_module_version": "1.5.0",
            "_view_count": null,
            "_view_module_version": "1.2.0",
            "_model_module": "@jupyter-widgets/controls"
          }
        },
        "357bc3da8ce44eeb8c106ec8a7045448": {
          "model_module": "@jupyter-widgets/base",
          "model_name": "LayoutModel",
          "model_module_version": "1.2.0",
          "state": {
            "_view_name": "LayoutView",
            "grid_template_rows": null,
            "right": null,
            "justify_content": null,
            "_view_module": "@jupyter-widgets/base",
            "overflow": null,
            "_model_module_version": "1.2.0",
            "_view_count": null,
            "flex_flow": null,
            "width": null,
            "min_width": null,
            "border": null,
            "align_items": null,
            "bottom": null,
            "_model_module": "@jupyter-widgets/base",
            "top": null,
            "grid_column": null,
            "overflow_y": null,
            "overflow_x": null,
            "grid_auto_flow": null,
            "grid_area": null,
            "grid_template_columns": null,
            "flex": null,
            "_model_name": "LayoutModel",
            "justify_items": null,
            "grid_row": null,
            "max_height": null,
            "align_content": null,
            "visibility": null,
            "align_self": null,
            "height": null,
            "min_height": null,
            "padding": null,
            "grid_auto_rows": null,
            "grid_gap": null,
            "max_width": null,
            "order": null,
            "_view_module_version": "1.2.0",
            "grid_template_areas": null,
            "object_position": null,
            "object_fit": null,
            "grid_auto_columns": null,
            "margin": null,
            "display": null,
            "left": null
          }
        },
        "56036ebc428142d194cf5d7eec3422d0": {
          "model_module": "@jupyter-widgets/controls",
          "model_name": "HBoxModel",
          "model_module_version": "1.5.0",
          "state": {
            "_view_name": "HBoxView",
            "_dom_classes": [],
            "_model_name": "HBoxModel",
            "_view_module": "@jupyter-widgets/controls",
            "_model_module_version": "1.5.0",
            "_view_count": null,
            "_view_module_version": "1.5.0",
            "box_style": "",
            "layout": "IPY_MODEL_25c0f41bf3aa4a79bb3ff31db0f772a6",
            "_model_module": "@jupyter-widgets/controls",
            "children": [
              "IPY_MODEL_e227bac5970248038342be3c0ef6794e",
              "IPY_MODEL_18431cd59e26423596f5461ccb116499"
            ]
          }
        },
        "25c0f41bf3aa4a79bb3ff31db0f772a6": {
          "model_module": "@jupyter-widgets/base",
          "model_name": "LayoutModel",
          "model_module_version": "1.2.0",
          "state": {
            "_view_name": "LayoutView",
            "grid_template_rows": null,
            "right": null,
            "justify_content": null,
            "_view_module": "@jupyter-widgets/base",
            "overflow": null,
            "_model_module_version": "1.2.0",
            "_view_count": null,
            "flex_flow": null,
            "width": null,
            "min_width": null,
            "border": null,
            "align_items": null,
            "bottom": null,
            "_model_module": "@jupyter-widgets/base",
            "top": null,
            "grid_column": null,
            "overflow_y": null,
            "overflow_x": null,
            "grid_auto_flow": null,
            "grid_area": null,
            "grid_template_columns": null,
            "flex": null,
            "_model_name": "LayoutModel",
            "justify_items": null,
            "grid_row": null,
            "max_height": null,
            "align_content": null,
            "visibility": null,
            "align_self": null,
            "height": null,
            "min_height": null,
            "padding": null,
            "grid_auto_rows": null,
            "grid_gap": null,
            "max_width": null,
            "order": null,
            "_view_module_version": "1.2.0",
            "grid_template_areas": null,
            "object_position": null,
            "object_fit": null,
            "grid_auto_columns": null,
            "margin": null,
            "display": null,
            "left": null
          }
        },
        "e227bac5970248038342be3c0ef6794e": {
          "model_module": "@jupyter-widgets/controls",
          "model_name": "FloatProgressModel",
          "model_module_version": "1.5.0",
          "state": {
            "_view_name": "ProgressView",
            "style": "IPY_MODEL_92710135f2f14504b9d4ea9e7e50d3b7",
            "_dom_classes": [],
            "description": "Downloading: 100%",
            "_model_name": "FloatProgressModel",
            "bar_style": "success",
            "max": 26,
            "_view_module": "@jupyter-widgets/controls",
            "_model_module_version": "1.5.0",
            "value": 26,
            "_view_count": null,
            "_view_module_version": "1.5.0",
            "orientation": "horizontal",
            "min": 0,
            "description_tooltip": null,
            "_model_module": "@jupyter-widgets/controls",
            "layout": "IPY_MODEL_a95a27a70f6d46949d336dc601af2530"
          }
        },
        "18431cd59e26423596f5461ccb116499": {
          "model_module": "@jupyter-widgets/controls",
          "model_name": "HTMLModel",
          "model_module_version": "1.5.0",
          "state": {
            "_view_name": "HTMLView",
            "style": "IPY_MODEL_20f38cf74f3c434bb49eda8d56c8607d",
            "_dom_classes": [],
            "description": "",
            "_model_name": "HTMLModel",
            "placeholder": "​",
            "_view_module": "@jupyter-widgets/controls",
            "_model_module_version": "1.5.0",
            "value": " 26.0/26.0 [00:00&lt;00:00, 69.7B/s]",
            "_view_count": null,
            "_view_module_version": "1.5.0",
            "description_tooltip": null,
            "_model_module": "@jupyter-widgets/controls",
            "layout": "IPY_MODEL_2c73fc6ae2974f10b979b9b3454510f1"
          }
        },
        "92710135f2f14504b9d4ea9e7e50d3b7": {
          "model_module": "@jupyter-widgets/controls",
          "model_name": "ProgressStyleModel",
          "model_module_version": "1.5.0",
          "state": {
            "_view_name": "StyleView",
            "_model_name": "ProgressStyleModel",
            "description_width": "initial",
            "_view_module": "@jupyter-widgets/base",
            "_model_module_version": "1.5.0",
            "_view_count": null,
            "_view_module_version": "1.2.0",
            "bar_color": null,
            "_model_module": "@jupyter-widgets/controls"
          }
        },
        "a95a27a70f6d46949d336dc601af2530": {
          "model_module": "@jupyter-widgets/base",
          "model_name": "LayoutModel",
          "model_module_version": "1.2.0",
          "state": {
            "_view_name": "LayoutView",
            "grid_template_rows": null,
            "right": null,
            "justify_content": null,
            "_view_module": "@jupyter-widgets/base",
            "overflow": null,
            "_model_module_version": "1.2.0",
            "_view_count": null,
            "flex_flow": null,
            "width": null,
            "min_width": null,
            "border": null,
            "align_items": null,
            "bottom": null,
            "_model_module": "@jupyter-widgets/base",
            "top": null,
            "grid_column": null,
            "overflow_y": null,
            "overflow_x": null,
            "grid_auto_flow": null,
            "grid_area": null,
            "grid_template_columns": null,
            "flex": null,
            "_model_name": "LayoutModel",
            "justify_items": null,
            "grid_row": null,
            "max_height": null,
            "align_content": null,
            "visibility": null,
            "align_self": null,
            "height": null,
            "min_height": null,
            "padding": null,
            "grid_auto_rows": null,
            "grid_gap": null,
            "max_width": null,
            "order": null,
            "_view_module_version": "1.2.0",
            "grid_template_areas": null,
            "object_position": null,
            "object_fit": null,
            "grid_auto_columns": null,
            "margin": null,
            "display": null,
            "left": null
          }
        },
        "20f38cf74f3c434bb49eda8d56c8607d": {
          "model_module": "@jupyter-widgets/controls",
          "model_name": "DescriptionStyleModel",
          "model_module_version": "1.5.0",
          "state": {
            "_view_name": "StyleView",
            "_model_name": "DescriptionStyleModel",
            "description_width": "",
            "_view_module": "@jupyter-widgets/base",
            "_model_module_version": "1.5.0",
            "_view_count": null,
            "_view_module_version": "1.2.0",
            "_model_module": "@jupyter-widgets/controls"
          }
        },
        "2c73fc6ae2974f10b979b9b3454510f1": {
          "model_module": "@jupyter-widgets/base",
          "model_name": "LayoutModel",
          "model_module_version": "1.2.0",
          "state": {
            "_view_name": "LayoutView",
            "grid_template_rows": null,
            "right": null,
            "justify_content": null,
            "_view_module": "@jupyter-widgets/base",
            "overflow": null,
            "_model_module_version": "1.2.0",
            "_view_count": null,
            "flex_flow": null,
            "width": null,
            "min_width": null,
            "border": null,
            "align_items": null,
            "bottom": null,
            "_model_module": "@jupyter-widgets/base",
            "top": null,
            "grid_column": null,
            "overflow_y": null,
            "overflow_x": null,
            "grid_auto_flow": null,
            "grid_area": null,
            "grid_template_columns": null,
            "flex": null,
            "_model_name": "LayoutModel",
            "justify_items": null,
            "grid_row": null,
            "max_height": null,
            "align_content": null,
            "visibility": null,
            "align_self": null,
            "height": null,
            "min_height": null,
            "padding": null,
            "grid_auto_rows": null,
            "grid_gap": null,
            "max_width": null,
            "order": null,
            "_view_module_version": "1.2.0",
            "grid_template_areas": null,
            "object_position": null,
            "object_fit": null,
            "grid_auto_columns": null,
            "margin": null,
            "display": null,
            "left": null
          }
        },
        "dfa871077ef14db8ada176c1f7852a96": {
          "model_module": "@jupyter-widgets/controls",
          "model_name": "HBoxModel",
          "model_module_version": "1.5.0",
          "state": {
            "_view_name": "HBoxView",
            "_dom_classes": [],
            "_model_name": "HBoxModel",
            "_view_module": "@jupyter-widgets/controls",
            "_model_module_version": "1.5.0",
            "_view_count": null,
            "_view_module_version": "1.5.0",
            "box_style": "",
            "layout": "IPY_MODEL_7c7f0157ac5c456f9c47ba8ebea2ffac",
            "_model_module": "@jupyter-widgets/controls",
            "children": [
              "IPY_MODEL_3aaf8771de8a4bd1b87d913f7b9f2ac0",
              "IPY_MODEL_931db14464704e19bb585e8d9b376b8f"
            ]
          }
        },
        "7c7f0157ac5c456f9c47ba8ebea2ffac": {
          "model_module": "@jupyter-widgets/base",
          "model_name": "LayoutModel",
          "model_module_version": "1.2.0",
          "state": {
            "_view_name": "LayoutView",
            "grid_template_rows": null,
            "right": null,
            "justify_content": null,
            "_view_module": "@jupyter-widgets/base",
            "overflow": null,
            "_model_module_version": "1.2.0",
            "_view_count": null,
            "flex_flow": null,
            "width": null,
            "min_width": null,
            "border": null,
            "align_items": null,
            "bottom": null,
            "_model_module": "@jupyter-widgets/base",
            "top": null,
            "grid_column": null,
            "overflow_y": null,
            "overflow_x": null,
            "grid_auto_flow": null,
            "grid_area": null,
            "grid_template_columns": null,
            "flex": null,
            "_model_name": "LayoutModel",
            "justify_items": null,
            "grid_row": null,
            "max_height": null,
            "align_content": null,
            "visibility": null,
            "align_self": null,
            "height": null,
            "min_height": null,
            "padding": null,
            "grid_auto_rows": null,
            "grid_gap": null,
            "max_width": null,
            "order": null,
            "_view_module_version": "1.2.0",
            "grid_template_areas": null,
            "object_position": null,
            "object_fit": null,
            "grid_auto_columns": null,
            "margin": null,
            "display": null,
            "left": null
          }
        },
        "3aaf8771de8a4bd1b87d913f7b9f2ac0": {
          "model_module": "@jupyter-widgets/controls",
          "model_name": "FloatProgressModel",
          "model_module_version": "1.5.0",
          "state": {
            "_view_name": "ProgressView",
            "style": "IPY_MODEL_dfea37f05fcc45e3a6574ec5530f927b",
            "_dom_classes": [],
            "description": "Downloading: 100%",
            "_model_name": "FloatProgressModel",
            "bar_style": "success",
            "max": 898822,
            "_view_module": "@jupyter-widgets/controls",
            "_model_module_version": "1.5.0",
            "value": 898822,
            "_view_count": null,
            "_view_module_version": "1.5.0",
            "orientation": "horizontal",
            "min": 0,
            "description_tooltip": null,
            "_model_module": "@jupyter-widgets/controls",
            "layout": "IPY_MODEL_47a92846c52f461fac39d150f0660693"
          }
        },
        "931db14464704e19bb585e8d9b376b8f": {
          "model_module": "@jupyter-widgets/controls",
          "model_name": "HTMLModel",
          "model_module_version": "1.5.0",
          "state": {
            "_view_name": "HTMLView",
            "style": "IPY_MODEL_569dbedbab154a478f1d19336a812e5f",
            "_dom_classes": [],
            "description": "",
            "_model_name": "HTMLModel",
            "placeholder": "​",
            "_view_module": "@jupyter-widgets/controls",
            "_model_module_version": "1.5.0",
            "value": " 899k/899k [00:00&lt;00:00, 949kB/s]",
            "_view_count": null,
            "_view_module_version": "1.5.0",
            "description_tooltip": null,
            "_model_module": "@jupyter-widgets/controls",
            "layout": "IPY_MODEL_cf1425ccd2914d8f92a422026546833d"
          }
        },
        "dfea37f05fcc45e3a6574ec5530f927b": {
          "model_module": "@jupyter-widgets/controls",
          "model_name": "ProgressStyleModel",
          "model_module_version": "1.5.0",
          "state": {
            "_view_name": "StyleView",
            "_model_name": "ProgressStyleModel",
            "description_width": "initial",
            "_view_module": "@jupyter-widgets/base",
            "_model_module_version": "1.5.0",
            "_view_count": null,
            "_view_module_version": "1.2.0",
            "bar_color": null,
            "_model_module": "@jupyter-widgets/controls"
          }
        },
        "47a92846c52f461fac39d150f0660693": {
          "model_module": "@jupyter-widgets/base",
          "model_name": "LayoutModel",
          "model_module_version": "1.2.0",
          "state": {
            "_view_name": "LayoutView",
            "grid_template_rows": null,
            "right": null,
            "justify_content": null,
            "_view_module": "@jupyter-widgets/base",
            "overflow": null,
            "_model_module_version": "1.2.0",
            "_view_count": null,
            "flex_flow": null,
            "width": null,
            "min_width": null,
            "border": null,
            "align_items": null,
            "bottom": null,
            "_model_module": "@jupyter-widgets/base",
            "top": null,
            "grid_column": null,
            "overflow_y": null,
            "overflow_x": null,
            "grid_auto_flow": null,
            "grid_area": null,
            "grid_template_columns": null,
            "flex": null,
            "_model_name": "LayoutModel",
            "justify_items": null,
            "grid_row": null,
            "max_height": null,
            "align_content": null,
            "visibility": null,
            "align_self": null,
            "height": null,
            "min_height": null,
            "padding": null,
            "grid_auto_rows": null,
            "grid_gap": null,
            "max_width": null,
            "order": null,
            "_view_module_version": "1.2.0",
            "grid_template_areas": null,
            "object_position": null,
            "object_fit": null,
            "grid_auto_columns": null,
            "margin": null,
            "display": null,
            "left": null
          }
        },
        "569dbedbab154a478f1d19336a812e5f": {
          "model_module": "@jupyter-widgets/controls",
          "model_name": "DescriptionStyleModel",
          "model_module_version": "1.5.0",
          "state": {
            "_view_name": "StyleView",
            "_model_name": "DescriptionStyleModel",
            "description_width": "",
            "_view_module": "@jupyter-widgets/base",
            "_model_module_version": "1.5.0",
            "_view_count": null,
            "_view_module_version": "1.2.0",
            "_model_module": "@jupyter-widgets/controls"
          }
        },
        "cf1425ccd2914d8f92a422026546833d": {
          "model_module": "@jupyter-widgets/base",
          "model_name": "LayoutModel",
          "model_module_version": "1.2.0",
          "state": {
            "_view_name": "LayoutView",
            "grid_template_rows": null,
            "right": null,
            "justify_content": null,
            "_view_module": "@jupyter-widgets/base",
            "overflow": null,
            "_model_module_version": "1.2.0",
            "_view_count": null,
            "flex_flow": null,
            "width": null,
            "min_width": null,
            "border": null,
            "align_items": null,
            "bottom": null,
            "_model_module": "@jupyter-widgets/base",
            "top": null,
            "grid_column": null,
            "overflow_y": null,
            "overflow_x": null,
            "grid_auto_flow": null,
            "grid_area": null,
            "grid_template_columns": null,
            "flex": null,
            "_model_name": "LayoutModel",
            "justify_items": null,
            "grid_row": null,
            "max_height": null,
            "align_content": null,
            "visibility": null,
            "align_self": null,
            "height": null,
            "min_height": null,
            "padding": null,
            "grid_auto_rows": null,
            "grid_gap": null,
            "max_width": null,
            "order": null,
            "_view_module_version": "1.2.0",
            "grid_template_areas": null,
            "object_position": null,
            "object_fit": null,
            "grid_auto_columns": null,
            "margin": null,
            "display": null,
            "left": null
          }
        },
        "fdf90002e1fd4a52ace7aeeb071c1f71": {
          "model_module": "@jupyter-widgets/controls",
          "model_name": "HBoxModel",
          "model_module_version": "1.5.0",
          "state": {
            "_view_name": "HBoxView",
            "_dom_classes": [],
            "_model_name": "HBoxModel",
            "_view_module": "@jupyter-widgets/controls",
            "_model_module_version": "1.5.0",
            "_view_count": null,
            "_view_module_version": "1.5.0",
            "box_style": "",
            "layout": "IPY_MODEL_cec7cd6ef853406c897aed8283e111a0",
            "_model_module": "@jupyter-widgets/controls",
            "children": [
              "IPY_MODEL_0da9318ba1ff4452ba1f8a8419336611",
              "IPY_MODEL_d3e5ce9e8cbf4d0392bdce7a0baa6db2"
            ]
          }
        },
        "cec7cd6ef853406c897aed8283e111a0": {
          "model_module": "@jupyter-widgets/base",
          "model_name": "LayoutModel",
          "model_module_version": "1.2.0",
          "state": {
            "_view_name": "LayoutView",
            "grid_template_rows": null,
            "right": null,
            "justify_content": null,
            "_view_module": "@jupyter-widgets/base",
            "overflow": null,
            "_model_module_version": "1.2.0",
            "_view_count": null,
            "flex_flow": null,
            "width": null,
            "min_width": null,
            "border": null,
            "align_items": null,
            "bottom": null,
            "_model_module": "@jupyter-widgets/base",
            "top": null,
            "grid_column": null,
            "overflow_y": null,
            "overflow_x": null,
            "grid_auto_flow": null,
            "grid_area": null,
            "grid_template_columns": null,
            "flex": null,
            "_model_name": "LayoutModel",
            "justify_items": null,
            "grid_row": null,
            "max_height": null,
            "align_content": null,
            "visibility": null,
            "align_self": null,
            "height": null,
            "min_height": null,
            "padding": null,
            "grid_auto_rows": null,
            "grid_gap": null,
            "max_width": null,
            "order": null,
            "_view_module_version": "1.2.0",
            "grid_template_areas": null,
            "object_position": null,
            "object_fit": null,
            "grid_auto_columns": null,
            "margin": null,
            "display": null,
            "left": null
          }
        },
        "0da9318ba1ff4452ba1f8a8419336611": {
          "model_module": "@jupyter-widgets/controls",
          "model_name": "FloatProgressModel",
          "model_module_version": "1.5.0",
          "state": {
            "_view_name": "ProgressView",
            "style": "IPY_MODEL_697c581fdc5946578e33200351702971",
            "_dom_classes": [],
            "description": "Downloading: 100%",
            "_model_name": "FloatProgressModel",
            "bar_style": "success",
            "max": 456318,
            "_view_module": "@jupyter-widgets/controls",
            "_model_module_version": "1.5.0",
            "value": 456318,
            "_view_count": null,
            "_view_module_version": "1.5.0",
            "orientation": "horizontal",
            "min": 0,
            "description_tooltip": null,
            "_model_module": "@jupyter-widgets/controls",
            "layout": "IPY_MODEL_c4d6f217ba0744828c1c01768418af67"
          }
        },
        "d3e5ce9e8cbf4d0392bdce7a0baa6db2": {
          "model_module": "@jupyter-widgets/controls",
          "model_name": "HTMLModel",
          "model_module_version": "1.5.0",
          "state": {
            "_view_name": "HTMLView",
            "style": "IPY_MODEL_147626a2a430404c8c4a5f74e9962075",
            "_dom_classes": [],
            "description": "",
            "_model_name": "HTMLModel",
            "placeholder": "​",
            "_view_module": "@jupyter-widgets/controls",
            "_model_module_version": "1.5.0",
            "value": " 456k/456k [00:00&lt;00:00, 692kB/s]",
            "_view_count": null,
            "_view_module_version": "1.5.0",
            "description_tooltip": null,
            "_model_module": "@jupyter-widgets/controls",
            "layout": "IPY_MODEL_d92ebe08d7534eca922d7eeb6c6e374d"
          }
        },
        "697c581fdc5946578e33200351702971": {
          "model_module": "@jupyter-widgets/controls",
          "model_name": "ProgressStyleModel",
          "model_module_version": "1.5.0",
          "state": {
            "_view_name": "StyleView",
            "_model_name": "ProgressStyleModel",
            "description_width": "initial",
            "_view_module": "@jupyter-widgets/base",
            "_model_module_version": "1.5.0",
            "_view_count": null,
            "_view_module_version": "1.2.0",
            "bar_color": null,
            "_model_module": "@jupyter-widgets/controls"
          }
        },
        "c4d6f217ba0744828c1c01768418af67": {
          "model_module": "@jupyter-widgets/base",
          "model_name": "LayoutModel",
          "model_module_version": "1.2.0",
          "state": {
            "_view_name": "LayoutView",
            "grid_template_rows": null,
            "right": null,
            "justify_content": null,
            "_view_module": "@jupyter-widgets/base",
            "overflow": null,
            "_model_module_version": "1.2.0",
            "_view_count": null,
            "flex_flow": null,
            "width": null,
            "min_width": null,
            "border": null,
            "align_items": null,
            "bottom": null,
            "_model_module": "@jupyter-widgets/base",
            "top": null,
            "grid_column": null,
            "overflow_y": null,
            "overflow_x": null,
            "grid_auto_flow": null,
            "grid_area": null,
            "grid_template_columns": null,
            "flex": null,
            "_model_name": "LayoutModel",
            "justify_items": null,
            "grid_row": null,
            "max_height": null,
            "align_content": null,
            "visibility": null,
            "align_self": null,
            "height": null,
            "min_height": null,
            "padding": null,
            "grid_auto_rows": null,
            "grid_gap": null,
            "max_width": null,
            "order": null,
            "_view_module_version": "1.2.0",
            "grid_template_areas": null,
            "object_position": null,
            "object_fit": null,
            "grid_auto_columns": null,
            "margin": null,
            "display": null,
            "left": null
          }
        },
        "147626a2a430404c8c4a5f74e9962075": {
          "model_module": "@jupyter-widgets/controls",
          "model_name": "DescriptionStyleModel",
          "model_module_version": "1.5.0",
          "state": {
            "_view_name": "StyleView",
            "_model_name": "DescriptionStyleModel",
            "description_width": "",
            "_view_module": "@jupyter-widgets/base",
            "_model_module_version": "1.5.0",
            "_view_count": null,
            "_view_module_version": "1.2.0",
            "_model_module": "@jupyter-widgets/controls"
          }
        },
        "d92ebe08d7534eca922d7eeb6c6e374d": {
          "model_module": "@jupyter-widgets/base",
          "model_name": "LayoutModel",
          "model_module_version": "1.2.0",
          "state": {
            "_view_name": "LayoutView",
            "grid_template_rows": null,
            "right": null,
            "justify_content": null,
            "_view_module": "@jupyter-widgets/base",
            "overflow": null,
            "_model_module_version": "1.2.0",
            "_view_count": null,
            "flex_flow": null,
            "width": null,
            "min_width": null,
            "border": null,
            "align_items": null,
            "bottom": null,
            "_model_module": "@jupyter-widgets/base",
            "top": null,
            "grid_column": null,
            "overflow_y": null,
            "overflow_x": null,
            "grid_auto_flow": null,
            "grid_area": null,
            "grid_template_columns": null,
            "flex": null,
            "_model_name": "LayoutModel",
            "justify_items": null,
            "grid_row": null,
            "max_height": null,
            "align_content": null,
            "visibility": null,
            "align_self": null,
            "height": null,
            "min_height": null,
            "padding": null,
            "grid_auto_rows": null,
            "grid_gap": null,
            "max_width": null,
            "order": null,
            "_view_module_version": "1.2.0",
            "grid_template_areas": null,
            "object_position": null,
            "object_fit": null,
            "grid_auto_columns": null,
            "margin": null,
            "display": null,
            "left": null
          }
        },
        "38731e9d2bf04abe932d88b24aa4b021": {
          "model_module": "@jupyter-widgets/controls",
          "model_name": "HBoxModel",
          "model_module_version": "1.5.0",
          "state": {
            "_view_name": "HBoxView",
            "_dom_classes": [],
            "_model_name": "HBoxModel",
            "_view_module": "@jupyter-widgets/controls",
            "_model_module_version": "1.5.0",
            "_view_count": null,
            "_view_module_version": "1.5.0",
            "box_style": "",
            "layout": "IPY_MODEL_2c62735086c64f25af848e800792e61e",
            "_model_module": "@jupyter-widgets/controls",
            "children": [
              "IPY_MODEL_235b05bb6b17494faf7cb92881733295",
              "IPY_MODEL_f8eb0d5000b5423ba645b7ff523f4c31",
              "IPY_MODEL_a2711456b0dc4fe8942655c09ed25580"
            ]
          }
        },
        "2c62735086c64f25af848e800792e61e": {
          "model_module": "@jupyter-widgets/base",
          "model_name": "LayoutModel",
          "model_module_version": "1.2.0",
          "state": {
            "_view_name": "LayoutView",
            "grid_template_rows": null,
            "right": null,
            "justify_content": null,
            "_view_module": "@jupyter-widgets/base",
            "overflow": null,
            "_model_module_version": "1.2.0",
            "_view_count": null,
            "flex_flow": null,
            "width": null,
            "min_width": null,
            "border": null,
            "align_items": null,
            "bottom": null,
            "_model_module": "@jupyter-widgets/base",
            "top": null,
            "grid_column": null,
            "overflow_y": null,
            "overflow_x": null,
            "grid_auto_flow": null,
            "grid_area": null,
            "grid_template_columns": null,
            "flex": null,
            "_model_name": "LayoutModel",
            "justify_items": null,
            "grid_row": null,
            "max_height": null,
            "align_content": null,
            "visibility": null,
            "align_self": null,
            "height": null,
            "min_height": null,
            "padding": null,
            "grid_auto_rows": null,
            "grid_gap": null,
            "max_width": null,
            "order": null,
            "_view_module_version": "1.2.0",
            "grid_template_areas": null,
            "object_position": null,
            "object_fit": null,
            "grid_auto_columns": null,
            "margin": null,
            "display": null,
            "left": null
          }
        },
        "235b05bb6b17494faf7cb92881733295": {
          "model_module": "@jupyter-widgets/controls",
          "model_name": "HTMLModel",
          "model_module_version": "1.5.0",
          "state": {
            "_view_name": "HTMLView",
            "style": "IPY_MODEL_02b3760897474dbf98195177a3215fea",
            "_dom_classes": [],
            "description": "",
            "_model_name": "HTMLModel",
            "placeholder": "​",
            "_view_module": "@jupyter-widgets/controls",
            "_model_module_version": "1.5.0",
            "value": "Downloading: 100%",
            "_view_count": null,
            "_view_module_version": "1.5.0",
            "description_tooltip": null,
            "_model_module": "@jupyter-widgets/controls",
            "layout": "IPY_MODEL_aac5c85f1bbd433382b8a8d16a4fe8dc"
          }
        },
        "f8eb0d5000b5423ba645b7ff523f4c31": {
          "model_module": "@jupyter-widgets/controls",
          "model_name": "FloatProgressModel",
          "model_module_version": "1.5.0",
          "state": {
            "_view_name": "ProgressView",
            "style": "IPY_MODEL_ba61af935f224880ac3e9a63d036f9ec",
            "_dom_classes": [],
            "description": "",
            "_model_name": "FloatProgressModel",
            "bar_style": "success",
            "max": 646181,
            "_view_module": "@jupyter-widgets/controls",
            "_model_module_version": "1.5.0",
            "value": 646181,
            "_view_count": null,
            "_view_module_version": "1.5.0",
            "orientation": "horizontal",
            "min": 0,
            "description_tooltip": null,
            "_model_module": "@jupyter-widgets/controls",
            "layout": "IPY_MODEL_f173d944f1044bad99702933d0aed880"
          }
        },
        "a2711456b0dc4fe8942655c09ed25580": {
          "model_module": "@jupyter-widgets/controls",
          "model_name": "HTMLModel",
          "model_module_version": "1.5.0",
          "state": {
            "_view_name": "HTMLView",
            "style": "IPY_MODEL_66c194c52b3b4aeda092687539f893e4",
            "_dom_classes": [],
            "description": "",
            "_model_name": "HTMLModel",
            "placeholder": "​",
            "_view_module": "@jupyter-widgets/controls",
            "_model_module_version": "1.5.0",
            "value": " 646k/646k [00:00&lt;00:00, 7.32MB/s]",
            "_view_count": null,
            "_view_module_version": "1.5.0",
            "description_tooltip": null,
            "_model_module": "@jupyter-widgets/controls",
            "layout": "IPY_MODEL_7bf499053a924ab38b52929e1bdfc0ab"
          }
        },
        "02b3760897474dbf98195177a3215fea": {
          "model_module": "@jupyter-widgets/controls",
          "model_name": "DescriptionStyleModel",
          "model_module_version": "1.5.0",
          "state": {
            "_view_name": "StyleView",
            "_model_name": "DescriptionStyleModel",
            "description_width": "",
            "_view_module": "@jupyter-widgets/base",
            "_model_module_version": "1.5.0",
            "_view_count": null,
            "_view_module_version": "1.2.0",
            "_model_module": "@jupyter-widgets/controls"
          }
        },
        "aac5c85f1bbd433382b8a8d16a4fe8dc": {
          "model_module": "@jupyter-widgets/base",
          "model_name": "LayoutModel",
          "model_module_version": "1.2.0",
          "state": {
            "_view_name": "LayoutView",
            "grid_template_rows": null,
            "right": null,
            "justify_content": null,
            "_view_module": "@jupyter-widgets/base",
            "overflow": null,
            "_model_module_version": "1.2.0",
            "_view_count": null,
            "flex_flow": null,
            "width": null,
            "min_width": null,
            "border": null,
            "align_items": null,
            "bottom": null,
            "_model_module": "@jupyter-widgets/base",
            "top": null,
            "grid_column": null,
            "overflow_y": null,
            "overflow_x": null,
            "grid_auto_flow": null,
            "grid_area": null,
            "grid_template_columns": null,
            "flex": null,
            "_model_name": "LayoutModel",
            "justify_items": null,
            "grid_row": null,
            "max_height": null,
            "align_content": null,
            "visibility": null,
            "align_self": null,
            "height": null,
            "min_height": null,
            "padding": null,
            "grid_auto_rows": null,
            "grid_gap": null,
            "max_width": null,
            "order": null,
            "_view_module_version": "1.2.0",
            "grid_template_areas": null,
            "object_position": null,
            "object_fit": null,
            "grid_auto_columns": null,
            "margin": null,
            "display": null,
            "left": null
          }
        },
        "ba61af935f224880ac3e9a63d036f9ec": {
          "model_module": "@jupyter-widgets/controls",
          "model_name": "ProgressStyleModel",
          "model_module_version": "1.5.0",
          "state": {
            "_view_name": "StyleView",
            "_model_name": "ProgressStyleModel",
            "description_width": "",
            "_view_module": "@jupyter-widgets/base",
            "_model_module_version": "1.5.0",
            "_view_count": null,
            "_view_module_version": "1.2.0",
            "bar_color": null,
            "_model_module": "@jupyter-widgets/controls"
          }
        },
        "f173d944f1044bad99702933d0aed880": {
          "model_module": "@jupyter-widgets/base",
          "model_name": "LayoutModel",
          "model_module_version": "1.2.0",
          "state": {
            "_view_name": "LayoutView",
            "grid_template_rows": null,
            "right": null,
            "justify_content": null,
            "_view_module": "@jupyter-widgets/base",
            "overflow": null,
            "_model_module_version": "1.2.0",
            "_view_count": null,
            "flex_flow": null,
            "width": null,
            "min_width": null,
            "border": null,
            "align_items": null,
            "bottom": null,
            "_model_module": "@jupyter-widgets/base",
            "top": null,
            "grid_column": null,
            "overflow_y": null,
            "overflow_x": null,
            "grid_auto_flow": null,
            "grid_area": null,
            "grid_template_columns": null,
            "flex": null,
            "_model_name": "LayoutModel",
            "justify_items": null,
            "grid_row": null,
            "max_height": null,
            "align_content": null,
            "visibility": null,
            "align_self": null,
            "height": null,
            "min_height": null,
            "padding": null,
            "grid_auto_rows": null,
            "grid_gap": null,
            "max_width": null,
            "order": null,
            "_view_module_version": "1.2.0",
            "grid_template_areas": null,
            "object_position": null,
            "object_fit": null,
            "grid_auto_columns": null,
            "margin": null,
            "display": null,
            "left": null
          }
        },
        "66c194c52b3b4aeda092687539f893e4": {
          "model_module": "@jupyter-widgets/controls",
          "model_name": "DescriptionStyleModel",
          "model_module_version": "1.5.0",
          "state": {
            "_view_name": "StyleView",
            "_model_name": "DescriptionStyleModel",
            "description_width": "",
            "_view_module": "@jupyter-widgets/base",
            "_model_module_version": "1.5.0",
            "_view_count": null,
            "_view_module_version": "1.2.0",
            "_model_module": "@jupyter-widgets/controls"
          }
        },
        "7bf499053a924ab38b52929e1bdfc0ab": {
          "model_module": "@jupyter-widgets/base",
          "model_name": "LayoutModel",
          "model_module_version": "1.2.0",
          "state": {
            "_view_name": "LayoutView",
            "grid_template_rows": null,
            "right": null,
            "justify_content": null,
            "_view_module": "@jupyter-widgets/base",
            "overflow": null,
            "_model_module_version": "1.2.0",
            "_view_count": null,
            "flex_flow": null,
            "width": null,
            "min_width": null,
            "border": null,
            "align_items": null,
            "bottom": null,
            "_model_module": "@jupyter-widgets/base",
            "top": null,
            "grid_column": null,
            "overflow_y": null,
            "overflow_x": null,
            "grid_auto_flow": null,
            "grid_area": null,
            "grid_template_columns": null,
            "flex": null,
            "_model_name": "LayoutModel",
            "justify_items": null,
            "grid_row": null,
            "max_height": null,
            "align_content": null,
            "visibility": null,
            "align_self": null,
            "height": null,
            "min_height": null,
            "padding": null,
            "grid_auto_rows": null,
            "grid_gap": null,
            "max_width": null,
            "order": null,
            "_view_module_version": "1.2.0",
            "grid_template_areas": null,
            "object_position": null,
            "object_fit": null,
            "grid_auto_columns": null,
            "margin": null,
            "display": null,
            "left": null
          }
        },
        "587f0416fc504c5395f494605ae25ee5": {
          "model_module": "@jupyter-widgets/controls",
          "model_name": "HBoxModel",
          "model_module_version": "1.5.0",
          "state": {
            "_view_name": "HBoxView",
            "_dom_classes": [],
            "_model_name": "HBoxModel",
            "_view_module": "@jupyter-widgets/controls",
            "_model_module_version": "1.5.0",
            "_view_count": null,
            "_view_module_version": "1.5.0",
            "box_style": "",
            "layout": "IPY_MODEL_666cddeb02584b3daebbcfcf4f02008c",
            "_model_module": "@jupyter-widgets/controls",
            "children": [
              "IPY_MODEL_755b5c2dcc8c4b369851f1cb94722145",
              "IPY_MODEL_ff5bf482f76e415a8c294ad9f94bb2ea",
              "IPY_MODEL_9180ff64dc864de9aad4201b5ba28637"
            ]
          }
        },
        "666cddeb02584b3daebbcfcf4f02008c": {
          "model_module": "@jupyter-widgets/base",
          "model_name": "LayoutModel",
          "model_module_version": "1.2.0",
          "state": {
            "_view_name": "LayoutView",
            "grid_template_rows": null,
            "right": null,
            "justify_content": null,
            "_view_module": "@jupyter-widgets/base",
            "overflow": null,
            "_model_module_version": "1.2.0",
            "_view_count": null,
            "flex_flow": null,
            "width": null,
            "min_width": null,
            "border": null,
            "align_items": null,
            "bottom": null,
            "_model_module": "@jupyter-widgets/base",
            "top": null,
            "grid_column": null,
            "overflow_y": null,
            "overflow_x": null,
            "grid_auto_flow": null,
            "grid_area": null,
            "grid_template_columns": null,
            "flex": null,
            "_model_name": "LayoutModel",
            "justify_items": null,
            "grid_row": null,
            "max_height": null,
            "align_content": null,
            "visibility": null,
            "align_self": null,
            "height": null,
            "min_height": null,
            "padding": null,
            "grid_auto_rows": null,
            "grid_gap": null,
            "max_width": null,
            "order": null,
            "_view_module_version": "1.2.0",
            "grid_template_areas": null,
            "object_position": null,
            "object_fit": null,
            "grid_auto_columns": null,
            "margin": null,
            "display": null,
            "left": null
          }
        },
        "755b5c2dcc8c4b369851f1cb94722145": {
          "model_module": "@jupyter-widgets/controls",
          "model_name": "HTMLModel",
          "model_module_version": "1.5.0",
          "state": {
            "_view_name": "HTMLView",
            "style": "IPY_MODEL_5ce3cbb98b5a451cbbb88cf398191ce6",
            "_dom_classes": [],
            "description": "",
            "_model_name": "HTMLModel",
            "placeholder": "​",
            "_view_module": "@jupyter-widgets/controls",
            "_model_module_version": "1.5.0",
            "value": "Downloading: 100%",
            "_view_count": null,
            "_view_module_version": "1.5.0",
            "description_tooltip": null,
            "_model_module": "@jupyter-widgets/controls",
            "layout": "IPY_MODEL_3f81a32193574670adbd838187343c70"
          }
        },
        "ff5bf482f76e415a8c294ad9f94bb2ea": {
          "model_module": "@jupyter-widgets/controls",
          "model_name": "FloatProgressModel",
          "model_module_version": "1.5.0",
          "state": {
            "_view_name": "ProgressView",
            "style": "IPY_MODEL_dd431d1cc16d424ca04aa27dca357610",
            "_dom_classes": [],
            "description": "",
            "_model_name": "FloatProgressModel",
            "bar_style": "success",
            "max": 486639,
            "_view_module": "@jupyter-widgets/controls",
            "_model_module_version": "1.5.0",
            "value": 486639,
            "_view_count": null,
            "_view_module_version": "1.5.0",
            "orientation": "horizontal",
            "min": 0,
            "description_tooltip": null,
            "_model_module": "@jupyter-widgets/controls",
            "layout": "IPY_MODEL_7a485f0a42df4e8698a5b94bb7828597"
          }
        },
        "9180ff64dc864de9aad4201b5ba28637": {
          "model_module": "@jupyter-widgets/controls",
          "model_name": "HTMLModel",
          "model_module_version": "1.5.0",
          "state": {
            "_view_name": "HTMLView",
            "style": "IPY_MODEL_b49bb16843f64f8ea9a1f62a3d6ce1e7",
            "_dom_classes": [],
            "description": "",
            "_model_name": "HTMLModel",
            "placeholder": "​",
            "_view_module": "@jupyter-widgets/controls",
            "_model_module_version": "1.5.0",
            "value": " 487k/487k [00:00&lt;00:00, 5.93MB/s]",
            "_view_count": null,
            "_view_module_version": "1.5.0",
            "description_tooltip": null,
            "_model_module": "@jupyter-widgets/controls",
            "layout": "IPY_MODEL_dd64545dbc72440cae4232b0d1d9a7f1"
          }
        },
        "5ce3cbb98b5a451cbbb88cf398191ce6": {
          "model_module": "@jupyter-widgets/controls",
          "model_name": "DescriptionStyleModel",
          "model_module_version": "1.5.0",
          "state": {
            "_view_name": "StyleView",
            "_model_name": "DescriptionStyleModel",
            "description_width": "",
            "_view_module": "@jupyter-widgets/base",
            "_model_module_version": "1.5.0",
            "_view_count": null,
            "_view_module_version": "1.2.0",
            "_model_module": "@jupyter-widgets/controls"
          }
        },
        "3f81a32193574670adbd838187343c70": {
          "model_module": "@jupyter-widgets/base",
          "model_name": "LayoutModel",
          "model_module_version": "1.2.0",
          "state": {
            "_view_name": "LayoutView",
            "grid_template_rows": null,
            "right": null,
            "justify_content": null,
            "_view_module": "@jupyter-widgets/base",
            "overflow": null,
            "_model_module_version": "1.2.0",
            "_view_count": null,
            "flex_flow": null,
            "width": null,
            "min_width": null,
            "border": null,
            "align_items": null,
            "bottom": null,
            "_model_module": "@jupyter-widgets/base",
            "top": null,
            "grid_column": null,
            "overflow_y": null,
            "overflow_x": null,
            "grid_auto_flow": null,
            "grid_area": null,
            "grid_template_columns": null,
            "flex": null,
            "_model_name": "LayoutModel",
            "justify_items": null,
            "grid_row": null,
            "max_height": null,
            "align_content": null,
            "visibility": null,
            "align_self": null,
            "height": null,
            "min_height": null,
            "padding": null,
            "grid_auto_rows": null,
            "grid_gap": null,
            "max_width": null,
            "order": null,
            "_view_module_version": "1.2.0",
            "grid_template_areas": null,
            "object_position": null,
            "object_fit": null,
            "grid_auto_columns": null,
            "margin": null,
            "display": null,
            "left": null
          }
        },
        "dd431d1cc16d424ca04aa27dca357610": {
          "model_module": "@jupyter-widgets/controls",
          "model_name": "ProgressStyleModel",
          "model_module_version": "1.5.0",
          "state": {
            "_view_name": "StyleView",
            "_model_name": "ProgressStyleModel",
            "description_width": "",
            "_view_module": "@jupyter-widgets/base",
            "_model_module_version": "1.5.0",
            "_view_count": null,
            "_view_module_version": "1.2.0",
            "bar_color": null,
            "_model_module": "@jupyter-widgets/controls"
          }
        },
        "7a485f0a42df4e8698a5b94bb7828597": {
          "model_module": "@jupyter-widgets/base",
          "model_name": "LayoutModel",
          "model_module_version": "1.2.0",
          "state": {
            "_view_name": "LayoutView",
            "grid_template_rows": null,
            "right": null,
            "justify_content": null,
            "_view_module": "@jupyter-widgets/base",
            "overflow": null,
            "_model_module_version": "1.2.0",
            "_view_count": null,
            "flex_flow": null,
            "width": null,
            "min_width": null,
            "border": null,
            "align_items": null,
            "bottom": null,
            "_model_module": "@jupyter-widgets/base",
            "top": null,
            "grid_column": null,
            "overflow_y": null,
            "overflow_x": null,
            "grid_auto_flow": null,
            "grid_area": null,
            "grid_template_columns": null,
            "flex": null,
            "_model_name": "LayoutModel",
            "justify_items": null,
            "grid_row": null,
            "max_height": null,
            "align_content": null,
            "visibility": null,
            "align_self": null,
            "height": null,
            "min_height": null,
            "padding": null,
            "grid_auto_rows": null,
            "grid_gap": null,
            "max_width": null,
            "order": null,
            "_view_module_version": "1.2.0",
            "grid_template_areas": null,
            "object_position": null,
            "object_fit": null,
            "grid_auto_columns": null,
            "margin": null,
            "display": null,
            "left": null
          }
        },
        "b49bb16843f64f8ea9a1f62a3d6ce1e7": {
          "model_module": "@jupyter-widgets/controls",
          "model_name": "DescriptionStyleModel",
          "model_module_version": "1.5.0",
          "state": {
            "_view_name": "StyleView",
            "_model_name": "DescriptionStyleModel",
            "description_width": "",
            "_view_module": "@jupyter-widgets/base",
            "_model_module_version": "1.5.0",
            "_view_count": null,
            "_view_module_version": "1.2.0",
            "_model_module": "@jupyter-widgets/controls"
          }
        },
        "dd64545dbc72440cae4232b0d1d9a7f1": {
          "model_module": "@jupyter-widgets/base",
          "model_name": "LayoutModel",
          "model_module_version": "1.2.0",
          "state": {
            "_view_name": "LayoutView",
            "grid_template_rows": null,
            "right": null,
            "justify_content": null,
            "_view_module": "@jupyter-widgets/base",
            "overflow": null,
            "_model_module_version": "1.2.0",
            "_view_count": null,
            "flex_flow": null,
            "width": null,
            "min_width": null,
            "border": null,
            "align_items": null,
            "bottom": null,
            "_model_module": "@jupyter-widgets/base",
            "top": null,
            "grid_column": null,
            "overflow_y": null,
            "overflow_x": null,
            "grid_auto_flow": null,
            "grid_area": null,
            "grid_template_columns": null,
            "flex": null,
            "_model_name": "LayoutModel",
            "justify_items": null,
            "grid_row": null,
            "max_height": null,
            "align_content": null,
            "visibility": null,
            "align_self": null,
            "height": null,
            "min_height": null,
            "padding": null,
            "grid_auto_rows": null,
            "grid_gap": null,
            "max_width": null,
            "order": null,
            "_view_module_version": "1.2.0",
            "grid_template_areas": null,
            "object_position": null,
            "object_fit": null,
            "grid_auto_columns": null,
            "margin": null,
            "display": null,
            "left": null
          }
        },
        "f0059ae34a62436194e862364bf41a02": {
          "model_module": "@jupyter-widgets/controls",
          "model_name": "HBoxModel",
          "model_module_version": "1.5.0",
          "state": {
            "_view_name": "HBoxView",
            "_dom_classes": [],
            "_model_name": "HBoxModel",
            "_view_module": "@jupyter-widgets/controls",
            "_model_module_version": "1.5.0",
            "_view_count": null,
            "_view_module_version": "1.5.0",
            "box_style": "",
            "layout": "IPY_MODEL_1c32eb9061fa4317a3afb8bc341068d3",
            "_model_module": "@jupyter-widgets/controls",
            "children": [
              "IPY_MODEL_f1b3be1474424fb9b27b1e7a9aafc98e",
              "IPY_MODEL_5a490f311fb2455dabc8f0626927901f",
              "IPY_MODEL_1fda5ae430a24e57accebec18073fa4c"
            ]
          }
        },
        "1c32eb9061fa4317a3afb8bc341068d3": {
          "model_module": "@jupyter-widgets/base",
          "model_name": "LayoutModel",
          "model_module_version": "1.2.0",
          "state": {
            "_view_name": "LayoutView",
            "grid_template_rows": null,
            "right": null,
            "justify_content": null,
            "_view_module": "@jupyter-widgets/base",
            "overflow": null,
            "_model_module_version": "1.2.0",
            "_view_count": null,
            "flex_flow": null,
            "width": null,
            "min_width": null,
            "border": null,
            "align_items": null,
            "bottom": null,
            "_model_module": "@jupyter-widgets/base",
            "top": null,
            "grid_column": null,
            "overflow_y": null,
            "overflow_x": null,
            "grid_auto_flow": null,
            "grid_area": null,
            "grid_template_columns": null,
            "flex": null,
            "_model_name": "LayoutModel",
            "justify_items": null,
            "grid_row": null,
            "max_height": null,
            "align_content": null,
            "visibility": null,
            "align_self": null,
            "height": null,
            "min_height": null,
            "padding": null,
            "grid_auto_rows": null,
            "grid_gap": null,
            "max_width": null,
            "order": null,
            "_view_module_version": "1.2.0",
            "grid_template_areas": null,
            "object_position": null,
            "object_fit": null,
            "grid_auto_columns": null,
            "margin": null,
            "display": null,
            "left": null
          }
        },
        "f1b3be1474424fb9b27b1e7a9aafc98e": {
          "model_module": "@jupyter-widgets/controls",
          "model_name": "HTMLModel",
          "model_module_version": "1.5.0",
          "state": {
            "_view_name": "HTMLView",
            "style": "IPY_MODEL_06765d07fad14f12856a5089436570e2",
            "_dom_classes": [],
            "description": "",
            "_model_name": "HTMLModel",
            "placeholder": "​",
            "_view_module": "@jupyter-widgets/controls",
            "_model_module_version": "1.5.0",
            "value": "Downloading: 100%",
            "_view_count": null,
            "_view_module_version": "1.5.0",
            "description_tooltip": null,
            "_model_module": "@jupyter-widgets/controls",
            "layout": "IPY_MODEL_ee4ec43018614fa59a91f5646b2bc8bb"
          }
        },
        "5a490f311fb2455dabc8f0626927901f": {
          "model_module": "@jupyter-widgets/controls",
          "model_name": "FloatProgressModel",
          "model_module_version": "1.5.0",
          "state": {
            "_view_name": "ProgressView",
            "style": "IPY_MODEL_7f7cf38eecd64b52ae1f003ff6dabfa4",
            "_dom_classes": [],
            "description": "",
            "_model_name": "FloatProgressModel",
            "bar_style": "success",
            "max": 65,
            "_view_module": "@jupyter-widgets/controls",
            "_model_module_version": "1.5.0",
            "value": 65,
            "_view_count": null,
            "_view_module_version": "1.5.0",
            "orientation": "horizontal",
            "min": 0,
            "description_tooltip": null,
            "_model_module": "@jupyter-widgets/controls",
            "layout": "IPY_MODEL_b64c90e0f79c4bafbd6caae957aa92b8"
          }
        },
        "1fda5ae430a24e57accebec18073fa4c": {
          "model_module": "@jupyter-widgets/controls",
          "model_name": "HTMLModel",
          "model_module_version": "1.5.0",
          "state": {
            "_view_name": "HTMLView",
            "style": "IPY_MODEL_27ae3c348f2349b5a28995b33a74ba91",
            "_dom_classes": [],
            "description": "",
            "_model_name": "HTMLModel",
            "placeholder": "​",
            "_view_module": "@jupyter-widgets/controls",
            "_model_module_version": "1.5.0",
            "value": " 65.0/65.0 [00:00&lt;00:00, 1.35kB/s]",
            "_view_count": null,
            "_view_module_version": "1.5.0",
            "description_tooltip": null,
            "_model_module": "@jupyter-widgets/controls",
            "layout": "IPY_MODEL_437e72df57ac49668b9d17677eecc2d8"
          }
        },
        "06765d07fad14f12856a5089436570e2": {
          "model_module": "@jupyter-widgets/controls",
          "model_name": "DescriptionStyleModel",
          "model_module_version": "1.5.0",
          "state": {
            "_view_name": "StyleView",
            "_model_name": "DescriptionStyleModel",
            "description_width": "",
            "_view_module": "@jupyter-widgets/base",
            "_model_module_version": "1.5.0",
            "_view_count": null,
            "_view_module_version": "1.2.0",
            "_model_module": "@jupyter-widgets/controls"
          }
        },
        "ee4ec43018614fa59a91f5646b2bc8bb": {
          "model_module": "@jupyter-widgets/base",
          "model_name": "LayoutModel",
          "model_module_version": "1.2.0",
          "state": {
            "_view_name": "LayoutView",
            "grid_template_rows": null,
            "right": null,
            "justify_content": null,
            "_view_module": "@jupyter-widgets/base",
            "overflow": null,
            "_model_module_version": "1.2.0",
            "_view_count": null,
            "flex_flow": null,
            "width": null,
            "min_width": null,
            "border": null,
            "align_items": null,
            "bottom": null,
            "_model_module": "@jupyter-widgets/base",
            "top": null,
            "grid_column": null,
            "overflow_y": null,
            "overflow_x": null,
            "grid_auto_flow": null,
            "grid_area": null,
            "grid_template_columns": null,
            "flex": null,
            "_model_name": "LayoutModel",
            "justify_items": null,
            "grid_row": null,
            "max_height": null,
            "align_content": null,
            "visibility": null,
            "align_self": null,
            "height": null,
            "min_height": null,
            "padding": null,
            "grid_auto_rows": null,
            "grid_gap": null,
            "max_width": null,
            "order": null,
            "_view_module_version": "1.2.0",
            "grid_template_areas": null,
            "object_position": null,
            "object_fit": null,
            "grid_auto_columns": null,
            "margin": null,
            "display": null,
            "left": null
          }
        },
        "7f7cf38eecd64b52ae1f003ff6dabfa4": {
          "model_module": "@jupyter-widgets/controls",
          "model_name": "ProgressStyleModel",
          "model_module_version": "1.5.0",
          "state": {
            "_view_name": "StyleView",
            "_model_name": "ProgressStyleModel",
            "description_width": "",
            "_view_module": "@jupyter-widgets/base",
            "_model_module_version": "1.5.0",
            "_view_count": null,
            "_view_module_version": "1.2.0",
            "bar_color": null,
            "_model_module": "@jupyter-widgets/controls"
          }
        },
        "b64c90e0f79c4bafbd6caae957aa92b8": {
          "model_module": "@jupyter-widgets/base",
          "model_name": "LayoutModel",
          "model_module_version": "1.2.0",
          "state": {
            "_view_name": "LayoutView",
            "grid_template_rows": null,
            "right": null,
            "justify_content": null,
            "_view_module": "@jupyter-widgets/base",
            "overflow": null,
            "_model_module_version": "1.2.0",
            "_view_count": null,
            "flex_flow": null,
            "width": null,
            "min_width": null,
            "border": null,
            "align_items": null,
            "bottom": null,
            "_model_module": "@jupyter-widgets/base",
            "top": null,
            "grid_column": null,
            "overflow_y": null,
            "overflow_x": null,
            "grid_auto_flow": null,
            "grid_area": null,
            "grid_template_columns": null,
            "flex": null,
            "_model_name": "LayoutModel",
            "justify_items": null,
            "grid_row": null,
            "max_height": null,
            "align_content": null,
            "visibility": null,
            "align_self": null,
            "height": null,
            "min_height": null,
            "padding": null,
            "grid_auto_rows": null,
            "grid_gap": null,
            "max_width": null,
            "order": null,
            "_view_module_version": "1.2.0",
            "grid_template_areas": null,
            "object_position": null,
            "object_fit": null,
            "grid_auto_columns": null,
            "margin": null,
            "display": null,
            "left": null
          }
        },
        "27ae3c348f2349b5a28995b33a74ba91": {
          "model_module": "@jupyter-widgets/controls",
          "model_name": "DescriptionStyleModel",
          "model_module_version": "1.5.0",
          "state": {
            "_view_name": "StyleView",
            "_model_name": "DescriptionStyleModel",
            "description_width": "",
            "_view_module": "@jupyter-widgets/base",
            "_model_module_version": "1.5.0",
            "_view_count": null,
            "_view_module_version": "1.2.0",
            "_model_module": "@jupyter-widgets/controls"
          }
        },
        "437e72df57ac49668b9d17677eecc2d8": {
          "model_module": "@jupyter-widgets/base",
          "model_name": "LayoutModel",
          "model_module_version": "1.2.0",
          "state": {
            "_view_name": "LayoutView",
            "grid_template_rows": null,
            "right": null,
            "justify_content": null,
            "_view_module": "@jupyter-widgets/base",
            "overflow": null,
            "_model_module_version": "1.2.0",
            "_view_count": null,
            "flex_flow": null,
            "width": null,
            "min_width": null,
            "border": null,
            "align_items": null,
            "bottom": null,
            "_model_module": "@jupyter-widgets/base",
            "top": null,
            "grid_column": null,
            "overflow_y": null,
            "overflow_x": null,
            "grid_auto_flow": null,
            "grid_area": null,
            "grid_template_columns": null,
            "flex": null,
            "_model_name": "LayoutModel",
            "justify_items": null,
            "grid_row": null,
            "max_height": null,
            "align_content": null,
            "visibility": null,
            "align_self": null,
            "height": null,
            "min_height": null,
            "padding": null,
            "grid_auto_rows": null,
            "grid_gap": null,
            "max_width": null,
            "order": null,
            "_view_module_version": "1.2.0",
            "grid_template_areas": null,
            "object_position": null,
            "object_fit": null,
            "grid_auto_columns": null,
            "margin": null,
            "display": null,
            "left": null
          }
        },
        "582da63c2f1e43f1816f88a416939aa9": {
          "model_module": "@jupyter-widgets/controls",
          "model_name": "HBoxModel",
          "model_module_version": "1.5.0",
          "state": {
            "_view_name": "HBoxView",
            "_dom_classes": [],
            "_model_name": "HBoxModel",
            "_view_module": "@jupyter-widgets/controls",
            "_model_module_version": "1.5.0",
            "_view_count": null,
            "_view_module_version": "1.5.0",
            "box_style": "",
            "layout": "IPY_MODEL_81df59624ba64652a6cf5924bc7dcff3",
            "_model_module": "@jupyter-widgets/controls",
            "children": [
              "IPY_MODEL_176740ec4dc4456694f860300affc3e7",
              "IPY_MODEL_2ca8c3c7b0d449d6823dc7614e092c5b",
              "IPY_MODEL_c0d28748141d4676865098403e929e35"
            ]
          }
        },
        "81df59624ba64652a6cf5924bc7dcff3": {
          "model_module": "@jupyter-widgets/base",
          "model_name": "LayoutModel",
          "model_module_version": "1.2.0",
          "state": {
            "_view_name": "LayoutView",
            "grid_template_rows": null,
            "right": null,
            "justify_content": null,
            "_view_module": "@jupyter-widgets/base",
            "overflow": null,
            "_model_module_version": "1.2.0",
            "_view_count": null,
            "flex_flow": null,
            "width": null,
            "min_width": null,
            "border": null,
            "align_items": null,
            "bottom": null,
            "_model_module": "@jupyter-widgets/base",
            "top": null,
            "grid_column": null,
            "overflow_y": null,
            "overflow_x": null,
            "grid_auto_flow": null,
            "grid_area": null,
            "grid_template_columns": null,
            "flex": null,
            "_model_name": "LayoutModel",
            "justify_items": null,
            "grid_row": null,
            "max_height": null,
            "align_content": null,
            "visibility": null,
            "align_self": null,
            "height": null,
            "min_height": null,
            "padding": null,
            "grid_auto_rows": null,
            "grid_gap": null,
            "max_width": null,
            "order": null,
            "_view_module_version": "1.2.0",
            "grid_template_areas": null,
            "object_position": null,
            "object_fit": null,
            "grid_auto_columns": null,
            "margin": null,
            "display": null,
            "left": null
          }
        },
        "176740ec4dc4456694f860300affc3e7": {
          "model_module": "@jupyter-widgets/controls",
          "model_name": "HTMLModel",
          "model_module_version": "1.5.0",
          "state": {
            "_view_name": "HTMLView",
            "style": "IPY_MODEL_45288381972c4c72937081714a948228",
            "_dom_classes": [],
            "description": "",
            "_model_name": "HTMLModel",
            "placeholder": "​",
            "_view_module": "@jupyter-widgets/controls",
            "_model_module_version": "1.5.0",
            "value": "Downloading: 100%",
            "_view_count": null,
            "_view_module_version": "1.5.0",
            "description_tooltip": null,
            "_model_module": "@jupyter-widgets/controls",
            "layout": "IPY_MODEL_7032d17856744e0f963e215919fd7631"
          }
        },
        "2ca8c3c7b0d449d6823dc7614e092c5b": {
          "model_module": "@jupyter-widgets/controls",
          "model_name": "FloatProgressModel",
          "model_module_version": "1.5.0",
          "state": {
            "_view_name": "ProgressView",
            "style": "IPY_MODEL_3b4bca65ccdb4061900313613a1864dd",
            "_dom_classes": [],
            "description": "",
            "_model_name": "FloatProgressModel",
            "bar_style": "success",
            "max": 840,
            "_view_module": "@jupyter-widgets/controls",
            "_model_module_version": "1.5.0",
            "value": 840,
            "_view_count": null,
            "_view_module_version": "1.5.0",
            "orientation": "horizontal",
            "min": 0,
            "description_tooltip": null,
            "_model_module": "@jupyter-widgets/controls",
            "layout": "IPY_MODEL_53c29b50857345a88ccc0f9143ccc8d8"
          }
        },
        "c0d28748141d4676865098403e929e35": {
          "model_module": "@jupyter-widgets/controls",
          "model_name": "HTMLModel",
          "model_module_version": "1.5.0",
          "state": {
            "_view_name": "HTMLView",
            "style": "IPY_MODEL_b42fa1112dff4eddbe92459807f5c6c3",
            "_dom_classes": [],
            "description": "",
            "_model_name": "HTMLModel",
            "placeholder": "​",
            "_view_module": "@jupyter-widgets/controls",
            "_model_module_version": "1.5.0",
            "value": " 840/840 [00:00&lt;00:00, 23.1kB/s]",
            "_view_count": null,
            "_view_module_version": "1.5.0",
            "description_tooltip": null,
            "_model_module": "@jupyter-widgets/controls",
            "layout": "IPY_MODEL_6411ad47f280464aba68eac4003fd7e7"
          }
        },
        "45288381972c4c72937081714a948228": {
          "model_module": "@jupyter-widgets/controls",
          "model_name": "DescriptionStyleModel",
          "model_module_version": "1.5.0",
          "state": {
            "_view_name": "StyleView",
            "_model_name": "DescriptionStyleModel",
            "description_width": "",
            "_view_module": "@jupyter-widgets/base",
            "_model_module_version": "1.5.0",
            "_view_count": null,
            "_view_module_version": "1.2.0",
            "_model_module": "@jupyter-widgets/controls"
          }
        },
        "7032d17856744e0f963e215919fd7631": {
          "model_module": "@jupyter-widgets/base",
          "model_name": "LayoutModel",
          "model_module_version": "1.2.0",
          "state": {
            "_view_name": "LayoutView",
            "grid_template_rows": null,
            "right": null,
            "justify_content": null,
            "_view_module": "@jupyter-widgets/base",
            "overflow": null,
            "_model_module_version": "1.2.0",
            "_view_count": null,
            "flex_flow": null,
            "width": null,
            "min_width": null,
            "border": null,
            "align_items": null,
            "bottom": null,
            "_model_module": "@jupyter-widgets/base",
            "top": null,
            "grid_column": null,
            "overflow_y": null,
            "overflow_x": null,
            "grid_auto_flow": null,
            "grid_area": null,
            "grid_template_columns": null,
            "flex": null,
            "_model_name": "LayoutModel",
            "justify_items": null,
            "grid_row": null,
            "max_height": null,
            "align_content": null,
            "visibility": null,
            "align_self": null,
            "height": null,
            "min_height": null,
            "padding": null,
            "grid_auto_rows": null,
            "grid_gap": null,
            "max_width": null,
            "order": null,
            "_view_module_version": "1.2.0",
            "grid_template_areas": null,
            "object_position": null,
            "object_fit": null,
            "grid_auto_columns": null,
            "margin": null,
            "display": null,
            "left": null
          }
        },
        "3b4bca65ccdb4061900313613a1864dd": {
          "model_module": "@jupyter-widgets/controls",
          "model_name": "ProgressStyleModel",
          "model_module_version": "1.5.0",
          "state": {
            "_view_name": "StyleView",
            "_model_name": "ProgressStyleModel",
            "description_width": "",
            "_view_module": "@jupyter-widgets/base",
            "_model_module_version": "1.5.0",
            "_view_count": null,
            "_view_module_version": "1.2.0",
            "bar_color": null,
            "_model_module": "@jupyter-widgets/controls"
          }
        },
        "53c29b50857345a88ccc0f9143ccc8d8": {
          "model_module": "@jupyter-widgets/base",
          "model_name": "LayoutModel",
          "model_module_version": "1.2.0",
          "state": {
            "_view_name": "LayoutView",
            "grid_template_rows": null,
            "right": null,
            "justify_content": null,
            "_view_module": "@jupyter-widgets/base",
            "overflow": null,
            "_model_module_version": "1.2.0",
            "_view_count": null,
            "flex_flow": null,
            "width": null,
            "min_width": null,
            "border": null,
            "align_items": null,
            "bottom": null,
            "_model_module": "@jupyter-widgets/base",
            "top": null,
            "grid_column": null,
            "overflow_y": null,
            "overflow_x": null,
            "grid_auto_flow": null,
            "grid_area": null,
            "grid_template_columns": null,
            "flex": null,
            "_model_name": "LayoutModel",
            "justify_items": null,
            "grid_row": null,
            "max_height": null,
            "align_content": null,
            "visibility": null,
            "align_self": null,
            "height": null,
            "min_height": null,
            "padding": null,
            "grid_auto_rows": null,
            "grid_gap": null,
            "max_width": null,
            "order": null,
            "_view_module_version": "1.2.0",
            "grid_template_areas": null,
            "object_position": null,
            "object_fit": null,
            "grid_auto_columns": null,
            "margin": null,
            "display": null,
            "left": null
          }
        },
        "b42fa1112dff4eddbe92459807f5c6c3": {
          "model_module": "@jupyter-widgets/controls",
          "model_name": "DescriptionStyleModel",
          "model_module_version": "1.5.0",
          "state": {
            "_view_name": "StyleView",
            "_model_name": "DescriptionStyleModel",
            "description_width": "",
            "_view_module": "@jupyter-widgets/base",
            "_model_module_version": "1.5.0",
            "_view_count": null,
            "_view_module_version": "1.2.0",
            "_model_module": "@jupyter-widgets/controls"
          }
        },
        "6411ad47f280464aba68eac4003fd7e7": {
          "model_module": "@jupyter-widgets/base",
          "model_name": "LayoutModel",
          "model_module_version": "1.2.0",
          "state": {
            "_view_name": "LayoutView",
            "grid_template_rows": null,
            "right": null,
            "justify_content": null,
            "_view_module": "@jupyter-widgets/base",
            "overflow": null,
            "_model_module_version": "1.2.0",
            "_view_count": null,
            "flex_flow": null,
            "width": null,
            "min_width": null,
            "border": null,
            "align_items": null,
            "bottom": null,
            "_model_module": "@jupyter-widgets/base",
            "top": null,
            "grid_column": null,
            "overflow_y": null,
            "overflow_x": null,
            "grid_auto_flow": null,
            "grid_area": null,
            "grid_template_columns": null,
            "flex": null,
            "_model_name": "LayoutModel",
            "justify_items": null,
            "grid_row": null,
            "max_height": null,
            "align_content": null,
            "visibility": null,
            "align_self": null,
            "height": null,
            "min_height": null,
            "padding": null,
            "grid_auto_rows": null,
            "grid_gap": null,
            "max_width": null,
            "order": null,
            "_view_module_version": "1.2.0",
            "grid_template_areas": null,
            "object_position": null,
            "object_fit": null,
            "grid_auto_columns": null,
            "margin": null,
            "display": null,
            "left": null
          }
        },
        "284480fe653745e5b6d15e9ea4e7451a": {
          "model_module": "@jupyter-widgets/controls",
          "model_name": "HBoxModel",
          "model_module_version": "1.5.0",
          "state": {
            "_view_name": "HBoxView",
            "_dom_classes": [],
            "_model_name": "HBoxModel",
            "_view_module": "@jupyter-widgets/controls",
            "_model_module_version": "1.5.0",
            "_view_count": null,
            "_view_module_version": "1.5.0",
            "box_style": "",
            "layout": "IPY_MODEL_431ed4d09570444e892e40f6ee311e52",
            "_model_module": "@jupyter-widgets/controls",
            "children": [
              "IPY_MODEL_5c1e275dd75145e1aec5454835b0e41f",
              "IPY_MODEL_d32a6bbc53b942a6a45d98db35782526",
              "IPY_MODEL_8d37d8b907f0463987aac64d19f5c3b8"
            ]
          }
        },
        "431ed4d09570444e892e40f6ee311e52": {
          "model_module": "@jupyter-widgets/base",
          "model_name": "LayoutModel",
          "model_module_version": "1.2.0",
          "state": {
            "_view_name": "LayoutView",
            "grid_template_rows": null,
            "right": null,
            "justify_content": null,
            "_view_module": "@jupyter-widgets/base",
            "overflow": null,
            "_model_module_version": "1.2.0",
            "_view_count": null,
            "flex_flow": null,
            "width": null,
            "min_width": null,
            "border": null,
            "align_items": null,
            "bottom": null,
            "_model_module": "@jupyter-widgets/base",
            "top": null,
            "grid_column": null,
            "overflow_y": null,
            "overflow_x": null,
            "grid_auto_flow": null,
            "grid_area": null,
            "grid_template_columns": null,
            "flex": null,
            "_model_name": "LayoutModel",
            "justify_items": null,
            "grid_row": null,
            "max_height": null,
            "align_content": null,
            "visibility": null,
            "align_self": null,
            "height": null,
            "min_height": null,
            "padding": null,
            "grid_auto_rows": null,
            "grid_gap": null,
            "max_width": null,
            "order": null,
            "_view_module_version": "1.2.0",
            "grid_template_areas": null,
            "object_position": null,
            "object_fit": null,
            "grid_auto_columns": null,
            "margin": null,
            "display": null,
            "left": null
          }
        },
        "5c1e275dd75145e1aec5454835b0e41f": {
          "model_module": "@jupyter-widgets/controls",
          "model_name": "HTMLModel",
          "model_module_version": "1.5.0",
          "state": {
            "_view_name": "HTMLView",
            "style": "IPY_MODEL_9b01bdd793c84c87b6c0fcb2312c2b90",
            "_dom_classes": [],
            "description": "",
            "_model_name": "HTMLModel",
            "placeholder": "​",
            "_view_module": "@jupyter-widgets/controls",
            "_model_module_version": "1.5.0",
            "value": "Downloading: 100%",
            "_view_count": null,
            "_view_module_version": "1.5.0",
            "description_tooltip": null,
            "_model_module": "@jupyter-widgets/controls",
            "layout": "IPY_MODEL_0f89078ffa1a452eb18a1da4a8927cb6"
          }
        },
        "d32a6bbc53b942a6a45d98db35782526": {
          "model_module": "@jupyter-widgets/controls",
          "model_name": "FloatProgressModel",
          "model_module_version": "1.5.0",
          "state": {
            "_view_name": "ProgressView",
            "style": "IPY_MODEL_9c4750cc150f4a0e8788bca4b22a38c2",
            "_dom_classes": [],
            "description": "",
            "_model_name": "FloatProgressModel",
            "bar_style": "success",
            "max": 2668507970,
            "_view_module": "@jupyter-widgets/controls",
            "_model_module_version": "1.5.0",
            "value": 2668507970,
            "_view_count": null,
            "_view_module_version": "1.5.0",
            "orientation": "horizontal",
            "min": 0,
            "description_tooltip": null,
            "_model_module": "@jupyter-widgets/controls",
            "layout": "IPY_MODEL_06d272e703a441c78c4b3c50a093d23f"
          }
        },
        "8d37d8b907f0463987aac64d19f5c3b8": {
          "model_module": "@jupyter-widgets/controls",
          "model_name": "HTMLModel",
          "model_module_version": "1.5.0",
          "state": {
            "_view_name": "HTMLView",
            "style": "IPY_MODEL_b40a3a170a94467093fd4a847f00ffd4",
            "_dom_classes": [],
            "description": "",
            "_model_name": "HTMLModel",
            "placeholder": "​",
            "_view_module": "@jupyter-widgets/controls",
            "_model_module_version": "1.5.0",
            "value": " 2.67G/2.67G [01:05&lt;00:00, 37.1MB/s]",
            "_view_count": null,
            "_view_module_version": "1.5.0",
            "description_tooltip": null,
            "_model_module": "@jupyter-widgets/controls",
            "layout": "IPY_MODEL_c025c03faa8247e4865f240ec734c93b"
          }
        },
        "9b01bdd793c84c87b6c0fcb2312c2b90": {
          "model_module": "@jupyter-widgets/controls",
          "model_name": "DescriptionStyleModel",
          "model_module_version": "1.5.0",
          "state": {
            "_view_name": "StyleView",
            "_model_name": "DescriptionStyleModel",
            "description_width": "",
            "_view_module": "@jupyter-widgets/base",
            "_model_module_version": "1.5.0",
            "_view_count": null,
            "_view_module_version": "1.2.0",
            "_model_module": "@jupyter-widgets/controls"
          }
        },
        "0f89078ffa1a452eb18a1da4a8927cb6": {
          "model_module": "@jupyter-widgets/base",
          "model_name": "LayoutModel",
          "model_module_version": "1.2.0",
          "state": {
            "_view_name": "LayoutView",
            "grid_template_rows": null,
            "right": null,
            "justify_content": null,
            "_view_module": "@jupyter-widgets/base",
            "overflow": null,
            "_model_module_version": "1.2.0",
            "_view_count": null,
            "flex_flow": null,
            "width": null,
            "min_width": null,
            "border": null,
            "align_items": null,
            "bottom": null,
            "_model_module": "@jupyter-widgets/base",
            "top": null,
            "grid_column": null,
            "overflow_y": null,
            "overflow_x": null,
            "grid_auto_flow": null,
            "grid_area": null,
            "grid_template_columns": null,
            "flex": null,
            "_model_name": "LayoutModel",
            "justify_items": null,
            "grid_row": null,
            "max_height": null,
            "align_content": null,
            "visibility": null,
            "align_self": null,
            "height": null,
            "min_height": null,
            "padding": null,
            "grid_auto_rows": null,
            "grid_gap": null,
            "max_width": null,
            "order": null,
            "_view_module_version": "1.2.0",
            "grid_template_areas": null,
            "object_position": null,
            "object_fit": null,
            "grid_auto_columns": null,
            "margin": null,
            "display": null,
            "left": null
          }
        },
        "9c4750cc150f4a0e8788bca4b22a38c2": {
          "model_module": "@jupyter-widgets/controls",
          "model_name": "ProgressStyleModel",
          "model_module_version": "1.5.0",
          "state": {
            "_view_name": "StyleView",
            "_model_name": "ProgressStyleModel",
            "description_width": "",
            "_view_module": "@jupyter-widgets/base",
            "_model_module_version": "1.5.0",
            "_view_count": null,
            "_view_module_version": "1.2.0",
            "bar_color": null,
            "_model_module": "@jupyter-widgets/controls"
          }
        },
        "06d272e703a441c78c4b3c50a093d23f": {
          "model_module": "@jupyter-widgets/base",
          "model_name": "LayoutModel",
          "model_module_version": "1.2.0",
          "state": {
            "_view_name": "LayoutView",
            "grid_template_rows": null,
            "right": null,
            "justify_content": null,
            "_view_module": "@jupyter-widgets/base",
            "overflow": null,
            "_model_module_version": "1.2.0",
            "_view_count": null,
            "flex_flow": null,
            "width": null,
            "min_width": null,
            "border": null,
            "align_items": null,
            "bottom": null,
            "_model_module": "@jupyter-widgets/base",
            "top": null,
            "grid_column": null,
            "overflow_y": null,
            "overflow_x": null,
            "grid_auto_flow": null,
            "grid_area": null,
            "grid_template_columns": null,
            "flex": null,
            "_model_name": "LayoutModel",
            "justify_items": null,
            "grid_row": null,
            "max_height": null,
            "align_content": null,
            "visibility": null,
            "align_self": null,
            "height": null,
            "min_height": null,
            "padding": null,
            "grid_auto_rows": null,
            "grid_gap": null,
            "max_width": null,
            "order": null,
            "_view_module_version": "1.2.0",
            "grid_template_areas": null,
            "object_position": null,
            "object_fit": null,
            "grid_auto_columns": null,
            "margin": null,
            "display": null,
            "left": null
          }
        },
        "b40a3a170a94467093fd4a847f00ffd4": {
          "model_module": "@jupyter-widgets/controls",
          "model_name": "DescriptionStyleModel",
          "model_module_version": "1.5.0",
          "state": {
            "_view_name": "StyleView",
            "_model_name": "DescriptionStyleModel",
            "description_width": "",
            "_view_module": "@jupyter-widgets/base",
            "_model_module_version": "1.5.0",
            "_view_count": null,
            "_view_module_version": "1.2.0",
            "_model_module": "@jupyter-widgets/controls"
          }
        },
        "c025c03faa8247e4865f240ec734c93b": {
          "model_module": "@jupyter-widgets/base",
          "model_name": "LayoutModel",
          "model_module_version": "1.2.0",
          "state": {
            "_view_name": "LayoutView",
            "grid_template_rows": null,
            "right": null,
            "justify_content": null,
            "_view_module": "@jupyter-widgets/base",
            "overflow": null,
            "_model_module_version": "1.2.0",
            "_view_count": null,
            "flex_flow": null,
            "width": null,
            "min_width": null,
            "border": null,
            "align_items": null,
            "bottom": null,
            "_model_module": "@jupyter-widgets/base",
            "top": null,
            "grid_column": null,
            "overflow_y": null,
            "overflow_x": null,
            "grid_auto_flow": null,
            "grid_area": null,
            "grid_template_columns": null,
            "flex": null,
            "_model_name": "LayoutModel",
            "justify_items": null,
            "grid_row": null,
            "max_height": null,
            "align_content": null,
            "visibility": null,
            "align_self": null,
            "height": null,
            "min_height": null,
            "padding": null,
            "grid_auto_rows": null,
            "grid_gap": null,
            "max_width": null,
            "order": null,
            "_view_module_version": "1.2.0",
            "grid_template_areas": null,
            "object_position": null,
            "object_fit": null,
            "grid_auto_columns": null,
            "margin": null,
            "display": null,
            "left": null
          }
        },
        "98490979396b483288a208a84b5059eb": {
          "model_module": "@jupyter-widgets/controls",
          "model_name": "HBoxModel",
          "model_module_version": "1.5.0",
          "state": {
            "_view_name": "HBoxView",
            "_dom_classes": [],
            "_model_name": "HBoxModel",
            "_view_module": "@jupyter-widgets/controls",
            "_model_module_version": "1.5.0",
            "_view_count": null,
            "_view_module_version": "1.5.0",
            "box_style": "",
            "layout": "IPY_MODEL_1385647e902445bd8d6438aadb121110",
            "_model_module": "@jupyter-widgets/controls",
            "children": [
              "IPY_MODEL_46acaf3180ec495883cf5697900867b5",
              "IPY_MODEL_ff9e505311f44596b166a513757b3c87",
              "IPY_MODEL_ce546ca8a0644b74afbe170d8249bdb6"
            ]
          }
        },
        "1385647e902445bd8d6438aadb121110": {
          "model_module": "@jupyter-widgets/base",
          "model_name": "LayoutModel",
          "model_module_version": "1.2.0",
          "state": {
            "_view_name": "LayoutView",
            "grid_template_rows": null,
            "right": null,
            "justify_content": null,
            "_view_module": "@jupyter-widgets/base",
            "overflow": null,
            "_model_module_version": "1.2.0",
            "_view_count": null,
            "flex_flow": null,
            "width": null,
            "min_width": null,
            "border": null,
            "align_items": null,
            "bottom": null,
            "_model_module": "@jupyter-widgets/base",
            "top": null,
            "grid_column": null,
            "overflow_y": null,
            "overflow_x": null,
            "grid_auto_flow": null,
            "grid_area": null,
            "grid_template_columns": null,
            "flex": null,
            "_model_name": "LayoutModel",
            "justify_items": null,
            "grid_row": null,
            "max_height": null,
            "align_content": null,
            "visibility": null,
            "align_self": null,
            "height": null,
            "min_height": null,
            "padding": null,
            "grid_auto_rows": null,
            "grid_gap": null,
            "max_width": null,
            "order": null,
            "_view_module_version": "1.2.0",
            "grid_template_areas": null,
            "object_position": null,
            "object_fit": null,
            "grid_auto_columns": null,
            "margin": null,
            "display": null,
            "left": null
          }
        },
        "46acaf3180ec495883cf5697900867b5": {
          "model_module": "@jupyter-widgets/controls",
          "model_name": "HTMLModel",
          "model_module_version": "1.5.0",
          "state": {
            "_view_name": "HTMLView",
            "style": "IPY_MODEL_2317138feeae448799c4de94454e2124",
            "_dom_classes": [],
            "description": "",
            "_model_name": "HTMLModel",
            "placeholder": "​",
            "_view_module": "@jupyter-widgets/controls",
            "_model_module_version": "1.5.0",
            "value": "Downloading: 100%",
            "_view_count": null,
            "_view_module_version": "1.5.0",
            "description_tooltip": null,
            "_model_module": "@jupyter-widgets/controls",
            "layout": "IPY_MODEL_caf7d94de42e48a7bb6a111dda20bc7a"
          }
        },
        "ff9e505311f44596b166a513757b3c87": {
          "model_module": "@jupyter-widgets/controls",
          "model_name": "FloatProgressModel",
          "model_module_version": "1.5.0",
          "state": {
            "_view_name": "ProgressView",
            "style": "IPY_MODEL_441a781993854439a66396bd14f8008a",
            "_dom_classes": [],
            "description": "",
            "_model_name": "FloatProgressModel",
            "bar_style": "success",
            "max": 898823,
            "_view_module": "@jupyter-widgets/controls",
            "_model_module_version": "1.5.0",
            "value": 898823,
            "_view_count": null,
            "_view_module_version": "1.5.0",
            "orientation": "horizontal",
            "min": 0,
            "description_tooltip": null,
            "_model_module": "@jupyter-widgets/controls",
            "layout": "IPY_MODEL_d6cd55c50a3645a6b4ef042d8bc71bec"
          }
        },
        "ce546ca8a0644b74afbe170d8249bdb6": {
          "model_module": "@jupyter-widgets/controls",
          "model_name": "HTMLModel",
          "model_module_version": "1.5.0",
          "state": {
            "_view_name": "HTMLView",
            "style": "IPY_MODEL_46c07387d92b40d2af44d1fc04acb50f",
            "_dom_classes": [],
            "description": "",
            "_model_name": "HTMLModel",
            "placeholder": "​",
            "_view_module": "@jupyter-widgets/controls",
            "_model_module_version": "1.5.0",
            "value": " 899k/899k [00:00&lt;00:00, 9.95MB/s]",
            "_view_count": null,
            "_view_module_version": "1.5.0",
            "description_tooltip": null,
            "_model_module": "@jupyter-widgets/controls",
            "layout": "IPY_MODEL_6dd9ba4f656f454a8bd552cc6c4fa753"
          }
        },
        "2317138feeae448799c4de94454e2124": {
          "model_module": "@jupyter-widgets/controls",
          "model_name": "DescriptionStyleModel",
          "model_module_version": "1.5.0",
          "state": {
            "_view_name": "StyleView",
            "_model_name": "DescriptionStyleModel",
            "description_width": "",
            "_view_module": "@jupyter-widgets/base",
            "_model_module_version": "1.5.0",
            "_view_count": null,
            "_view_module_version": "1.2.0",
            "_model_module": "@jupyter-widgets/controls"
          }
        },
        "caf7d94de42e48a7bb6a111dda20bc7a": {
          "model_module": "@jupyter-widgets/base",
          "model_name": "LayoutModel",
          "model_module_version": "1.2.0",
          "state": {
            "_view_name": "LayoutView",
            "grid_template_rows": null,
            "right": null,
            "justify_content": null,
            "_view_module": "@jupyter-widgets/base",
            "overflow": null,
            "_model_module_version": "1.2.0",
            "_view_count": null,
            "flex_flow": null,
            "width": null,
            "min_width": null,
            "border": null,
            "align_items": null,
            "bottom": null,
            "_model_module": "@jupyter-widgets/base",
            "top": null,
            "grid_column": null,
            "overflow_y": null,
            "overflow_x": null,
            "grid_auto_flow": null,
            "grid_area": null,
            "grid_template_columns": null,
            "flex": null,
            "_model_name": "LayoutModel",
            "justify_items": null,
            "grid_row": null,
            "max_height": null,
            "align_content": null,
            "visibility": null,
            "align_self": null,
            "height": null,
            "min_height": null,
            "padding": null,
            "grid_auto_rows": null,
            "grid_gap": null,
            "max_width": null,
            "order": null,
            "_view_module_version": "1.2.0",
            "grid_template_areas": null,
            "object_position": null,
            "object_fit": null,
            "grid_auto_columns": null,
            "margin": null,
            "display": null,
            "left": null
          }
        },
        "441a781993854439a66396bd14f8008a": {
          "model_module": "@jupyter-widgets/controls",
          "model_name": "ProgressStyleModel",
          "model_module_version": "1.5.0",
          "state": {
            "_view_name": "StyleView",
            "_model_name": "ProgressStyleModel",
            "description_width": "",
            "_view_module": "@jupyter-widgets/base",
            "_model_module_version": "1.5.0",
            "_view_count": null,
            "_view_module_version": "1.2.0",
            "bar_color": null,
            "_model_module": "@jupyter-widgets/controls"
          }
        },
        "d6cd55c50a3645a6b4ef042d8bc71bec": {
          "model_module": "@jupyter-widgets/base",
          "model_name": "LayoutModel",
          "model_module_version": "1.2.0",
          "state": {
            "_view_name": "LayoutView",
            "grid_template_rows": null,
            "right": null,
            "justify_content": null,
            "_view_module": "@jupyter-widgets/base",
            "overflow": null,
            "_model_module_version": "1.2.0",
            "_view_count": null,
            "flex_flow": null,
            "width": null,
            "min_width": null,
            "border": null,
            "align_items": null,
            "bottom": null,
            "_model_module": "@jupyter-widgets/base",
            "top": null,
            "grid_column": null,
            "overflow_y": null,
            "overflow_x": null,
            "grid_auto_flow": null,
            "grid_area": null,
            "grid_template_columns": null,
            "flex": null,
            "_model_name": "LayoutModel",
            "justify_items": null,
            "grid_row": null,
            "max_height": null,
            "align_content": null,
            "visibility": null,
            "align_self": null,
            "height": null,
            "min_height": null,
            "padding": null,
            "grid_auto_rows": null,
            "grid_gap": null,
            "max_width": null,
            "order": null,
            "_view_module_version": "1.2.0",
            "grid_template_areas": null,
            "object_position": null,
            "object_fit": null,
            "grid_auto_columns": null,
            "margin": null,
            "display": null,
            "left": null
          }
        },
        "46c07387d92b40d2af44d1fc04acb50f": {
          "model_module": "@jupyter-widgets/controls",
          "model_name": "DescriptionStyleModel",
          "model_module_version": "1.5.0",
          "state": {
            "_view_name": "StyleView",
            "_model_name": "DescriptionStyleModel",
            "description_width": "",
            "_view_module": "@jupyter-widgets/base",
            "_model_module_version": "1.5.0",
            "_view_count": null,
            "_view_module_version": "1.2.0",
            "_model_module": "@jupyter-widgets/controls"
          }
        },
        "6dd9ba4f656f454a8bd552cc6c4fa753": {
          "model_module": "@jupyter-widgets/base",
          "model_name": "LayoutModel",
          "model_module_version": "1.2.0",
          "state": {
            "_view_name": "LayoutView",
            "grid_template_rows": null,
            "right": null,
            "justify_content": null,
            "_view_module": "@jupyter-widgets/base",
            "overflow": null,
            "_model_module_version": "1.2.0",
            "_view_count": null,
            "flex_flow": null,
            "width": null,
            "min_width": null,
            "border": null,
            "align_items": null,
            "bottom": null,
            "_model_module": "@jupyter-widgets/base",
            "top": null,
            "grid_column": null,
            "overflow_y": null,
            "overflow_x": null,
            "grid_auto_flow": null,
            "grid_area": null,
            "grid_template_columns": null,
            "flex": null,
            "_model_name": "LayoutModel",
            "justify_items": null,
            "grid_row": null,
            "max_height": null,
            "align_content": null,
            "visibility": null,
            "align_self": null,
            "height": null,
            "min_height": null,
            "padding": null,
            "grid_auto_rows": null,
            "grid_gap": null,
            "max_width": null,
            "order": null,
            "_view_module_version": "1.2.0",
            "grid_template_areas": null,
            "object_position": null,
            "object_fit": null,
            "grid_auto_columns": null,
            "margin": null,
            "display": null,
            "left": null
          }
        },
        "00f25f6c45744bfcaa7a6beb2280c23b": {
          "model_module": "@jupyter-widgets/controls",
          "model_name": "HBoxModel",
          "model_module_version": "1.5.0",
          "state": {
            "_view_name": "HBoxView",
            "_dom_classes": [],
            "_model_name": "HBoxModel",
            "_view_module": "@jupyter-widgets/controls",
            "_model_module_version": "1.5.0",
            "_view_count": null,
            "_view_module_version": "1.5.0",
            "box_style": "",
            "layout": "IPY_MODEL_eb2baffefbbd4a5dab7b19e6f1f55e55",
            "_model_module": "@jupyter-widgets/controls",
            "children": [
              "IPY_MODEL_83882d28a0604891b808bdd99894f5f8",
              "IPY_MODEL_271f06821214466db43d5868c323bad8",
              "IPY_MODEL_751c1cad96b643218b6e5d4c566c294f"
            ]
          }
        },
        "eb2baffefbbd4a5dab7b19e6f1f55e55": {
          "model_module": "@jupyter-widgets/base",
          "model_name": "LayoutModel",
          "model_module_version": "1.2.0",
          "state": {
            "_view_name": "LayoutView",
            "grid_template_rows": null,
            "right": null,
            "justify_content": null,
            "_view_module": "@jupyter-widgets/base",
            "overflow": null,
            "_model_module_version": "1.2.0",
            "_view_count": null,
            "flex_flow": null,
            "width": null,
            "min_width": null,
            "border": null,
            "align_items": null,
            "bottom": null,
            "_model_module": "@jupyter-widgets/base",
            "top": null,
            "grid_column": null,
            "overflow_y": null,
            "overflow_x": null,
            "grid_auto_flow": null,
            "grid_area": null,
            "grid_template_columns": null,
            "flex": null,
            "_model_name": "LayoutModel",
            "justify_items": null,
            "grid_row": null,
            "max_height": null,
            "align_content": null,
            "visibility": null,
            "align_self": null,
            "height": null,
            "min_height": null,
            "padding": null,
            "grid_auto_rows": null,
            "grid_gap": null,
            "max_width": null,
            "order": null,
            "_view_module_version": "1.2.0",
            "grid_template_areas": null,
            "object_position": null,
            "object_fit": null,
            "grid_auto_columns": null,
            "margin": null,
            "display": null,
            "left": null
          }
        },
        "83882d28a0604891b808bdd99894f5f8": {
          "model_module": "@jupyter-widgets/controls",
          "model_name": "HTMLModel",
          "model_module_version": "1.5.0",
          "state": {
            "_view_name": "HTMLView",
            "style": "IPY_MODEL_57ccbfbd205e4b9ab9f4f0e7435177a1",
            "_dom_classes": [],
            "description": "",
            "_model_name": "HTMLModel",
            "placeholder": "​",
            "_view_module": "@jupyter-widgets/controls",
            "_model_module_version": "1.5.0",
            "value": "Downloading: 100%",
            "_view_count": null,
            "_view_module_version": "1.5.0",
            "description_tooltip": null,
            "_model_module": "@jupyter-widgets/controls",
            "layout": "IPY_MODEL_dd03c83f273243208c71bfdd83843298"
          }
        },
        "271f06821214466db43d5868c323bad8": {
          "model_module": "@jupyter-widgets/controls",
          "model_name": "FloatProgressModel",
          "model_module_version": "1.5.0",
          "state": {
            "_view_name": "ProgressView",
            "style": "IPY_MODEL_6eb91bcfdc0d43b9b6c29019f58ec5e7",
            "_dom_classes": [],
            "description": "",
            "_model_name": "FloatProgressModel",
            "bar_style": "success",
            "max": 456318,
            "_view_module": "@jupyter-widgets/controls",
            "_model_module_version": "1.5.0",
            "value": 456318,
            "_view_count": null,
            "_view_module_version": "1.5.0",
            "orientation": "horizontal",
            "min": 0,
            "description_tooltip": null,
            "_model_module": "@jupyter-widgets/controls",
            "layout": "IPY_MODEL_94b535c11ad744fb9365a6f259128ea2"
          }
        },
        "751c1cad96b643218b6e5d4c566c294f": {
          "model_module": "@jupyter-widgets/controls",
          "model_name": "HTMLModel",
          "model_module_version": "1.5.0",
          "state": {
            "_view_name": "HTMLView",
            "style": "IPY_MODEL_a5d1b2ea48d643908628f8a211c63db7",
            "_dom_classes": [],
            "description": "",
            "_model_name": "HTMLModel",
            "placeholder": "​",
            "_view_module": "@jupyter-widgets/controls",
            "_model_module_version": "1.5.0",
            "value": " 456k/456k [00:00&lt;00:00, 6.50MB/s]",
            "_view_count": null,
            "_view_module_version": "1.5.0",
            "description_tooltip": null,
            "_model_module": "@jupyter-widgets/controls",
            "layout": "IPY_MODEL_48a37ae73f55453c87927fec04adf4f0"
          }
        },
        "57ccbfbd205e4b9ab9f4f0e7435177a1": {
          "model_module": "@jupyter-widgets/controls",
          "model_name": "DescriptionStyleModel",
          "model_module_version": "1.5.0",
          "state": {
            "_view_name": "StyleView",
            "_model_name": "DescriptionStyleModel",
            "description_width": "",
            "_view_module": "@jupyter-widgets/base",
            "_model_module_version": "1.5.0",
            "_view_count": null,
            "_view_module_version": "1.2.0",
            "_model_module": "@jupyter-widgets/controls"
          }
        },
        "dd03c83f273243208c71bfdd83843298": {
          "model_module": "@jupyter-widgets/base",
          "model_name": "LayoutModel",
          "model_module_version": "1.2.0",
          "state": {
            "_view_name": "LayoutView",
            "grid_template_rows": null,
            "right": null,
            "justify_content": null,
            "_view_module": "@jupyter-widgets/base",
            "overflow": null,
            "_model_module_version": "1.2.0",
            "_view_count": null,
            "flex_flow": null,
            "width": null,
            "min_width": null,
            "border": null,
            "align_items": null,
            "bottom": null,
            "_model_module": "@jupyter-widgets/base",
            "top": null,
            "grid_column": null,
            "overflow_y": null,
            "overflow_x": null,
            "grid_auto_flow": null,
            "grid_area": null,
            "grid_template_columns": null,
            "flex": null,
            "_model_name": "LayoutModel",
            "justify_items": null,
            "grid_row": null,
            "max_height": null,
            "align_content": null,
            "visibility": null,
            "align_self": null,
            "height": null,
            "min_height": null,
            "padding": null,
            "grid_auto_rows": null,
            "grid_gap": null,
            "max_width": null,
            "order": null,
            "_view_module_version": "1.2.0",
            "grid_template_areas": null,
            "object_position": null,
            "object_fit": null,
            "grid_auto_columns": null,
            "margin": null,
            "display": null,
            "left": null
          }
        },
        "6eb91bcfdc0d43b9b6c29019f58ec5e7": {
          "model_module": "@jupyter-widgets/controls",
          "model_name": "ProgressStyleModel",
          "model_module_version": "1.5.0",
          "state": {
            "_view_name": "StyleView",
            "_model_name": "ProgressStyleModel",
            "description_width": "",
            "_view_module": "@jupyter-widgets/base",
            "_model_module_version": "1.5.0",
            "_view_count": null,
            "_view_module_version": "1.2.0",
            "bar_color": null,
            "_model_module": "@jupyter-widgets/controls"
          }
        },
        "94b535c11ad744fb9365a6f259128ea2": {
          "model_module": "@jupyter-widgets/base",
          "model_name": "LayoutModel",
          "model_module_version": "1.2.0",
          "state": {
            "_view_name": "LayoutView",
            "grid_template_rows": null,
            "right": null,
            "justify_content": null,
            "_view_module": "@jupyter-widgets/base",
            "overflow": null,
            "_model_module_version": "1.2.0",
            "_view_count": null,
            "flex_flow": null,
            "width": null,
            "min_width": null,
            "border": null,
            "align_items": null,
            "bottom": null,
            "_model_module": "@jupyter-widgets/base",
            "top": null,
            "grid_column": null,
            "overflow_y": null,
            "overflow_x": null,
            "grid_auto_flow": null,
            "grid_area": null,
            "grid_template_columns": null,
            "flex": null,
            "_model_name": "LayoutModel",
            "justify_items": null,
            "grid_row": null,
            "max_height": null,
            "align_content": null,
            "visibility": null,
            "align_self": null,
            "height": null,
            "min_height": null,
            "padding": null,
            "grid_auto_rows": null,
            "grid_gap": null,
            "max_width": null,
            "order": null,
            "_view_module_version": "1.2.0",
            "grid_template_areas": null,
            "object_position": null,
            "object_fit": null,
            "grid_auto_columns": null,
            "margin": null,
            "display": null,
            "left": null
          }
        },
        "a5d1b2ea48d643908628f8a211c63db7": {
          "model_module": "@jupyter-widgets/controls",
          "model_name": "DescriptionStyleModel",
          "model_module_version": "1.5.0",
          "state": {
            "_view_name": "StyleView",
            "_model_name": "DescriptionStyleModel",
            "description_width": "",
            "_view_module": "@jupyter-widgets/base",
            "_model_module_version": "1.5.0",
            "_view_count": null,
            "_view_module_version": "1.2.0",
            "_model_module": "@jupyter-widgets/controls"
          }
        },
        "48a37ae73f55453c87927fec04adf4f0": {
          "model_module": "@jupyter-widgets/base",
          "model_name": "LayoutModel",
          "model_module_version": "1.2.0",
          "state": {
            "_view_name": "LayoutView",
            "grid_template_rows": null,
            "right": null,
            "justify_content": null,
            "_view_module": "@jupyter-widgets/base",
            "overflow": null,
            "_model_module_version": "1.2.0",
            "_view_count": null,
            "flex_flow": null,
            "width": null,
            "min_width": null,
            "border": null,
            "align_items": null,
            "bottom": null,
            "_model_module": "@jupyter-widgets/base",
            "top": null,
            "grid_column": null,
            "overflow_y": null,
            "overflow_x": null,
            "grid_auto_flow": null,
            "grid_area": null,
            "grid_template_columns": null,
            "flex": null,
            "_model_name": "LayoutModel",
            "justify_items": null,
            "grid_row": null,
            "max_height": null,
            "align_content": null,
            "visibility": null,
            "align_self": null,
            "height": null,
            "min_height": null,
            "padding": null,
            "grid_auto_rows": null,
            "grid_gap": null,
            "max_width": null,
            "order": null,
            "_view_module_version": "1.2.0",
            "grid_template_areas": null,
            "object_position": null,
            "object_fit": null,
            "grid_auto_columns": null,
            "margin": null,
            "display": null,
            "left": null
          }
        },
        "b7b8bdd5e59a429fb3fb5ba3b71229d1": {
          "model_module": "@jupyter-widgets/controls",
          "model_name": "HBoxModel",
          "model_module_version": "1.5.0",
          "state": {
            "_view_name": "HBoxView",
            "_dom_classes": [],
            "_model_name": "HBoxModel",
            "_view_module": "@jupyter-widgets/controls",
            "_model_module_version": "1.5.0",
            "_view_count": null,
            "_view_module_version": "1.5.0",
            "box_style": "",
            "layout": "IPY_MODEL_b785188f5491451ea61496233c948c54",
            "_model_module": "@jupyter-widgets/controls",
            "children": [
              "IPY_MODEL_194aeaeda4294b848e01337f3071d2f9",
              "IPY_MODEL_177211912c5f4419b3891a9e538082d9",
              "IPY_MODEL_85c6dcfddd134723af124d376533511b"
            ]
          }
        },
        "b785188f5491451ea61496233c948c54": {
          "model_module": "@jupyter-widgets/base",
          "model_name": "LayoutModel",
          "model_module_version": "1.2.0",
          "state": {
            "_view_name": "LayoutView",
            "grid_template_rows": null,
            "right": null,
            "justify_content": null,
            "_view_module": "@jupyter-widgets/base",
            "overflow": null,
            "_model_module_version": "1.2.0",
            "_view_count": null,
            "flex_flow": null,
            "width": null,
            "min_width": null,
            "border": null,
            "align_items": null,
            "bottom": null,
            "_model_module": "@jupyter-widgets/base",
            "top": null,
            "grid_column": null,
            "overflow_y": null,
            "overflow_x": null,
            "grid_auto_flow": null,
            "grid_area": null,
            "grid_template_columns": null,
            "flex": null,
            "_model_name": "LayoutModel",
            "justify_items": null,
            "grid_row": null,
            "max_height": null,
            "align_content": null,
            "visibility": null,
            "align_self": null,
            "height": null,
            "min_height": null,
            "padding": null,
            "grid_auto_rows": null,
            "grid_gap": null,
            "max_width": null,
            "order": null,
            "_view_module_version": "1.2.0",
            "grid_template_areas": null,
            "object_position": null,
            "object_fit": null,
            "grid_auto_columns": null,
            "margin": null,
            "display": null,
            "left": null
          }
        },
        "194aeaeda4294b848e01337f3071d2f9": {
          "model_module": "@jupyter-widgets/controls",
          "model_name": "HTMLModel",
          "model_module_version": "1.5.0",
          "state": {
            "_view_name": "HTMLView",
            "style": "IPY_MODEL_e38e54821cf74808aab207ab46a7bda3",
            "_dom_classes": [],
            "description": "",
            "_model_name": "HTMLModel",
            "placeholder": "​",
            "_view_module": "@jupyter-widgets/controls",
            "_model_module_version": "1.5.0",
            "value": "Downloading: 100%",
            "_view_count": null,
            "_view_module_version": "1.5.0",
            "description_tooltip": null,
            "_model_module": "@jupyter-widgets/controls",
            "layout": "IPY_MODEL_327da204d5b24bd2bceaffea5a62a8ab"
          }
        },
        "177211912c5f4419b3891a9e538082d9": {
          "model_module": "@jupyter-widgets/controls",
          "model_name": "FloatProgressModel",
          "model_module_version": "1.5.0",
          "state": {
            "_view_name": "ProgressView",
            "style": "IPY_MODEL_a27557f1c2ad46c3a740ce31acc2ce18",
            "_dom_classes": [],
            "description": "",
            "_model_name": "FloatProgressModel",
            "bar_style": "success",
            "max": 1355863,
            "_view_module": "@jupyter-widgets/controls",
            "_model_module_version": "1.5.0",
            "value": 1355863,
            "_view_count": null,
            "_view_module_version": "1.5.0",
            "orientation": "horizontal",
            "min": 0,
            "description_tooltip": null,
            "_model_module": "@jupyter-widgets/controls",
            "layout": "IPY_MODEL_67ec27c5acca417ea5d05b1319404a1f"
          }
        },
        "85c6dcfddd134723af124d376533511b": {
          "model_module": "@jupyter-widgets/controls",
          "model_name": "HTMLModel",
          "model_module_version": "1.5.0",
          "state": {
            "_view_name": "HTMLView",
            "style": "IPY_MODEL_6e8c4f9baae94c0d9eb537d6f9541b72",
            "_dom_classes": [],
            "description": "",
            "_model_name": "HTMLModel",
            "placeholder": "​",
            "_view_module": "@jupyter-widgets/controls",
            "_model_module_version": "1.5.0",
            "value": " 1.36M/1.36M [00:00&lt;00:00, 14.8MB/s]",
            "_view_count": null,
            "_view_module_version": "1.5.0",
            "description_tooltip": null,
            "_model_module": "@jupyter-widgets/controls",
            "layout": "IPY_MODEL_0c055ec9f54140ca94248c7819926278"
          }
        },
        "e38e54821cf74808aab207ab46a7bda3": {
          "model_module": "@jupyter-widgets/controls",
          "model_name": "DescriptionStyleModel",
          "model_module_version": "1.5.0",
          "state": {
            "_view_name": "StyleView",
            "_model_name": "DescriptionStyleModel",
            "description_width": "",
            "_view_module": "@jupyter-widgets/base",
            "_model_module_version": "1.5.0",
            "_view_count": null,
            "_view_module_version": "1.2.0",
            "_model_module": "@jupyter-widgets/controls"
          }
        },
        "327da204d5b24bd2bceaffea5a62a8ab": {
          "model_module": "@jupyter-widgets/base",
          "model_name": "LayoutModel",
          "model_module_version": "1.2.0",
          "state": {
            "_view_name": "LayoutView",
            "grid_template_rows": null,
            "right": null,
            "justify_content": null,
            "_view_module": "@jupyter-widgets/base",
            "overflow": null,
            "_model_module_version": "1.2.0",
            "_view_count": null,
            "flex_flow": null,
            "width": null,
            "min_width": null,
            "border": null,
            "align_items": null,
            "bottom": null,
            "_model_module": "@jupyter-widgets/base",
            "top": null,
            "grid_column": null,
            "overflow_y": null,
            "overflow_x": null,
            "grid_auto_flow": null,
            "grid_area": null,
            "grid_template_columns": null,
            "flex": null,
            "_model_name": "LayoutModel",
            "justify_items": null,
            "grid_row": null,
            "max_height": null,
            "align_content": null,
            "visibility": null,
            "align_self": null,
            "height": null,
            "min_height": null,
            "padding": null,
            "grid_auto_rows": null,
            "grid_gap": null,
            "max_width": null,
            "order": null,
            "_view_module_version": "1.2.0",
            "grid_template_areas": null,
            "object_position": null,
            "object_fit": null,
            "grid_auto_columns": null,
            "margin": null,
            "display": null,
            "left": null
          }
        },
        "a27557f1c2ad46c3a740ce31acc2ce18": {
          "model_module": "@jupyter-widgets/controls",
          "model_name": "ProgressStyleModel",
          "model_module_version": "1.5.0",
          "state": {
            "_view_name": "StyleView",
            "_model_name": "ProgressStyleModel",
            "description_width": "",
            "_view_module": "@jupyter-widgets/base",
            "_model_module_version": "1.5.0",
            "_view_count": null,
            "_view_module_version": "1.2.0",
            "bar_color": null,
            "_model_module": "@jupyter-widgets/controls"
          }
        },
        "67ec27c5acca417ea5d05b1319404a1f": {
          "model_module": "@jupyter-widgets/base",
          "model_name": "LayoutModel",
          "model_module_version": "1.2.0",
          "state": {
            "_view_name": "LayoutView",
            "grid_template_rows": null,
            "right": null,
            "justify_content": null,
            "_view_module": "@jupyter-widgets/base",
            "overflow": null,
            "_model_module_version": "1.2.0",
            "_view_count": null,
            "flex_flow": null,
            "width": null,
            "min_width": null,
            "border": null,
            "align_items": null,
            "bottom": null,
            "_model_module": "@jupyter-widgets/base",
            "top": null,
            "grid_column": null,
            "overflow_y": null,
            "overflow_x": null,
            "grid_auto_flow": null,
            "grid_area": null,
            "grid_template_columns": null,
            "flex": null,
            "_model_name": "LayoutModel",
            "justify_items": null,
            "grid_row": null,
            "max_height": null,
            "align_content": null,
            "visibility": null,
            "align_self": null,
            "height": null,
            "min_height": null,
            "padding": null,
            "grid_auto_rows": null,
            "grid_gap": null,
            "max_width": null,
            "order": null,
            "_view_module_version": "1.2.0",
            "grid_template_areas": null,
            "object_position": null,
            "object_fit": null,
            "grid_auto_columns": null,
            "margin": null,
            "display": null,
            "left": null
          }
        },
        "6e8c4f9baae94c0d9eb537d6f9541b72": {
          "model_module": "@jupyter-widgets/controls",
          "model_name": "DescriptionStyleModel",
          "model_module_version": "1.5.0",
          "state": {
            "_view_name": "StyleView",
            "_model_name": "DescriptionStyleModel",
            "description_width": "",
            "_view_module": "@jupyter-widgets/base",
            "_model_module_version": "1.5.0",
            "_view_count": null,
            "_view_module_version": "1.2.0",
            "_model_module": "@jupyter-widgets/controls"
          }
        },
        "0c055ec9f54140ca94248c7819926278": {
          "model_module": "@jupyter-widgets/base",
          "model_name": "LayoutModel",
          "model_module_version": "1.2.0",
          "state": {
            "_view_name": "LayoutView",
            "grid_template_rows": null,
            "right": null,
            "justify_content": null,
            "_view_module": "@jupyter-widgets/base",
            "overflow": null,
            "_model_module_version": "1.2.0",
            "_view_count": null,
            "flex_flow": null,
            "width": null,
            "min_width": null,
            "border": null,
            "align_items": null,
            "bottom": null,
            "_model_module": "@jupyter-widgets/base",
            "top": null,
            "grid_column": null,
            "overflow_y": null,
            "overflow_x": null,
            "grid_auto_flow": null,
            "grid_area": null,
            "grid_template_columns": null,
            "flex": null,
            "_model_name": "LayoutModel",
            "justify_items": null,
            "grid_row": null,
            "max_height": null,
            "align_content": null,
            "visibility": null,
            "align_self": null,
            "height": null,
            "min_height": null,
            "padding": null,
            "grid_auto_rows": null,
            "grid_gap": null,
            "max_width": null,
            "order": null,
            "_view_module_version": "1.2.0",
            "grid_template_areas": null,
            "object_position": null,
            "object_fit": null,
            "grid_auto_columns": null,
            "margin": null,
            "display": null,
            "left": null
          }
        },
        "4db96fed7c7649868100fbeefe7f2bf2": {
          "model_module": "@jupyter-widgets/controls",
          "model_name": "HBoxModel",
          "model_module_version": "1.5.0",
          "state": {
            "_view_name": "HBoxView",
            "_dom_classes": [],
            "_model_name": "HBoxModel",
            "_view_module": "@jupyter-widgets/controls",
            "_model_module_version": "1.5.0",
            "_view_count": null,
            "_view_module_version": "1.5.0",
            "box_style": "",
            "layout": "IPY_MODEL_5508ac8481084ffa973fe1db6255dafc",
            "_model_module": "@jupyter-widgets/controls",
            "children": [
              "IPY_MODEL_c2a0e63a07ad4085820ef81fc53d1a21",
              "IPY_MODEL_bab9304c444343ffaa66987ec13e9689",
              "IPY_MODEL_a22af0e990464080b9a2ba5eb0b15363"
            ]
          }
        },
        "5508ac8481084ffa973fe1db6255dafc": {
          "model_module": "@jupyter-widgets/base",
          "model_name": "LayoutModel",
          "model_module_version": "1.2.0",
          "state": {
            "_view_name": "LayoutView",
            "grid_template_rows": null,
            "right": null,
            "justify_content": null,
            "_view_module": "@jupyter-widgets/base",
            "overflow": null,
            "_model_module_version": "1.2.0",
            "_view_count": null,
            "flex_flow": null,
            "width": null,
            "min_width": null,
            "border": null,
            "align_items": null,
            "bottom": null,
            "_model_module": "@jupyter-widgets/base",
            "top": null,
            "grid_column": null,
            "overflow_y": null,
            "overflow_x": null,
            "grid_auto_flow": null,
            "grid_area": null,
            "grid_template_columns": null,
            "flex": null,
            "_model_name": "LayoutModel",
            "justify_items": null,
            "grid_row": null,
            "max_height": null,
            "align_content": null,
            "visibility": null,
            "align_self": null,
            "height": null,
            "min_height": null,
            "padding": null,
            "grid_auto_rows": null,
            "grid_gap": null,
            "max_width": null,
            "order": null,
            "_view_module_version": "1.2.0",
            "grid_template_areas": null,
            "object_position": null,
            "object_fit": null,
            "grid_auto_columns": null,
            "margin": null,
            "display": null,
            "left": null
          }
        },
        "c2a0e63a07ad4085820ef81fc53d1a21": {
          "model_module": "@jupyter-widgets/controls",
          "model_name": "HTMLModel",
          "model_module_version": "1.5.0",
          "state": {
            "_view_name": "HTMLView",
            "style": "IPY_MODEL_e889008ead494c24a2f2b9c6d20e999f",
            "_dom_classes": [],
            "description": "",
            "_model_name": "HTMLModel",
            "placeholder": "​",
            "_view_module": "@jupyter-widgets/controls",
            "_model_module_version": "1.5.0",
            "value": "Downloading: 100%",
            "_view_count": null,
            "_view_module_version": "1.5.0",
            "description_tooltip": null,
            "_model_module": "@jupyter-widgets/controls",
            "layout": "IPY_MODEL_5d398915962242ba8eb9ece32673b563"
          }
        },
        "bab9304c444343ffaa66987ec13e9689": {
          "model_module": "@jupyter-widgets/controls",
          "model_name": "FloatProgressModel",
          "model_module_version": "1.5.0",
          "state": {
            "_view_name": "ProgressView",
            "style": "IPY_MODEL_749582ad97da42ba8cef0120c4422d9f",
            "_dom_classes": [],
            "description": "",
            "_model_name": "FloatProgressModel",
            "bar_style": "success",
            "max": 1585,
            "_view_module": "@jupyter-widgets/controls",
            "_model_module_version": "1.5.0",
            "value": 1585,
            "_view_count": null,
            "_view_module_version": "1.5.0",
            "orientation": "horizontal",
            "min": 0,
            "description_tooltip": null,
            "_model_module": "@jupyter-widgets/controls",
            "layout": "IPY_MODEL_94723aaabb1742b7863d39c0a03d4eea"
          }
        },
        "a22af0e990464080b9a2ba5eb0b15363": {
          "model_module": "@jupyter-widgets/controls",
          "model_name": "HTMLModel",
          "model_module_version": "1.5.0",
          "state": {
            "_view_name": "HTMLView",
            "style": "IPY_MODEL_39e92bd41d614c1a825529f3c313e07e",
            "_dom_classes": [],
            "description": "",
            "_model_name": "HTMLModel",
            "placeholder": "​",
            "_view_module": "@jupyter-widgets/controls",
            "_model_module_version": "1.5.0",
            "value": " 1.58k/1.58k [00:00&lt;00:00, 34.5kB/s]",
            "_view_count": null,
            "_view_module_version": "1.5.0",
            "description_tooltip": null,
            "_model_module": "@jupyter-widgets/controls",
            "layout": "IPY_MODEL_eeed9a6e4cb1478f9565a1756c047003"
          }
        },
        "e889008ead494c24a2f2b9c6d20e999f": {
          "model_module": "@jupyter-widgets/controls",
          "model_name": "DescriptionStyleModel",
          "model_module_version": "1.5.0",
          "state": {
            "_view_name": "StyleView",
            "_model_name": "DescriptionStyleModel",
            "description_width": "",
            "_view_module": "@jupyter-widgets/base",
            "_model_module_version": "1.5.0",
            "_view_count": null,
            "_view_module_version": "1.2.0",
            "_model_module": "@jupyter-widgets/controls"
          }
        },
        "5d398915962242ba8eb9ece32673b563": {
          "model_module": "@jupyter-widgets/base",
          "model_name": "LayoutModel",
          "model_module_version": "1.2.0",
          "state": {
            "_view_name": "LayoutView",
            "grid_template_rows": null,
            "right": null,
            "justify_content": null,
            "_view_module": "@jupyter-widgets/base",
            "overflow": null,
            "_model_module_version": "1.2.0",
            "_view_count": null,
            "flex_flow": null,
            "width": null,
            "min_width": null,
            "border": null,
            "align_items": null,
            "bottom": null,
            "_model_module": "@jupyter-widgets/base",
            "top": null,
            "grid_column": null,
            "overflow_y": null,
            "overflow_x": null,
            "grid_auto_flow": null,
            "grid_area": null,
            "grid_template_columns": null,
            "flex": null,
            "_model_name": "LayoutModel",
            "justify_items": null,
            "grid_row": null,
            "max_height": null,
            "align_content": null,
            "visibility": null,
            "align_self": null,
            "height": null,
            "min_height": null,
            "padding": null,
            "grid_auto_rows": null,
            "grid_gap": null,
            "max_width": null,
            "order": null,
            "_view_module_version": "1.2.0",
            "grid_template_areas": null,
            "object_position": null,
            "object_fit": null,
            "grid_auto_columns": null,
            "margin": null,
            "display": null,
            "left": null
          }
        },
        "749582ad97da42ba8cef0120c4422d9f": {
          "model_module": "@jupyter-widgets/controls",
          "model_name": "ProgressStyleModel",
          "model_module_version": "1.5.0",
          "state": {
            "_view_name": "StyleView",
            "_model_name": "ProgressStyleModel",
            "description_width": "",
            "_view_module": "@jupyter-widgets/base",
            "_model_module_version": "1.5.0",
            "_view_count": null,
            "_view_module_version": "1.2.0",
            "bar_color": null,
            "_model_module": "@jupyter-widgets/controls"
          }
        },
        "94723aaabb1742b7863d39c0a03d4eea": {
          "model_module": "@jupyter-widgets/base",
          "model_name": "LayoutModel",
          "model_module_version": "1.2.0",
          "state": {
            "_view_name": "LayoutView",
            "grid_template_rows": null,
            "right": null,
            "justify_content": null,
            "_view_module": "@jupyter-widgets/base",
            "overflow": null,
            "_model_module_version": "1.2.0",
            "_view_count": null,
            "flex_flow": null,
            "width": null,
            "min_width": null,
            "border": null,
            "align_items": null,
            "bottom": null,
            "_model_module": "@jupyter-widgets/base",
            "top": null,
            "grid_column": null,
            "overflow_y": null,
            "overflow_x": null,
            "grid_auto_flow": null,
            "grid_area": null,
            "grid_template_columns": null,
            "flex": null,
            "_model_name": "LayoutModel",
            "justify_items": null,
            "grid_row": null,
            "max_height": null,
            "align_content": null,
            "visibility": null,
            "align_self": null,
            "height": null,
            "min_height": null,
            "padding": null,
            "grid_auto_rows": null,
            "grid_gap": null,
            "max_width": null,
            "order": null,
            "_view_module_version": "1.2.0",
            "grid_template_areas": null,
            "object_position": null,
            "object_fit": null,
            "grid_auto_columns": null,
            "margin": null,
            "display": null,
            "left": null
          }
        },
        "39e92bd41d614c1a825529f3c313e07e": {
          "model_module": "@jupyter-widgets/controls",
          "model_name": "DescriptionStyleModel",
          "model_module_version": "1.5.0",
          "state": {
            "_view_name": "StyleView",
            "_model_name": "DescriptionStyleModel",
            "description_width": "",
            "_view_module": "@jupyter-widgets/base",
            "_model_module_version": "1.5.0",
            "_view_count": null,
            "_view_module_version": "1.2.0",
            "_model_module": "@jupyter-widgets/controls"
          }
        },
        "eeed9a6e4cb1478f9565a1756c047003": {
          "model_module": "@jupyter-widgets/base",
          "model_name": "LayoutModel",
          "model_module_version": "1.2.0",
          "state": {
            "_view_name": "LayoutView",
            "grid_template_rows": null,
            "right": null,
            "justify_content": null,
            "_view_module": "@jupyter-widgets/base",
            "overflow": null,
            "_model_module_version": "1.2.0",
            "_view_count": null,
            "flex_flow": null,
            "width": null,
            "min_width": null,
            "border": null,
            "align_items": null,
            "bottom": null,
            "_model_module": "@jupyter-widgets/base",
            "top": null,
            "grid_column": null,
            "overflow_y": null,
            "overflow_x": null,
            "grid_auto_flow": null,
            "grid_area": null,
            "grid_template_columns": null,
            "flex": null,
            "_model_name": "LayoutModel",
            "justify_items": null,
            "grid_row": null,
            "max_height": null,
            "align_content": null,
            "visibility": null,
            "align_self": null,
            "height": null,
            "min_height": null,
            "padding": null,
            "grid_auto_rows": null,
            "grid_gap": null,
            "max_width": null,
            "order": null,
            "_view_module_version": "1.2.0",
            "grid_template_areas": null,
            "object_position": null,
            "object_fit": null,
            "grid_auto_columns": null,
            "margin": null,
            "display": null,
            "left": null
          }
        },
        "a8da2666386e4c48acb210eb88930a68": {
          "model_module": "@jupyter-widgets/controls",
          "model_name": "HBoxModel",
          "model_module_version": "1.5.0",
          "state": {
            "_view_name": "HBoxView",
            "_dom_classes": [],
            "_model_name": "HBoxModel",
            "_view_module": "@jupyter-widgets/controls",
            "_model_module_version": "1.5.0",
            "_view_count": null,
            "_view_module_version": "1.5.0",
            "box_style": "",
            "layout": "IPY_MODEL_2fb82e055e344974b3c96f707350b6a4",
            "_model_module": "@jupyter-widgets/controls",
            "children": [
              "IPY_MODEL_167ce91be19f411c8fc347f1057ec909",
              "IPY_MODEL_4738dde861c74dbc931d951299715b7f",
              "IPY_MODEL_898f68d1bce34e3b8c1b4179d4fb6e15"
            ]
          }
        },
        "2fb82e055e344974b3c96f707350b6a4": {
          "model_module": "@jupyter-widgets/base",
          "model_name": "LayoutModel",
          "model_module_version": "1.2.0",
          "state": {
            "_view_name": "LayoutView",
            "grid_template_rows": null,
            "right": null,
            "justify_content": null,
            "_view_module": "@jupyter-widgets/base",
            "overflow": null,
            "_model_module_version": "1.2.0",
            "_view_count": null,
            "flex_flow": null,
            "width": null,
            "min_width": null,
            "border": null,
            "align_items": null,
            "bottom": null,
            "_model_module": "@jupyter-widgets/base",
            "top": null,
            "grid_column": null,
            "overflow_y": null,
            "overflow_x": null,
            "grid_auto_flow": null,
            "grid_area": null,
            "grid_template_columns": null,
            "flex": null,
            "_model_name": "LayoutModel",
            "justify_items": null,
            "grid_row": null,
            "max_height": null,
            "align_content": null,
            "visibility": null,
            "align_self": null,
            "height": null,
            "min_height": null,
            "padding": null,
            "grid_auto_rows": null,
            "grid_gap": null,
            "max_width": null,
            "order": null,
            "_view_module_version": "1.2.0",
            "grid_template_areas": null,
            "object_position": null,
            "object_fit": null,
            "grid_auto_columns": null,
            "margin": null,
            "display": null,
            "left": null
          }
        },
        "167ce91be19f411c8fc347f1057ec909": {
          "model_module": "@jupyter-widgets/controls",
          "model_name": "HTMLModel",
          "model_module_version": "1.5.0",
          "state": {
            "_view_name": "HTMLView",
            "style": "IPY_MODEL_88f35fb1ab87415e80e320148d3809df",
            "_dom_classes": [],
            "description": "",
            "_model_name": "HTMLModel",
            "placeholder": "​",
            "_view_module": "@jupyter-widgets/controls",
            "_model_module_version": "1.5.0",
            "value": "Downloading: 100%",
            "_view_count": null,
            "_view_module_version": "1.5.0",
            "description_tooltip": null,
            "_model_module": "@jupyter-widgets/controls",
            "layout": "IPY_MODEL_1de7b44f3e4f443f84b19f47823e207d"
          }
        },
        "4738dde861c74dbc931d951299715b7f": {
          "model_module": "@jupyter-widgets/controls",
          "model_name": "FloatProgressModel",
          "model_module_version": "1.5.0",
          "state": {
            "_view_name": "ProgressView",
            "style": "IPY_MODEL_147e39140a0c47738a07d0b054caa23f",
            "_dom_classes": [],
            "description": "",
            "_model_name": "FloatProgressModel",
            "bar_style": "success",
            "max": 1625270765,
            "_view_module": "@jupyter-widgets/controls",
            "_model_module_version": "1.5.0",
            "value": 1625270765,
            "_view_count": null,
            "_view_module_version": "1.5.0",
            "orientation": "horizontal",
            "min": 0,
            "description_tooltip": null,
            "_model_module": "@jupyter-widgets/controls",
            "layout": "IPY_MODEL_47b6db1098cb4ae3bac587e39ba53c1a"
          }
        },
        "898f68d1bce34e3b8c1b4179d4fb6e15": {
          "model_module": "@jupyter-widgets/controls",
          "model_name": "HTMLModel",
          "model_module_version": "1.5.0",
          "state": {
            "_view_name": "HTMLView",
            "style": "IPY_MODEL_1961e1c167424c12a5b5f9b9944ab327",
            "_dom_classes": [],
            "description": "",
            "_model_name": "HTMLModel",
            "placeholder": "​",
            "_view_module": "@jupyter-widgets/controls",
            "_model_module_version": "1.5.0",
            "value": " 1.63G/1.63G [00:51&lt;00:00, 39.3MB/s]",
            "_view_count": null,
            "_view_module_version": "1.5.0",
            "description_tooltip": null,
            "_model_module": "@jupyter-widgets/controls",
            "layout": "IPY_MODEL_e363f6849bed4a158394b256ef8ed24e"
          }
        },
        "88f35fb1ab87415e80e320148d3809df": {
          "model_module": "@jupyter-widgets/controls",
          "model_name": "DescriptionStyleModel",
          "model_module_version": "1.5.0",
          "state": {
            "_view_name": "StyleView",
            "_model_name": "DescriptionStyleModel",
            "description_width": "",
            "_view_module": "@jupyter-widgets/base",
            "_model_module_version": "1.5.0",
            "_view_count": null,
            "_view_module_version": "1.2.0",
            "_model_module": "@jupyter-widgets/controls"
          }
        },
        "1de7b44f3e4f443f84b19f47823e207d": {
          "model_module": "@jupyter-widgets/base",
          "model_name": "LayoutModel",
          "model_module_version": "1.2.0",
          "state": {
            "_view_name": "LayoutView",
            "grid_template_rows": null,
            "right": null,
            "justify_content": null,
            "_view_module": "@jupyter-widgets/base",
            "overflow": null,
            "_model_module_version": "1.2.0",
            "_view_count": null,
            "flex_flow": null,
            "width": null,
            "min_width": null,
            "border": null,
            "align_items": null,
            "bottom": null,
            "_model_module": "@jupyter-widgets/base",
            "top": null,
            "grid_column": null,
            "overflow_y": null,
            "overflow_x": null,
            "grid_auto_flow": null,
            "grid_area": null,
            "grid_template_columns": null,
            "flex": null,
            "_model_name": "LayoutModel",
            "justify_items": null,
            "grid_row": null,
            "max_height": null,
            "align_content": null,
            "visibility": null,
            "align_self": null,
            "height": null,
            "min_height": null,
            "padding": null,
            "grid_auto_rows": null,
            "grid_gap": null,
            "max_width": null,
            "order": null,
            "_view_module_version": "1.2.0",
            "grid_template_areas": null,
            "object_position": null,
            "object_fit": null,
            "grid_auto_columns": null,
            "margin": null,
            "display": null,
            "left": null
          }
        },
        "147e39140a0c47738a07d0b054caa23f": {
          "model_module": "@jupyter-widgets/controls",
          "model_name": "ProgressStyleModel",
          "model_module_version": "1.5.0",
          "state": {
            "_view_name": "StyleView",
            "_model_name": "ProgressStyleModel",
            "description_width": "",
            "_view_module": "@jupyter-widgets/base",
            "_model_module_version": "1.5.0",
            "_view_count": null,
            "_view_module_version": "1.2.0",
            "bar_color": null,
            "_model_module": "@jupyter-widgets/controls"
          }
        },
        "47b6db1098cb4ae3bac587e39ba53c1a": {
          "model_module": "@jupyter-widgets/base",
          "model_name": "LayoutModel",
          "model_module_version": "1.2.0",
          "state": {
            "_view_name": "LayoutView",
            "grid_template_rows": null,
            "right": null,
            "justify_content": null,
            "_view_module": "@jupyter-widgets/base",
            "overflow": null,
            "_model_module_version": "1.2.0",
            "_view_count": null,
            "flex_flow": null,
            "width": null,
            "min_width": null,
            "border": null,
            "align_items": null,
            "bottom": null,
            "_model_module": "@jupyter-widgets/base",
            "top": null,
            "grid_column": null,
            "overflow_y": null,
            "overflow_x": null,
            "grid_auto_flow": null,
            "grid_area": null,
            "grid_template_columns": null,
            "flex": null,
            "_model_name": "LayoutModel",
            "justify_items": null,
            "grid_row": null,
            "max_height": null,
            "align_content": null,
            "visibility": null,
            "align_self": null,
            "height": null,
            "min_height": null,
            "padding": null,
            "grid_auto_rows": null,
            "grid_gap": null,
            "max_width": null,
            "order": null,
            "_view_module_version": "1.2.0",
            "grid_template_areas": null,
            "object_position": null,
            "object_fit": null,
            "grid_auto_columns": null,
            "margin": null,
            "display": null,
            "left": null
          }
        },
        "1961e1c167424c12a5b5f9b9944ab327": {
          "model_module": "@jupyter-widgets/controls",
          "model_name": "DescriptionStyleModel",
          "model_module_version": "1.5.0",
          "state": {
            "_view_name": "StyleView",
            "_model_name": "DescriptionStyleModel",
            "description_width": "",
            "_view_module": "@jupyter-widgets/base",
            "_model_module_version": "1.5.0",
            "_view_count": null,
            "_view_module_version": "1.2.0",
            "_model_module": "@jupyter-widgets/controls"
          }
        },
        "e363f6849bed4a158394b256ef8ed24e": {
          "model_module": "@jupyter-widgets/base",
          "model_name": "LayoutModel",
          "model_module_version": "1.2.0",
          "state": {
            "_view_name": "LayoutView",
            "grid_template_rows": null,
            "right": null,
            "justify_content": null,
            "_view_module": "@jupyter-widgets/base",
            "overflow": null,
            "_model_module_version": "1.2.0",
            "_view_count": null,
            "flex_flow": null,
            "width": null,
            "min_width": null,
            "border": null,
            "align_items": null,
            "bottom": null,
            "_model_module": "@jupyter-widgets/base",
            "top": null,
            "grid_column": null,
            "overflow_y": null,
            "overflow_x": null,
            "grid_auto_flow": null,
            "grid_area": null,
            "grid_template_columns": null,
            "flex": null,
            "_model_name": "LayoutModel",
            "justify_items": null,
            "grid_row": null,
            "max_height": null,
            "align_content": null,
            "visibility": null,
            "align_self": null,
            "height": null,
            "min_height": null,
            "padding": null,
            "grid_auto_rows": null,
            "grid_gap": null,
            "max_width": null,
            "order": null,
            "_view_module_version": "1.2.0",
            "grid_template_areas": null,
            "object_position": null,
            "object_fit": null,
            "grid_auto_columns": null,
            "margin": null,
            "display": null,
            "left": null
          }
        }
      }
    }
  },
  "cells": [
    {
      "cell_type": "code",
      "metadata": {
        "colab": {
          "base_uri": "https://localhost:8080/"
        },
        "id": "_7wqyH-2ntcG",
        "outputId": "816eafa8-3d00-4893-9150-738a0c6e6833"
      },
      "source": [
        "! pip install transformers"
      ],
      "execution_count": null,
      "outputs": [
        {
          "output_type": "stream",
          "text": [
            "Collecting transformers\n",
            "  Downloading transformers-4.9.2-py3-none-any.whl (2.6 MB)\n",
            "\u001b[K     |████████████████████████████████| 2.6 MB 5.0 MB/s \n",
            "\u001b[?25hRequirement already satisfied: regex!=2019.12.17 in /usr/local/lib/python3.7/dist-packages (from transformers) (2019.12.20)\n",
            "Collecting sacremoses\n",
            "  Downloading sacremoses-0.0.45-py3-none-any.whl (895 kB)\n",
            "\u001b[K     |████████████████████████████████| 895 kB 48.7 MB/s \n",
            "\u001b[?25hCollecting huggingface-hub==0.0.12\n",
            "  Downloading huggingface_hub-0.0.12-py3-none-any.whl (37 kB)\n",
            "Collecting pyyaml>=5.1\n",
            "  Downloading PyYAML-5.4.1-cp37-cp37m-manylinux1_x86_64.whl (636 kB)\n",
            "\u001b[K     |████████████████████████████████| 636 kB 58.7 MB/s \n",
            "\u001b[?25hRequirement already satisfied: numpy>=1.17 in /usr/local/lib/python3.7/dist-packages (from transformers) (1.19.5)\n",
            "Requirement already satisfied: packaging in /usr/local/lib/python3.7/dist-packages (from transformers) (21.0)\n",
            "Collecting tokenizers<0.11,>=0.10.1\n",
            "  Downloading tokenizers-0.10.3-cp37-cp37m-manylinux_2_5_x86_64.manylinux1_x86_64.manylinux_2_12_x86_64.manylinux2010_x86_64.whl (3.3 MB)\n",
            "\u001b[K     |████████████████████████████████| 3.3 MB 39.9 MB/s \n",
            "\u001b[?25hRequirement already satisfied: filelock in /usr/local/lib/python3.7/dist-packages (from transformers) (3.0.12)\n",
            "Requirement already satisfied: requests in /usr/local/lib/python3.7/dist-packages (from transformers) (2.23.0)\n",
            "Requirement already satisfied: importlib-metadata in /usr/local/lib/python3.7/dist-packages (from transformers) (4.6.1)\n",
            "Requirement already satisfied: tqdm>=4.27 in /usr/local/lib/python3.7/dist-packages (from transformers) (4.41.1)\n",
            "Requirement already satisfied: typing-extensions in /usr/local/lib/python3.7/dist-packages (from huggingface-hub==0.0.12->transformers) (3.7.4.3)\n",
            "Requirement already satisfied: pyparsing>=2.0.2 in /usr/local/lib/python3.7/dist-packages (from packaging->transformers) (2.4.7)\n",
            "Requirement already satisfied: zipp>=0.5 in /usr/local/lib/python3.7/dist-packages (from importlib-metadata->transformers) (3.5.0)\n",
            "Requirement already satisfied: idna<3,>=2.5 in /usr/local/lib/python3.7/dist-packages (from requests->transformers) (2.10)\n",
            "Requirement already satisfied: urllib3!=1.25.0,!=1.25.1,<1.26,>=1.21.1 in /usr/local/lib/python3.7/dist-packages (from requests->transformers) (1.24.3)\n",
            "Requirement already satisfied: certifi>=2017.4.17 in /usr/local/lib/python3.7/dist-packages (from requests->transformers) (2021.5.30)\n",
            "Requirement already satisfied: chardet<4,>=3.0.2 in /usr/local/lib/python3.7/dist-packages (from requests->transformers) (3.0.4)\n",
            "Requirement already satisfied: joblib in /usr/local/lib/python3.7/dist-packages (from sacremoses->transformers) (1.0.1)\n",
            "Requirement already satisfied: six in /usr/local/lib/python3.7/dist-packages (from sacremoses->transformers) (1.15.0)\n",
            "Requirement already satisfied: click in /usr/local/lib/python3.7/dist-packages (from sacremoses->transformers) (7.1.2)\n",
            "Installing collected packages: tokenizers, sacremoses, pyyaml, huggingface-hub, transformers\n",
            "  Attempting uninstall: pyyaml\n",
            "    Found existing installation: PyYAML 3.13\n",
            "    Uninstalling PyYAML-3.13:\n",
            "      Successfully uninstalled PyYAML-3.13\n",
            "Successfully installed huggingface-hub-0.0.12 pyyaml-5.4.1 sacremoses-0.0.45 tokenizers-0.10.3 transformers-4.9.2\n"
          ],
          "name": "stdout"
        }
      ]
    },
    {
      "cell_type": "code",
      "metadata": {
        "id": "Q4Zm6AmZqstN"
      },
      "source": [
        "from transformers import pipeline"
      ],
      "execution_count": null,
      "outputs": []
    },
    {
      "cell_type": "code",
      "metadata": {
        "colab": {
          "base_uri": "https://localhost:8080/",
          "height": 365,
          "referenced_widgets": [
            "d1211b1e1f7c4c31a38e151a8ed3e94b",
            "bdd6a0d732c54180a73814979183d7c0",
            "547429c718d14d919d04b252fcc87c48",
            "34172d636f66493e92466ce448a65876",
            "1d9a715d951a41a8bdcec1bbdac6a2b7",
            "61ea3590a0eb413b9a257e13183a5147",
            "d70e4cc896a44154b8a5e74871a2d56d",
            "e5338b9420064f0593546e78d6767b1d",
            "bcb4636eedb24ddd86abfc7c2c4a016e",
            "cb848350135b4d5f8e629ab159289961",
            "7cebfd368dcd4d8688946c49f116f4ed",
            "55c425e824fc46b18729776697e9d971",
            "dd16fcee871343a3ad7650dc4cc4aad9",
            "6d9b3c8fe2ac4733b275575ecaf61ca8",
            "b33afa33a0f6408095d4195897081a51",
            "357bc3da8ce44eeb8c106ec8a7045448",
            "56036ebc428142d194cf5d7eec3422d0",
            "25c0f41bf3aa4a79bb3ff31db0f772a6",
            "e227bac5970248038342be3c0ef6794e",
            "18431cd59e26423596f5461ccb116499",
            "92710135f2f14504b9d4ea9e7e50d3b7",
            "a95a27a70f6d46949d336dc601af2530",
            "20f38cf74f3c434bb49eda8d56c8607d",
            "2c73fc6ae2974f10b979b9b3454510f1",
            "dfa871077ef14db8ada176c1f7852a96",
            "7c7f0157ac5c456f9c47ba8ebea2ffac",
            "3aaf8771de8a4bd1b87d913f7b9f2ac0",
            "931db14464704e19bb585e8d9b376b8f",
            "dfea37f05fcc45e3a6574ec5530f927b",
            "47a92846c52f461fac39d150f0660693",
            "569dbedbab154a478f1d19336a812e5f",
            "cf1425ccd2914d8f92a422026546833d",
            "fdf90002e1fd4a52ace7aeeb071c1f71",
            "cec7cd6ef853406c897aed8283e111a0",
            "0da9318ba1ff4452ba1f8a8419336611",
            "d3e5ce9e8cbf4d0392bdce7a0baa6db2",
            "697c581fdc5946578e33200351702971",
            "c4d6f217ba0744828c1c01768418af67",
            "147626a2a430404c8c4a5f74e9962075",
            "d92ebe08d7534eca922d7eeb6c6e374d"
          ]
        },
        "id": "4q1pVGB-qyz2",
        "outputId": "499a94d8-50be-4f96-e853-67357f413baf"
      },
      "source": [
        "summarizer = pipeline(\"summarization\")\n",
        "summarizer(\"An apple a day, keeps the doctor away\", min_length=5, max_length=20)"
      ],
      "execution_count": null,
      "outputs": [
        {
          "output_type": "display_data",
          "data": {
            "application/vnd.jupyter.widget-view+json": {
              "model_id": "d1211b1e1f7c4c31a38e151a8ed3e94b",
              "version_minor": 0,
              "version_major": 2
            },
            "text/plain": [
              "HBox(children=(FloatProgress(value=0.0, description='Downloading', max=1802.0, style=ProgressStyle(description…"
            ]
          },
          "metadata": {
            "tags": []
          }
        },
        {
          "output_type": "stream",
          "text": [
            "\n"
          ],
          "name": "stdout"
        },
        {
          "output_type": "display_data",
          "data": {
            "application/vnd.jupyter.widget-view+json": {
              "model_id": "bcb4636eedb24ddd86abfc7c2c4a016e",
              "version_minor": 0,
              "version_major": 2
            },
            "text/plain": [
              "HBox(children=(FloatProgress(value=0.0, description='Downloading', max=1222317369.0, style=ProgressStyle(descr…"
            ]
          },
          "metadata": {
            "tags": []
          }
        },
        {
          "output_type": "stream",
          "text": [
            "\n"
          ],
          "name": "stdout"
        },
        {
          "output_type": "display_data",
          "data": {
            "application/vnd.jupyter.widget-view+json": {
              "model_id": "56036ebc428142d194cf5d7eec3422d0",
              "version_minor": 0,
              "version_major": 2
            },
            "text/plain": [
              "HBox(children=(FloatProgress(value=0.0, description='Downloading', max=26.0, style=ProgressStyle(description_w…"
            ]
          },
          "metadata": {
            "tags": []
          }
        },
        {
          "output_type": "stream",
          "text": [
            "\n"
          ],
          "name": "stdout"
        },
        {
          "output_type": "display_data",
          "data": {
            "application/vnd.jupyter.widget-view+json": {
              "model_id": "dfa871077ef14db8ada176c1f7852a96",
              "version_minor": 0,
              "version_major": 2
            },
            "text/plain": [
              "HBox(children=(FloatProgress(value=0.0, description='Downloading', max=898822.0, style=ProgressStyle(descripti…"
            ]
          },
          "metadata": {
            "tags": []
          }
        },
        {
          "output_type": "stream",
          "text": [
            "\n"
          ],
          "name": "stdout"
        },
        {
          "output_type": "display_data",
          "data": {
            "application/vnd.jupyter.widget-view+json": {
              "model_id": "fdf90002e1fd4a52ace7aeeb071c1f71",
              "version_minor": 0,
              "version_major": 2
            },
            "text/plain": [
              "HBox(children=(FloatProgress(value=0.0, description='Downloading', max=456318.0, style=ProgressStyle(descripti…"
            ]
          },
          "metadata": {
            "tags": []
          }
        },
        {
          "output_type": "stream",
          "text": [
            "\n"
          ],
          "name": "stdout"
        },
        {
          "output_type": "stream",
          "text": [
            "Your max_length is set to 20, but you input_length is only 11. You might consider decreasing max_length manually, e.g. summarizer('...', max_length=50)\n",
            "/usr/local/lib/python3.7/dist-packages/torch/_tensor.py:575: UserWarning: floor_divide is deprecated, and will be removed in a future version of pytorch. It currently rounds toward 0 (like the 'trunc' function NOT 'floor'). This results in incorrect rounding for negative values.\n",
            "To keep the current behavior, use torch.div(a, b, rounding_mode='trunc'), or for actual floor division, use torch.div(a, b, rounding_mode='floor'). (Triggered internally at  /pytorch/aten/src/ATen/native/BinaryOps.cpp:467.)\n",
            "  return torch.floor_divide(self, other)\n"
          ],
          "name": "stderr"
        },
        {
          "output_type": "execute_result",
          "data": {
            "text/plain": [
              "[{'summary_text': ' An apple a day, keeps the doctor away from your doctor away, says Dr.'}]"
            ]
          },
          "metadata": {
            "tags": []
          },
          "execution_count": 3
        }
      ]
    },
    {
      "cell_type": "markdown",
      "metadata": {
        "id": "Z16BSnTczfR7"
      },
      "source": [
        ""
      ]
    },
    {
      "cell_type": "code",
      "metadata": {
        "id": "6GYTaXAHq4E1"
      },
      "source": [
        "pubmed_dataset_test =\"/content/drive/MyDrive/pubmed-dataset/test.txt\""
      ],
      "execution_count": null,
      "outputs": []
    },
    {
      "cell_type": "code",
      "metadata": {
        "id": "steijT5oy63U"
      },
      "source": [
        "import json\n",
        "\n",
        "data = []\n",
        "with open(pubmed_dataset_test) as f:\n",
        "    for line in f:\n",
        "      data.append(json.loads(line))"
      ],
      "execution_count": null,
      "outputs": []
    },
    {
      "cell_type": "code",
      "metadata": {
        "id": "JLfPYSMrzYqy"
      },
      "source": [
        "data"
      ],
      "execution_count": null,
      "outputs": []
    },
    {
      "cell_type": "code",
      "metadata": {
        "colab": {
          "base_uri": "https://localhost:8080/"
        },
        "id": "ORPVNnPhzmEI",
        "outputId": "d6e45112-a970-40b5-9788-da80d623facc"
      },
      "source": [
        "len(data)"
      ],
      "execution_count": null,
      "outputs": [
        {
          "output_type": "execute_result",
          "data": {
            "text/plain": [
              "6658"
            ]
          },
          "metadata": {
            "tags": []
          },
          "execution_count": 14
        }
      ]
    },
    {
      "cell_type": "code",
      "metadata": {
        "colab": {
          "base_uri": "https://localhost:8080/"
        },
        "id": "CgbULldFzrRI",
        "outputId": "e53a19ba-506b-4d14-a37b-64eb2ed169fa"
      },
      "source": [
        "data[0]['abstract_text']"
      ],
      "execution_count": null,
      "outputs": [
        {
          "output_type": "execute_result",
          "data": {
            "text/plain": [
              "[\"<S> research on the implications of anxiety in parkinson 's disease ( pd ) has been neglected despite its prevalence in nearly 50% of patients and its negative impact on quality of life . </S>\",\n",
              " '<S> previous reports have noted that neuropsychiatric symptoms impair cognitive performance in pd patients ; however , to date , no study has directly compared pd patients with and without anxiety to examine the impact of anxiety on cognitive impairments in pd . </S>',\n",
              " '<S> this study compared cognitive performance across 50 pd participants with and without anxiety ( 17 pda+ ; 33 pda ) , who underwent neurological and neuropsychological assessment . </S>',\n",
              " '<S> group performance was compared across the following cognitive domains : simple attention / visuomotor processing speed , executive function ( e.g. , set - shifting ) , working memory , language , and memory / new verbal learning . </S>',\n",
              " '<S> results showed that pda+ performed significantly worse on the digit span forward and backward test and part b of the trail making task ( tmt - b ) compared to the pda group . </S>',\n",
              " '<S> there were no group differences in verbal fluency , logical memory , or tmt - a performance . in conclusion , </S>',\n",
              " '<S> anxiety in pd has a measurable impact on working memory and attentional set - shifting . </S>']"
            ]
          },
          "metadata": {
            "tags": []
          },
          "execution_count": 16
        }
      ]
    },
    {
      "cell_type": "code",
      "metadata": {
        "id": "IlQOX3KU1J55"
      },
      "source": [
        "abstract = data[0]['abstract_text']"
      ],
      "execution_count": null,
      "outputs": []
    },
    {
      "cell_type": "code",
      "metadata": {
        "colab": {
          "base_uri": "https://localhost:8080/"
        },
        "id": "CG2cJp1G1Ox9",
        "outputId": "fc0c4fd6-c563-4bdb-c160-890744c370d9"
      },
      "source": [
        "len(abstract)"
      ],
      "execution_count": null,
      "outputs": [
        {
          "output_type": "execute_result",
          "data": {
            "text/plain": [
              "7"
            ]
          },
          "metadata": {
            "tags": []
          },
          "execution_count": 23
        }
      ]
    },
    {
      "cell_type": "code",
      "metadata": {
        "id": "QtYXK69bzvLw"
      },
      "source": [
        "document_text =data[0]['article_text']"
      ],
      "execution_count": null,
      "outputs": []
    },
    {
      "cell_type": "code",
      "metadata": {
        "colab": {
          "base_uri": "https://localhost:8080/"
        },
        "id": "EYCwsCw30dLd",
        "outputId": "45111b23-2a35-496e-df6d-dd9241ce3efc"
      },
      "source": [
        "type(document_text)"
      ],
      "execution_count": null,
      "outputs": [
        {
          "output_type": "execute_result",
          "data": {
            "text/plain": [
              "list"
            ]
          },
          "metadata": {
            "tags": []
          },
          "execution_count": 21
        }
      ]
    },
    {
      "cell_type": "code",
      "metadata": {
        "id": "pTNT5_riz8G_"
      },
      "source": [
        "summarizer = pipeline(\"summarization\")\n",
        "generated_summary = summarizer(document_text, min_length=5, max_length=20)"
      ],
      "execution_count": null,
      "outputs": []
    },
    {
      "cell_type": "code",
      "metadata": {
        "id": "1j7Z0xhD3VJ1"
      },
      "source": [
        " ## Recall-Oriented Understudy for Gisting Evaluation (ROUGE)"
      ],
      "execution_count": null,
      "outputs": []
    },
    {
      "cell_type": "code",
      "metadata": {
        "colab": {
          "base_uri": "https://localhost:8080/"
        },
        "id": "KBJ0MPkw3cV8",
        "outputId": "dc44d0e5-3cad-48dd-c1a4-69f177a0c871"
      },
      "source": [
        "! pip install rouge"
      ],
      "execution_count": null,
      "outputs": [
        {
          "output_type": "stream",
          "text": [
            "Collecting rouge\n",
            "  Downloading rouge-1.0.1-py3-none-any.whl (13 kB)\n",
            "Requirement already satisfied: six in /usr/local/lib/python3.7/dist-packages (from rouge) (1.15.0)\n",
            "Installing collected packages: rouge\n",
            "Successfully installed rouge-1.0.1\n"
          ],
          "name": "stdout"
        }
      ]
    },
    {
      "cell_type": "code",
      "metadata": {
        "id": "z1_gqvhE30IP"
      },
      "source": [
        "from rouge import Rouge \n",
        "\n",
        "hypothesis = \"the #### transcript is a written version of each day 's cnn student news program use this transcript to he    lp students with reading comprehension and vocabulary use the weekly newsquiz to test your knowledge of storie s you     saw on cnn student news\"\n",
        "\n",
        "reference = \"this page includes the show transcript use the transcript to help students with reading comprehension and     vocabulary at the bottom of the page , comment for a chance to be mentioned on cnn student news . you must be a teac    her or a student age # # or older to request a mention on the cnn student news roll call . the weekly newsquiz tests     students ' knowledge of even ts in the news\"\n",
        "\n",
        "rouge = Rouge()\n",
        "scores = rouge.get_scores(hypothesis, reference)"
      ],
      "execution_count": null,
      "outputs": []
    },
    {
      "cell_type": "code",
      "metadata": {
        "colab": {
          "base_uri": "https://localhost:8080/"
        },
        "id": "k1UyxbkP6E0w",
        "outputId": "ad69f80a-8a4b-47a7-d926-dcedaef78363"
      },
      "source": [
        "scores"
      ],
      "execution_count": null,
      "outputs": [
        {
          "output_type": "execute_result",
          "data": {
            "text/plain": [
              "[{'rouge-1': {'f': 0.49411764217577864,\n",
              "   'p': 0.5833333333333334,\n",
              "   'r': 0.42857142857142855},\n",
              "  'rouge-2': {'f': 0.23423422957552154,\n",
              "   'p': 0.3170731707317073,\n",
              "   'r': 0.18571428571428572},\n",
              "  'rouge-l': {'f': 0.44705881864636676,\n",
              "   'p': 0.5277777777777778,\n",
              "   'r': 0.3877551020408163}}]"
            ]
          },
          "metadata": {
            "tags": []
          },
          "execution_count": 28
        }
      ]
    },
    {
      "cell_type": "code",
      "metadata": {
        "colab": {
          "base_uri": "https://localhost:8080/"
        },
        "id": "f_uD4WGH6LLf",
        "outputId": "65853b8b-74ab-46b8-948a-2f4fc8295cd3"
      },
      "source": [
        "generated_summary"
      ],
      "execution_count": null,
      "outputs": [
        {
          "output_type": "execute_result",
          "data": {
            "text/plain": [
              "[{'summary_text': \" anxiety affects quality of life in those living with parkinson 's disease (pd\"},\n",
              " {'summary_text': ' anxiety rather than depression is the most prominent and prevalent mood disorder in pd patients .'},\n",
              " {'summary_text': ' Our current understanding of anxiety and its impact on cognition in pd lags far behind'},\n",
              " {'summary_text': ' neuropsychiatric symptoms in pd have been shown to be negatively associated with cognitive performance'},\n",
              " {'summary_text': ' Higher depression scores have been correlated with lower scores on the mini - mental state exam ('},\n",
              " {'summary_text': ' apathy and anhedonia in pd patients have been associated with executive dysfunction .'},\n",
              " {'summary_text': ' Few studies have specifically investigated the relationship between anxiety and cognition in pd .'},\n",
              " {'summary_text': ' A study showed a negative relationship between anxiety ( both state and trait ) and overall cognitive'},\n",
              " {'summary_text': ' trait anxiety was negatively associated with each of the cognitive domains assessed by the rbans'},\n",
              " {'summary_text': ' Two further studies have examined whether anxiety differentially affects cognition in patients with left - sided'},\n",
              " {'summary_text': ' apathy but not anxiety was associated with performance on nonverbally mediated executive functions and'},\n",
              " {'summary_text': ' anxiety was significantly correlated with neuropsychological measures of attention and executive and visuosp'},\n",
              " {'summary_text': ' It is evident that there are limited and inconsistent findings describing the relationship between anxiety and cognition'},\n",
              " {'summary_text': ' To date, no study has examined the influence of anxiety on cognition in pd .'},\n",
              " {'summary_text': ' anxiety reduces processing capacity and impairs processing efficiency, especially in the central executive and attention'},\n",
              " {'summary_text': ' Previous work has focused on the influence of symptom laterality on anxiety and cognition . We'},\n",
              " {'summary_text': ' seventeen pd patients with anxiety and thirty - three patients without anxiety were included in this'},\n",
              " {'summary_text': ' The data was taken from a patient database compiled over the past 8 years ( since 2008'},\n",
              " {'summary_text': ' inclusion criteria involved a diagnosis of idiopathic pd according to the united kingdom'},\n",
              " {'summary_text': ' Patients also had to have an adequate proficiency in English and have completed a full neuropsych'},\n",
              " {'summary_text': ' ten patients in this study were taking psychotropic drugs ( i.e. benzod'},\n",
              " {'summary_text': ' Patients were excluded if they had other neurological disorders, psychiatric disorders, or if they reported'},\n",
              " {'summary_text': ' All participants who scored within a  depressed  ( hads - d > 6 )'},\n",
              " {'summary_text': ' this research was approved by the human research ethics committee of the university of sydney'},\n",
              " {'summary_text': ' self - reported hads was used to assess anxiety in pd . Self - reported'},\n",
              " {'summary_text': ' a cut - off score of > 8 on the anxiety subscale of the hads'},\n",
              " {'summary_text': ' this criterion was more stringent than usual ( > 7 cut - off score ) , in'},\n",
              " {'summary_text': ' The neurological evaluation rated participants according to hoehn and yahr ( h&'},\n",
              " {'summary_text': ' this was determined by calculating a total left and right score from rigidity items 3035'},\n",
              " {'summary_text': ' processing speed was assessed using the trail making test , part a ( tmt - a'},\n",
              " {'summary_text': ' attentional set - shifting was measured using the trail making test , part b ( t'},\n",
              " {'summary_text': ' working memory was assessed using the digit span forward and backward subtest of the wech'},\n",
              " {'summary_text': ' language was assessed with semantic and phonemic verbal fluency via the controlled oral word associated'},\n",
              " {'summary_text': ' The ability to retain learned verbal memory was assessed using the logical memory subtest from the'},\n",
              " {'summary_text': ' demographic, clinical , and neuropsychological variables were compared between the two groups with the'},\n",
              " {'summary_text': ' chi - square tests were used to examine gender and symptom laterality differences between groups .'},\n",
              " {'summary_text': ' all analyses employed an alpha level of p < 0.05 and were two - t'},\n",
              " {'summary_text': ' Spearman correlations were performed separately in each group to examine associations between anxiety and depression ratings'},\n",
              " {'summary_text': ' pda+ group reported significant greater levels of anxiety on the hads - a ('},\n",
              " {'summary_text': ' groups were matched in age ( t(48) = 1.31 , p ='},\n",
              " {'summary_text': ' All groups were matched in the distribution of gender (  = 0.098 ,'},\n",
              " {'summary_text': ' pda+ group had worse performance on the trail making test part b ( t('},\n",
              " {'summary_text': ' The pda+ group demonstrated significantly worse performance on the digit span forward subtest ('},\n",
              " {'summary_text': ' Neither semantic verbal fluency ( t(47) = 0.70 , p ='},\n",
              " {'summary_text': ' logical memory i immediate recall test ( u = 176 , p = 0.059)'},\n",
              " {'summary_text': ' No differences between groups in global cognition ( mmse ) ( u = 222.5'},\n",
              " {'summary_text': ' Participants were split into lpd and rpd and then further group differences were examined between'},\n",
              " {'summary_text': ' lpda+ demonstrated worse performance on the digit span forward test ( t(19'},\n",
              " {'summary_text': ' Study is the first to directly compare cognition between pd patients with and without anxiety .'},\n",
              " {'summary_text': ' The findings confirmed our hypothesis that anxiety negatively influences attention shifting and working memory in pd'},\n",
              " {'summary_text': ' Patients with anxiety were more impaired on the trail making test part b which assessed attentional'},\n",
              " {'summary_text': ' anxiety in pd may reduce processing capacity and impair processing efficiency, especially in the central'},\n",
              " {'summary_text': ' anxiety disorders are related to neurochemical changes that occur during the early premotor stages of'},\n",
              " {'summary_text': ' Chronic dysregulation of adrenocortical and catecholamine functions can lead to'},\n",
              " {'summary_text': ' Chronic stress from anxiety may be a result of chronic stress from an anxiety disorder . Chronic'},\n",
              " {'summary_text': ' anxiety may disrupt compensatory processes in pd patients . anxiety may explain cognitive impairments'},\n",
              " {'summary_text': ' hyperactivation within the putamen may reflect a compensatory striatal mechanism to maintain normal'},\n",
              " {'summary_text': ' anxiety in mild pd has been linked to reduced putamen dopamine uptake . anxiety in'},\n",
              " {'summary_text': ' anxiety may disrupt compensatory striatal mechanisms as well . this further supports the notion that'},\n",
              " {'summary_text': ' noradrenergic and serotonergic systems should also be considered when trying to explain'},\n",
              " {'summary_text': ' selective serotonin reuptake inhibitor citalopram was shown to improve response inhibition deficits'},\n",
              " {'summary_text': ' Very few neuroimaging studies have been conducted in pd to understand the neural correlates'},\n",
              " {'summary_text': ' future research should focus on relating anatomical changes and neurochemical changes to neural activation in order'},\n",
              " {'summary_text': ' future research should focus on using advanced structural and function imaging techniques to explain both cognitive and'},\n",
              " {'summary_text': ' Those with mild cognitive impairment who have more neuropsychiatric symptoms have a greater risk of'},\n",
              " {'summary_text': ' future studies should also examine whether treating neuropsychiatric symptoms might impact the progression of cognitive'},\n",
              " {'summary_text': ' Previous studies have used pd symptom laterality as a window to infer asymmetrical dysfunction'},\n",
              " {'summary_text': ' lpd patients have greater inferred right hemisphere pathology . rpd patients tend to have greater'},\n",
              " {'summary_text': ' cognitive domains predominantly subserved by the left hemisphere might be more affected in rpd than'},\n",
              " {'summary_text': ' cognitive domains subserved by the left hemisphere may also be more strongly related to anxiety .'},\n",
              " {'summary_text': ' Results from this study showed selective verbal memory deficits in rpd patients with anxiety compared to'},\n",
              " {'summary_text': ' Although these results align with previous research , interpretations of these findings should be made with caution'},\n",
              " {'summary_text': ' Recent work has suggested that the hads questionnaire may underestimate the burden of anxiety related symptom'},\n",
              " {'summary_text': ' Our findings are likely conservative and underrepresent the true impact anxiety has on cognition in p'},\n",
              " {'summary_text': ' future studies are encouraged to collect a more complex and comprehensive battery from a larger sample of'},\n",
              " {'summary_text': \" A limitation of this study was the absence of diagnostic interviews to characterize participants ' psychiatric symptoms\"},\n",
              " {'summary_text': ' future studies should perform diagnostic interviews with participants ( e.g. , using dsm'},\n",
              " {'summary_text': ' The questionnaire assessed both anxiety and depression simultaneously and allowed us to control for coexisting depression'},\n",
              " {'summary_text': ' All participants included in the study scored < 6 on the depression subscale of the had'},\n",
              " {'summary_text': ' controlling for depression while assessing anxiety has been identified as a key shortcoming in the majority'},\n",
              " {'summary_text': ' Future research should try to disentangle influence of anxiety versus depression on cognitive impairments'},\n",
              " {'summary_text': ' anxiety is a key contributor to decreased quality of life in pd and greatly requires better'},\n",
              " {'summary_text': ' anxiety has been suggested to play a key role in freezing of gait ( fog )'},\n",
              " {'summary_text': ' future research should examine the link between anxiety and set - shifting and fog in order to'}]"
            ]
          },
          "metadata": {
            "tags": []
          },
          "execution_count": 29
        }
      ]
    },
    {
      "cell_type": "code",
      "metadata": {
        "colab": {
          "base_uri": "https://localhost:8080/"
        },
        "id": "Q_hgvLeP6Z3Z",
        "outputId": "ae1eaf78-8134-4a3b-e933-8c1800ac7bbd"
      },
      "source": [
        "\n",
        "type(generated_summary)"
      ],
      "execution_count": null,
      "outputs": [
        {
          "output_type": "execute_result",
          "data": {
            "text/plain": [
              "list"
            ]
          },
          "metadata": {
            "tags": []
          },
          "execution_count": 30
        }
      ]
    },
    {
      "cell_type": "code",
      "metadata": {
        "colab": {
          "base_uri": "https://localhost:8080/",
          "height": 35
        },
        "id": "B6DYUe8d6jaq",
        "outputId": "cb86c44a-2fc4-4af2-dfca-c285412f545c"
      },
      "source": [
        "generated_summary[0]['summary_text']"
      ],
      "execution_count": null,
      "outputs": [
        {
          "output_type": "execute_result",
          "data": {
            "application/vnd.google.colaboratory.intrinsic+json": {
              "type": "string"
            },
            "text/plain": [
              "\" anxiety affects quality of life in those living with parkinson 's disease (pd\""
            ]
          },
          "metadata": {
            "tags": []
          },
          "execution_count": 33
        }
      ]
    },
    {
      "cell_type": "code",
      "metadata": {
        "id": "RZJ4txcc6sP4"
      },
      "source": [
        "total_summary = \"\"\n",
        "for sentence in generated_summary:\n",
        "  \n",
        "  total_summary = total_summary + sentence['summary_text']"
      ],
      "execution_count": null,
      "outputs": []
    },
    {
      "cell_type": "code",
      "metadata": {
        "colab": {
          "base_uri": "https://localhost:8080/",
          "height": 126
        },
        "id": "4FSFAJOq7vHB",
        "outputId": "a6d362f6-cb4f-4b64-d0d4-a8a87b4d4c4c"
      },
      "source": [
        "total_summary"
      ],
      "execution_count": null,
      "outputs": [
        {
          "output_type": "execute_result",
          "data": {
            "application/vnd.google.colaboratory.intrinsic+json": {
              "type": "string"
            },
            "text/plain": [
              "\" anxiety affects quality of life in those living with parkinson 's disease (pd anxiety rather than depression is the most prominent and prevalent mood disorder in pd patients . Our current understanding of anxiety and its impact on cognition in pd lags far behind neuropsychiatric symptoms in pd have been shown to be negatively associated with cognitive performance Higher depression scores have been correlated with lower scores on the mini - mental state exam ( apathy and anhedonia in pd patients have been associated with executive dysfunction . Few studies have specifically investigated the relationship between anxiety and cognition in pd . A study showed a negative relationship between anxiety ( both state and trait ) and overall cognitive trait anxiety was negatively associated with each of the cognitive domains assessed by the rbans Two further studies have examined whether anxiety differentially affects cognition in patients with left - sided apathy but not anxiety was associated with performance on nonverbally mediated executive functions and anxiety was significantly correlated with neuropsychological measures of attention and executive and visuosp It is evident that there are limited and inconsistent findings describing the relationship between anxiety and cognition To date, no study has examined the influence of anxiety on cognition in pd . anxiety reduces processing capacity and impairs processing efficiency, especially in the central executive and attention Previous work has focused on the influence of symptom laterality on anxiety and cognition . We seventeen pd patients with anxiety and thirty - three patients without anxiety were included in this The data was taken from a patient database compiled over the past 8 years ( since 2008 inclusion criteria involved a diagnosis of idiopathic pd according to the united kingdom Patients also had to have an adequate proficiency in English and have completed a full neuropsych ten patients in this study were taking psychotropic drugs ( i.e. benzod Patients were excluded if they had other neurological disorders, psychiatric disorders, or if they reported All participants who scored within a  depressed  ( hads - d > 6 ) this research was approved by the human research ethics committee of the university of sydney self - reported hads was used to assess anxiety in pd . Self - reported a cut - off score of > 8 on the anxiety subscale of the hads this criterion was more stringent than usual ( > 7 cut - off score ) , in The neurological evaluation rated participants according to hoehn and yahr ( h& this was determined by calculating a total left and right score from rigidity items 3035 processing speed was assessed using the trail making test , part a ( tmt - a attentional set - shifting was measured using the trail making test , part b ( t working memory was assessed using the digit span forward and backward subtest of the wech language was assessed with semantic and phonemic verbal fluency via the controlled oral word associated The ability to retain learned verbal memory was assessed using the logical memory subtest from the demographic, clinical , and neuropsychological variables were compared between the two groups with the chi - square tests were used to examine gender and symptom laterality differences between groups . all analyses employed an alpha level of p < 0.05 and were two - t Spearman correlations were performed separately in each group to examine associations between anxiety and depression ratings pda+ group reported significant greater levels of anxiety on the hads - a ( groups were matched in age ( t(48) = 1.31 , p = All groups were matched in the distribution of gender (  = 0.098 , pda+ group had worse performance on the trail making test part b ( t( The pda+ group demonstrated significantly worse performance on the digit span forward subtest ( Neither semantic verbal fluency ( t(47) = 0.70 , p = logical memory i immediate recall test ( u = 176 , p = 0.059) No differences between groups in global cognition ( mmse ) ( u = 222.5 Participants were split into lpd and rpd and then further group differences were examined between lpda+ demonstrated worse performance on the digit span forward test ( t(19 Study is the first to directly compare cognition between pd patients with and without anxiety . The findings confirmed our hypothesis that anxiety negatively influences attention shifting and working memory in pd Patients with anxiety were more impaired on the trail making test part b which assessed attentional anxiety in pd may reduce processing capacity and impair processing efficiency, especially in the central anxiety disorders are related to neurochemical changes that occur during the early premotor stages of Chronic dysregulation of adrenocortical and catecholamine functions can lead to Chronic stress from anxiety may be a result of chronic stress from an anxiety disorder . Chronic anxiety may disrupt compensatory processes in pd patients . anxiety may explain cognitive impairments hyperactivation within the putamen may reflect a compensatory striatal mechanism to maintain normal anxiety in mild pd has been linked to reduced putamen dopamine uptake . anxiety in anxiety may disrupt compensatory striatal mechanisms as well . this further supports the notion that noradrenergic and serotonergic systems should also be considered when trying to explain selective serotonin reuptake inhibitor citalopram was shown to improve response inhibition deficits Very few neuroimaging studies have been conducted in pd to understand the neural correlates future research should focus on relating anatomical changes and neurochemical changes to neural activation in order future research should focus on using advanced structural and function imaging techniques to explain both cognitive and Those with mild cognitive impairment who have more neuropsychiatric symptoms have a greater risk of future studies should also examine whether treating neuropsychiatric symptoms might impact the progression of cognitive Previous studies have used pd symptom laterality as a window to infer asymmetrical dysfunction lpd patients have greater inferred right hemisphere pathology . rpd patients tend to have greater cognitive domains predominantly subserved by the left hemisphere might be more affected in rpd than cognitive domains subserved by the left hemisphere may also be more strongly related to anxiety . Results from this study showed selective verbal memory deficits in rpd patients with anxiety compared to Although these results align with previous research , interpretations of these findings should be made with caution Recent work has suggested that the hads questionnaire may underestimate the burden of anxiety related symptom Our findings are likely conservative and underrepresent the true impact anxiety has on cognition in p future studies are encouraged to collect a more complex and comprehensive battery from a larger sample of A limitation of this study was the absence of diagnostic interviews to characterize participants ' psychiatric symptoms future studies should perform diagnostic interviews with participants ( e.g. , using dsm The questionnaire assessed both anxiety and depression simultaneously and allowed us to control for coexisting depression All participants included in the study scored < 6 on the depression subscale of the had controlling for depression while assessing anxiety has been identified as a key shortcoming in the majority Future research should try to disentangle influence of anxiety versus depression on cognitive impairments anxiety is a key contributor to decreased quality of life in pd and greatly requires better anxiety has been suggested to play a key role in freezing of gait ( fog ) future research should examine the link between anxiety and set - shifting and fog in order to\""
            ]
          },
          "metadata": {
            "tags": []
          },
          "execution_count": 36
        }
      ]
    },
    {
      "cell_type": "code",
      "metadata": {
        "colab": {
          "base_uri": "https://localhost:8080/"
        },
        "id": "3PxPKj-I7-XY",
        "outputId": "db712612-89d6-4cb5-c620-9713f971b61e"
      },
      "source": [
        "abstract"
      ],
      "execution_count": null,
      "outputs": [
        {
          "output_type": "execute_result",
          "data": {
            "text/plain": [
              "[\"<S> research on the implications of anxiety in parkinson 's disease ( pd ) has been neglected despite its prevalence in nearly 50% of patients and its negative impact on quality of life . </S>\",\n",
              " '<S> previous reports have noted that neuropsychiatric symptoms impair cognitive performance in pd patients ; however , to date , no study has directly compared pd patients with and without anxiety to examine the impact of anxiety on cognitive impairments in pd . </S>',\n",
              " '<S> this study compared cognitive performance across 50 pd participants with and without anxiety ( 17 pda+ ; 33 pda ) , who underwent neurological and neuropsychological assessment . </S>',\n",
              " '<S> group performance was compared across the following cognitive domains : simple attention / visuomotor processing speed , executive function ( e.g. , set - shifting ) , working memory , language , and memory / new verbal learning . </S>',\n",
              " '<S> results showed that pda+ performed significantly worse on the digit span forward and backward test and part b of the trail making task ( tmt - b ) compared to the pda group . </S>',\n",
              " '<S> there were no group differences in verbal fluency , logical memory , or tmt - a performance . in conclusion , </S>',\n",
              " '<S> anxiety in pd has a measurable impact on working memory and attentional set - shifting . </S>']"
            ]
          },
          "metadata": {
            "tags": []
          },
          "execution_count": 37
        }
      ]
    },
    {
      "cell_type": "code",
      "metadata": {
        "id": "V54iucay8NG_"
      },
      "source": [
        "reference_summary =\"\"\n",
        "for sentence in abstract:\n",
        "  sent = sentence.replace('<S>',\"\") \n",
        "  sent2 = sent.replace('</S>',\"\") \n",
        "  \n",
        "  reference_summary =  reference_summary +sent2  "
      ],
      "execution_count": null,
      "outputs": []
    },
    {
      "cell_type": "code",
      "metadata": {
        "colab": {
          "base_uri": "https://localhost:8080/",
          "height": 126
        },
        "id": "KrMP5MBx8850",
        "outputId": "6a7f8cf2-b3b5-44eb-d02d-77a5afcbf51d"
      },
      "source": [
        "reference_summary  "
      ],
      "execution_count": null,
      "outputs": [
        {
          "output_type": "execute_result",
          "data": {
            "application/vnd.google.colaboratory.intrinsic+json": {
              "type": "string"
            },
            "text/plain": [
              "\" research on the implications of anxiety in parkinson 's disease ( pd ) has been neglected despite its prevalence in nearly 50% of patients and its negative impact on quality of life .  previous reports have noted that neuropsychiatric symptoms impair cognitive performance in pd patients ; however , to date , no study has directly compared pd patients with and without anxiety to examine the impact of anxiety on cognitive impairments in pd .  this study compared cognitive performance across 50 pd participants with and without anxiety ( 17 pda+ ; 33 pda ) , who underwent neurological and neuropsychological assessment .  group performance was compared across the following cognitive domains : simple attention / visuomotor processing speed , executive function ( e.g. , set - shifting ) , working memory , language , and memory / new verbal learning .  results showed that pda+ performed significantly worse on the digit span forward and backward test and part b of the trail making task ( tmt - b ) compared to the pda group .  there were no group differences in verbal fluency , logical memory , or tmt - a performance . in conclusion ,  anxiety in pd has a measurable impact on working memory and attentional set - shifting . \""
            ]
          },
          "metadata": {
            "tags": []
          },
          "execution_count": 43
        }
      ]
    },
    {
      "cell_type": "code",
      "metadata": {
        "id": "_S71dCxH8-7v"
      },
      "source": [
        "rouge = Rouge()\n",
        "scores = rouge.get_scores(total_summary, reference_summary)"
      ],
      "execution_count": null,
      "outputs": []
    },
    {
      "cell_type": "code",
      "metadata": {
        "colab": {
          "base_uri": "https://localhost:8080/"
        },
        "id": "1fcvoPYp9t_s",
        "outputId": "bc53d102-4946-402c-966f-5f3578472c78"
      },
      "source": [
        "scores"
      ],
      "execution_count": null,
      "outputs": [
        {
          "output_type": "execute_result",
          "data": {
            "text/plain": [
              "[{'rouge-1': {'f': 0.28286189376452453,\n",
              "   'p': 0.17453798767967146,\n",
              "   'r': 0.7456140350877193},\n",
              "  'rouge-2': {'f': 0.09626555752106204,\n",
              "   'p': 0.05708661417322835,\n",
              "   'r': 0.30687830687830686},\n",
              "  'rouge-l': {'f': 0.2462562365265877,\n",
              "   'p': 0.15195071868583163,\n",
              "   'r': 0.6491228070175439}}]"
            ]
          },
          "metadata": {
            "tags": []
          },
          "execution_count": 46
        }
      ]
    },
    {
      "cell_type": "markdown",
      "metadata": {
        "id": "hgZ4zXO_9vRg"
      },
      "source": [
        "Recall"
      ]
    },
    {
      "cell_type": "markdown",
      "metadata": {
        "id": "zOAbwnWK-N19"
      },
      "source": [
        "![image.png](data:image/png;base64,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)"
      ]
    },
    {
      "cell_type": "markdown",
      "metadata": {
        "id": "ZIlLbRt9-VjU"
      },
      "source": [
        "Precison"
      ]
    },
    {
      "cell_type": "markdown",
      "metadata": {
        "id": "7cOtWRVd-82M"
      },
      "source": [
        "![image.png](data:image/png;base64,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)"
      ]
    },
    {
      "cell_type": "markdown",
      "metadata": {
        "id": "3FERT9PdyRBg"
      },
      "source": [
        "#Text Summarisation on the sample CNN daily mail dataset and other example comparing different algoritms "
      ]
    },
    {
      "cell_type": "code",
      "metadata": {
        "id": "L14-u52a3-Zi"
      },
      "source": [
        "original_text = \"\"\"\n",
        "Junk foods taste good that’s why it is mostly liked by everyone of any age group especially kids and school going children. They generally ask for the junk food daily because they \n",
        "have been  trend so by their parents from the childhood. They never have been discussed by their parents about the harmful effects of junk foods over health. According to the \n",
        "research by  scientists, it has been found that junk foods have negative effects on the health in many ways. They are generally fried food found in the market in the packets. \n",
        "They become high in calories, high in cholesterol, low in healthy nutrients, high in sodium mineral, high in sugar, starch, unhealthy fat, lack of protein and lack of dietary fibers.\n",
        " Processed and junk foods are the means of rapid and unhealthy weight gain and negatively impact the whole body throughout the life. It makes able a person to gain excessive \n",
        " weight which is called as obesity. Junk foods tastes good and looks good however do not fulfil the healthy calorie requirement of the body. Some of the foods like french fries, \n",
        " fried foods, pizza, burgers, candy, soft drinks, baked goods, ice cream, cookies, etc are the example of high-sugar and high-fat containing foods. It is found according to the \n",
        " Centres for Disease Control and Prevention that Kids and children eating junk food are more prone to the type-2 diabetes. In type-2 diabetes our body become unable to regulate\n",
        "  blood sugar level. Risk of getting this disease is increasing as one become more obese or overweight. It increases the risk of kidney failure. Eating junk food daily lead us to\n",
        " the nutritional deficiencies in the body because it is lack of essential nutrients, vitamins, iron, minerals and dietary fibers. It increases risk of cardiovascular diseases \n",
        " because it is rich in saturated fat, sodium and bad cholesterol. High sodium and bad cholesterol diet increases blood pressure and overloads the heart functioning. One who like\n",
        "  junk food develop more risk to put on extra weight and become fatter and unhealthier. Junk foods contain high level carbohydrate which spike blood sugar level and make person \n",
        "  more lethargic, sleepy and less active and alert. Reflexes and senses of the people eating this food become dull day by day thus they live more sedentary life. Junk foods are\n",
        "   the source of constipation and other disease like diabetes, heart ailments, clogged arteries, heart attack, strokes, etc because of being poor in nutrition. Junk food is the easiest way to gain unhealthy weight. The amount of fats and sugar in the food makes you gain weight rapidly. However, this is not a healthy weight. It is more of fats and cholesterol which will have a harmful impact on your health. Junk food is also one of the main reasons for the increase in obesity nowadays.This food only looks and tastes good, other than that, it has no positive points. The amount of calorie your body requires to stay fit is not fulfilled by this food. For instance, foods like French fries, burgers, candy, and cookies, all have high amounts of sugar and fats. Therefore, this can result in long-term illnesses like diabetes and high blood pressure. This may also result in kidney failure. Above all, you can get various nutritional deficiencies when you don’t consume the essential nutrients, vitamins, minerals and more. You become prone to cardiovascular diseases due to the consumption of bad cholesterol and fat plus sodium. In other words, all this interferes with the functioning of your heart. Furthermore, junk food contains a higher level of carbohydrates. It will instantly spike your blood sugar levels. This will result in lethargy, inactiveness, and sleepiness. A person reflex becomes dull overtime and they lead an inactive life. To make things worse, junk food also clogs your arteries and increases the risk of a heart attack. Therefore, it must be avoided at the first instance to save your life from becoming ruined.The main problem with junk food is that people don’t realize its ill effects now. When the time comes, it is too late. Most importantly, the issue is that it does not impact you instantly. It works on your overtime; you will face the consequences sooner or later. Thus, it is better to stop now.You can avoid junk food by encouraging your children from an early age to eat green vegetables. Their taste buds must be developed as such that they find healthy food tasty. Moreover, try to mix things up. Do not serve the same green vegetable daily in the same style. Incorporate different types of healthy food in their diet following different recipes. This will help them to try foods at home rather than being attracted to junk food.In short, do not \n",
        " deprive them completely of it as that will not help. Children will find one way or the other to have it. Make sure you give them junk food in limited quantities and at healthy \n",
        " periods of time. '"
      ],
      "execution_count": 21,
      "outputs": []
    },
    {
      "cell_type": "markdown",
      "metadata": {
        "id": "mG8K__7k_Cf6"
      },
      "source": [
        "Referece: CNN Daily Mail Dataset\n"
      ]
    },
    {
      "cell_type": "code",
      "metadata": {
        "id": "lycWT84UTPjn"
      },
      "source": [
        "document_text=\"\"\"\n",
        " Hello, everyone! This Tuesday on CNN Student News, we're taking you under thebig top. First, though, we're headed down themighty Mississippi. First Up: Flood Waters Rising \n",
        " . AZUZ: That would be the Mississippi River, which is causing floods up and down its path through the\n",
        "United States. Want to take you down the river now to check out some of what's been going on. We're\n",
        "gonna start in southern Illinois, in the city of Cairo. You see it right there on your screen. Flooding was threatening to wipe out the entire\n",
        "town. The U.S. Army Corps of Engineers came up with this plan to help Cairo and some other communities nearby. And that brings us down into Missouri. \n",
        "What the Corps did was intentionally blow up a levee, a barrier that's designed to\n",
        "actually prevent flooding. That helped the towns up in Illinois, but it purposely flooded some\n",
        "parts of Missouri, some farms. And a lot of people, especially farmers, angry with this plan.\n",
        "One farmer said she felt like she was suffering for somebody else. The flooding has followed the\n",
        "Mississippi's path through Arkansas and down into Louisiana, as you see here. Yesterday, engineers\n",
        "opened a spillway north of the city of New Orleans. The goal here is to help ease the\n",
        "pressure on the river, hopefully lower the flood levels, keep the water away from New Orleans. But\n",
        "just to get an idea of how much water we're talking about, a commander with the Army Corps of\n",
        "Engineers offered an analogy. He said the water that's rushing through the Mississippi right now,\n",
        "in one second, could fill up an area the size of a football field 44 feet deep. We're also seeing\n",
        "flooding in states that the Mississippi branches off to, like Tennessee. Holly Firfer has more on\n",
        "the situation there. (BEGIN VIDEO) HOLLY FIRFER, CNN NATIONAL CORRESPONDENT: Tennessee's largest\n",
        "city is in the cross hairs. Memphis now has the \"most high-risk population\" for flooding,\n",
        "according to the Army Corps of Engineers. On Tuesday, authorities expect the Mississippi to\n",
        "crest at 48 feet outside the city, less than afoot shy of the record level set in 1937. With the\n",
        "Mississippi swollen by a month of abnormally high rainfall, its tributaries are overflowing, with\n",
        "nowhere for their water to flow. At least 1,100 homes and trailers in and around Memphis have been\n",
        "evacuated. 400 residents of Shelby County are currently in shelters. On Sunday, officials went\n",
        "door to door to alert others that they may also need to leave their homes. The mayor of Memphis is\n",
        "confident that all those who need to escape the rising waters will be evacuated. MAYOR AC WHARTON,\n",
        "MEMPHIS, TENNESSEE: We'll get them out. Some are holding out to the last minute, but we think in\n",
        "the end they're going to come on out. FIRFER: Officials say while there is great pressure on the\n",
        "levees around Memphis, they are currently performing as expected. (END VIDEO) Is This Legit?\n",
        "TOMEKA JONES, CNN STUDENT NEWS: Is this legit? The United States and China have the world's largest\n",
        "economies. Legit! That means these countries have a lot of influence when it comes to globa finances.\n",
        " Economic Talks . AZUZ: Well, the global economy is one of the big issues ahead as\n",
        "representatives from the U.S. and China meet in Washington this week. This is the third set of\n",
        "meetings between the two governments. Last week, one Chinese economic official said, \"To be frank,\n",
        "we have different views that make discussion necessary.\" Some of those different views have to\n",
        "do with the economic policies of the U.S. and China. Since they're the world's biggest\n",
        "economies, what each country does -- its economic practices, the decisions it makes -- can have a\n",
        "pretty big impact on the other nation. Some other subjects are likely to come up during the\n",
        "meetings. That includes human rights, concerns about North Korea's nuclear program, and the U.S.\n",
        "and China working together to fight terrorism. Reactors . AZUZ: Moving to Japan, where officials\n",
        "are shutting down a nuclear power plant. Not the Fukushima Daiichi plant, the one we've talked\n",
        "about since Japan's earthquake and tsunami in March. No, the one we're talking about today is\n",
        "the Hamaoka plant. The owner announced it's being shut down after Japan's prime minister warned that\n",
        "Hamaoka was vulnerable to natural disasters, like the ones that damaged the Fukushima plant.\n",
        "Hamaoka's owner says safety is his company's first priority. Meanwhile, workers went back inside one\n",
        "of the reactors at the Fukushima plant yesterday.\n",
        "They were checking on a ventilation system that was installed last week. The system is filtering\n",
        "out radioactive substances so that engineers can go in and shut down the reactor. Shoutout . MATT\n",
        "CHERRY, CNN STUDENT NEWS: Today's Shoutout goes out to Miss Abromitis' class at the Sarah Rawson\n",
        "Smith School in Atlanta, Georgia! What is the scientific name for a fear of heights? Here we go!\n",
        "Is it: A) Agoraphobia, B) Aurophobia, C) Acrophobia or D) Arachnophobia? You've got three\n",
        "seconds -- GO! Fear of heights is acrophobia, from the root word acro, which means height. That's\n",
        "your answer and that's your Shoutout! Gamma Phi Circus . AZUZ: That's also where we get the word\n",
        "acrobat, like tightrope walkers and trapeze artists; the kind of folks you'd see in a circus.\n",
        "Ted Rowlands visited a school in Illinois where students can train to be part of the show. It's\n",
        "not clown college. It's a regular university where the person sitting next to you in Chemistry 101\n",
        "could be double-majoring in Circus Studies. (BEGIN VIDEO) UNIDENTIFIED MALE: Is our identity going to\n",
        "become more external than it has been internal? TED ROWLANDS, CNN CORRESPONDENT: Sarah Bowden is a\n",
        "sophomore at Illinois State University. UNIDENTIFIED MALE: Boys and girls, children of all\n",
        "ages. ROWLANDS: She is also a circus performer.\n",
        "Sarah is part of Illinois State's Gamma Phi Circus, a school-sponsored circus team that dates\n",
        "back to 1929. It's the oldest of two college circus programs in the country; the other is at\n",
        "Florida State. SARAH BOWDEN, CIRCUS PERFORMER, ILLINOIS STATE UNIVERSITY STUDENT: So, this is the\n",
        "basic way to get up into the lyric hoop. ROWLANDS:\n",
        "Sarah was a gymnast in high school, but like most of her teammates had no circus experience. What do\n",
        "your parents think of all this? BOWDEN: My parents are really supportive. You know, the minute I\n",
        "joined the circus, they're like, \"What, you joined the circus?\" MARCUS ALOUAN, CIRCUS DIRECTOR,\n",
        "ILLINOIS STATE UNIVERSITY: I think any one of us who has ever come through Gamma Phi Circus has had\n",
        "that conversation with their parents where they're trying to explain that it's still a part of the\n",
        "university, but it's something in addition to going to classes. ROWLANDS: Marcus Alouan, a\n",
        "former student at Illinois State and circus performer, is now the director of the circus\n",
        "program. ALOUAN: For the most part, we look for somebody who's strong, hardworking and coachable.\n",
        "ROWLANDS: And doesn't have a fear of heights? ALOUAN: That certainly helps. Although, actually,\n",
        "we have a lot of people who seek us out because they want to overcome that. ROWLANDS: Senior Nena\n",
        "Woo, who broke her arm in a trapeze fall, says after graduating, she wants to join a professional\n",
        "circus. NENA WOO, CIRCUS PERFORMER, ILLINOIS STATE UNIVERSITY STUDENT: I'm graduating with a degree\n",
        "in public relations. If I can do that with a circus company or somewhere in entertainment, I'd\n",
        "love to do that. ROWLANDS: The circus team has about 75 members. They don't compete, but they do\n",
        "perform every spring. Dating back more than 80\n",
        "years, Gamma Phi Circus puts on a series of shows\n",
        "at the university. This was Sarah's first performance. BOWDEN: Not in a million years did I\n",
        "think I'd be in a circus. So, I am so happy that I did it, though. ROWLANDS: Ted Rowlands, CNN,\n",
        "Normal, Illinois. (END VIDEO) Blog Report . AZUZ: A school without grade levels: We talked about this last Wednesday. \n",
        "You're talking about it right now! Alexis starts us off: \"It would help with discipline problems, but with everybody working at\n",
        "their own pace, some students won't get the push they need.\" Avery is home schooled, but thinks students shouldn't be grouped by age but by knowledge. \n",
        "\"Some students in a class grouped by age may be behind or ahead and thus ignored.\"Clive says it could be a good idea. \"Teachers\n",
        "won't have to worry about leaving students behind who struggle or giving students who are ahead lessons on what they already know.\" From Meg: \"A\n",
        "big part of school is the social part. All kidsdeserve to be with kids who are going through the same things.\" Celeste writes, \"students who usually get caught behind will have a \n",
        "better chance to truly learn the material rather than sit in a class they don't understand.\" But Alex argues, \"It could make kids feel like they aren't as smart as their classmates,\n",
        "which would degrade their work. Some might get picked on because they aren't at the same level.\" Before We Go . AZUZ: Before we go, we want to show you some baby pictures. \n",
        "Never said they were gonna be human. This mini-me here is the newest addition to a safari park in Florida. Her name is Laini, and she's a southern white rhinoceros. It's usually\n",
        "not polite to talk about a lady's weight, but Laini -- who's less than two weeks old -- already weighs 50 pounds! One thing's for sure: she does not have a dry wit, \n",
        "or any kind of a sense of humor, really. Goodbye . AZUZ: You can go ahead and ask her. Are you wry? No, serious. Rhi-no-cerus. It wasn't our best pun, but will it be our last? \n",
        "Rhi-no, no it won't. I'm Carl Azuz, and CNN Student News will be herding back your way tomorrow.\n",
        "\n",
        "\"\"\""
      ],
      "execution_count": null,
      "outputs": []
    },
    {
      "cell_type": "code",
      "metadata": {
        "colab": {
          "base_uri": "https://localhost:8080/"
        },
        "id": "fJVxg9LZy6Bj",
        "outputId": "4be3182b-cb38-4b3d-fbb4-c628694fa2dd"
      },
      "source": [
        "! pip install transformers"
      ],
      "execution_count": null,
      "outputs": [
        {
          "output_type": "stream",
          "text": [
            "Collecting transformers\n",
            "  Downloading transformers-4.9.2-py3-none-any.whl (2.6 MB)\n",
            "\u001b[?25l\r\u001b[K     |▏                               | 10 kB 17.9 MB/s eta 0:00:01\r\u001b[K     |▎                               | 20 kB 21.5 MB/s eta 0:00:01\r\u001b[K     |▍                               | 30 kB 25.1 MB/s eta 0:00:01\r\u001b[K     |▌                               | 40 kB 26.5 MB/s eta 0:00:01\r\u001b[K     |▋                               | 51 kB 26.1 MB/s eta 0:00:01\r\u001b[K     |▊                               | 61 kB 26.9 MB/s eta 0:00:01\r\u001b[K     |▉                               | 71 kB 24.2 MB/s eta 0:00:01\r\u001b[K     |█                               | 81 kB 23.4 MB/s eta 0:00:01\r\u001b[K     |█▏                              | 92 kB 24.9 MB/s eta 0:00:01\r\u001b[K     |█▎                              | 102 kB 26.5 MB/s eta 0:00:01\r\u001b[K     |█▍                              | 112 kB 26.5 MB/s eta 0:00:01\r\u001b[K     |█▌                              | 122 kB 26.5 MB/s eta 0:00:01\r\u001b[K     |█▋                              | 133 kB 26.5 MB/s eta 0:00:01\r\u001b[K     |█▊                              | 143 kB 26.5 MB/s eta 0:00:01\r\u001b[K     |██                              | 153 kB 26.5 MB/s eta 0:00:01\r\u001b[K     |██                              | 163 kB 26.5 MB/s eta 0:00:01\r\u001b[K     |██▏                             | 174 kB 26.5 MB/s eta 0:00:01\r\u001b[K     |██▎                             | 184 kB 26.5 MB/s eta 0:00:01\r\u001b[K     |██▍                             | 194 kB 26.5 MB/s eta 0:00:01\r\u001b[K     |██▌                             | 204 kB 26.5 MB/s eta 0:00:01\r\u001b[K     |██▋                             | 215 kB 26.5 MB/s eta 0:00:01\r\u001b[K     |██▉                             | 225 kB 26.5 MB/s eta 0:00:01\r\u001b[K     |███                             | 235 kB 26.5 MB/s eta 0:00:01\r\u001b[K     |███                             | 245 kB 26.5 MB/s eta 0:00:01\r\u001b[K     |███▏                            | 256 kB 26.5 MB/s eta 0:00:01\r\u001b[K     |███▎                            | 266 kB 26.5 MB/s eta 0:00:01\r\u001b[K     |███▍                            | 276 kB 26.5 MB/s eta 0:00:01\r\u001b[K     |███▌                            | 286 kB 26.5 MB/s eta 0:00:01\r\u001b[K     |███▊                            | 296 kB 26.5 MB/s eta 0:00:01\r\u001b[K     |███▉                            | 307 kB 26.5 MB/s eta 0:00:01\r\u001b[K     |████                            | 317 kB 26.5 MB/s eta 0:00:01\r\u001b[K     |████                            | 327 kB 26.5 MB/s eta 0:00:01\r\u001b[K     |████▏                           | 337 kB 26.5 MB/s eta 0:00:01\r\u001b[K     |████▎                           | 348 kB 26.5 MB/s eta 0:00:01\r\u001b[K     |████▍                           | 358 kB 26.5 MB/s eta 0:00:01\r\u001b[K     |████▌                           | 368 kB 26.5 MB/s eta 0:00:01\r\u001b[K     |████▊                           | 378 kB 26.5 MB/s eta 0:00:01\r\u001b[K     |████▉                           | 389 kB 26.5 MB/s eta 0:00:01\r\u001b[K     |█████                           | 399 kB 26.5 MB/s eta 0:00:01\r\u001b[K     |█████                           | 409 kB 26.5 MB/s eta 0:00:01\r\u001b[K     |█████▏                          | 419 kB 26.5 MB/s eta 0:00:01\r\u001b[K     |█████▎                          | 430 kB 26.5 MB/s eta 0:00:01\r\u001b[K     |█████▍                          | 440 kB 26.5 MB/s eta 0:00:01\r\u001b[K     |█████▋                          | 450 kB 26.5 MB/s eta 0:00:01\r\u001b[K     |█████▊                          | 460 kB 26.5 MB/s eta 0:00:01\r\u001b[K     |█████▉                          | 471 kB 26.5 MB/s eta 0:00:01\r\u001b[K     |██████                          | 481 kB 26.5 MB/s eta 0:00:01\r\u001b[K     |██████                          | 491 kB 26.5 MB/s eta 0:00:01\r\u001b[K     |██████▏                         | 501 kB 26.5 MB/s eta 0:00:01\r\u001b[K     |██████▎                         | 512 kB 26.5 MB/s eta 0:00:01\r\u001b[K     |██████▌                         | 522 kB 26.5 MB/s eta 0:00:01\r\u001b[K     |██████▋                         | 532 kB 26.5 MB/s eta 0:00:01\r\u001b[K     |██████▊                         | 542 kB 26.5 MB/s eta 0:00:01\r\u001b[K     |██████▉                         | 552 kB 26.5 MB/s eta 0:00:01\r\u001b[K     |███████                         | 563 kB 26.5 MB/s eta 0:00:01\r\u001b[K     |███████                         | 573 kB 26.5 MB/s eta 0:00:01\r\u001b[K     |███████▏                        | 583 kB 26.5 MB/s eta 0:00:01\r\u001b[K     |███████▍                        | 593 kB 26.5 MB/s eta 0:00:01\r\u001b[K     |███████▌                        | 604 kB 26.5 MB/s eta 0:00:01\r\u001b[K     |███████▋                        | 614 kB 26.5 MB/s eta 0:00:01\r\u001b[K     |███████▊                        | 624 kB 26.5 MB/s eta 0:00:01\r\u001b[K     |███████▉                        | 634 kB 26.5 MB/s eta 0:00:01\r\u001b[K     |████████                        | 645 kB 26.5 MB/s eta 0:00:01\r\u001b[K     |████████                        | 655 kB 26.5 MB/s eta 0:00:01\r\u001b[K     |████████▏                       | 665 kB 26.5 MB/s eta 0:00:01\r\u001b[K     |████████▍                       | 675 kB 26.5 MB/s eta 0:00:01\r\u001b[K     |████████▌                       | 686 kB 26.5 MB/s eta 0:00:01\r\u001b[K     |████████▋                       | 696 kB 26.5 MB/s eta 0:00:01\r\u001b[K     |████████▊                       | 706 kB 26.5 MB/s eta 0:00:01\r\u001b[K     |████████▉                       | 716 kB 26.5 MB/s eta 0:00:01\r\u001b[K     |█████████                       | 727 kB 26.5 MB/s eta 0:00:01\r\u001b[K     |█████████                       | 737 kB 26.5 MB/s eta 0:00:01\r\u001b[K     |█████████▎                      | 747 kB 26.5 MB/s eta 0:00:01\r\u001b[K     |█████████▍                      | 757 kB 26.5 MB/s eta 0:00:01\r\u001b[K     |█████████▌                      | 768 kB 26.5 MB/s eta 0:00:01\r\u001b[K     |█████████▋                      | 778 kB 26.5 MB/s eta 0:00:01\r\u001b[K     |█████████▊                      | 788 kB 26.5 MB/s eta 0:00:01\r\u001b[K     |█████████▉                      | 798 kB 26.5 MB/s eta 0:00:01\r\u001b[K     |██████████                      | 808 kB 26.5 MB/s eta 0:00:01\r\u001b[K     |██████████▏                     | 819 kB 26.5 MB/s eta 0:00:01\r\u001b[K     |██████████▎                     | 829 kB 26.5 MB/s eta 0:00:01\r\u001b[K     |██████████▍                     | 839 kB 26.5 MB/s eta 0:00:01\r\u001b[K     |██████████▌                     | 849 kB 26.5 MB/s eta 0:00:01\r\u001b[K     |██████████▋                     | 860 kB 26.5 MB/s eta 0:00:01\r\u001b[K     |██████████▊                     | 870 kB 26.5 MB/s eta 0:00:01\r\u001b[K     |██████████▉                     | 880 kB 26.5 MB/s eta 0:00:01\r\u001b[K     |███████████                     | 890 kB 26.5 MB/s eta 0:00:01\r\u001b[K     |███████████▏                    | 901 kB 26.5 MB/s eta 0:00:01\r\u001b[K     |███████████▎                    | 911 kB 26.5 MB/s eta 0:00:01\r\u001b[K     |███████████▍                    | 921 kB 26.5 MB/s eta 0:00:01\r\u001b[K     |███████████▌                    | 931 kB 26.5 MB/s eta 0:00:01\r\u001b[K     |███████████▋                    | 942 kB 26.5 MB/s eta 0:00:01\r\u001b[K     |███████████▊                    | 952 kB 26.5 MB/s eta 0:00:01\r\u001b[K     |███████████▉                    | 962 kB 26.5 MB/s eta 0:00:01\r\u001b[K     |████████████                    | 972 kB 26.5 MB/s eta 0:00:01\r\u001b[K     |████████████▏                   | 983 kB 26.5 MB/s eta 0:00:01\r\u001b[K     |████████████▎                   | 993 kB 26.5 MB/s eta 0:00:01\r\u001b[K     |████████████▍                   | 1.0 MB 26.5 MB/s eta 0:00:01\r\u001b[K     |████████████▌                   | 1.0 MB 26.5 MB/s eta 0:00:01\r\u001b[K     |████████████▋                   | 1.0 MB 26.5 MB/s eta 0:00:01\r\u001b[K     |████████████▊                   | 1.0 MB 26.5 MB/s eta 0:00:01\r\u001b[K     |█████████████                   | 1.0 MB 26.5 MB/s eta 0:00:01\r\u001b[K     |█████████████                   | 1.1 MB 26.5 MB/s eta 0:00:01\r\u001b[K     |█████████████▏                  | 1.1 MB 26.5 MB/s eta 0:00:01\r\u001b[K     |█████████████▎                  | 1.1 MB 26.5 MB/s eta 0:00:01\r\u001b[K     |█████████████▍                  | 1.1 MB 26.5 MB/s eta 0:00:01\r\u001b[K     |█████████████▌                  | 1.1 MB 26.5 MB/s eta 0:00:01\r\u001b[K     |█████████████▋                  | 1.1 MB 26.5 MB/s eta 0:00:01\r\u001b[K     |█████████████▉                  | 1.1 MB 26.5 MB/s eta 0:00:01\r\u001b[K     |██████████████                  | 1.1 MB 26.5 MB/s eta 0:00:01\r\u001b[K     |██████████████                  | 1.1 MB 26.5 MB/s eta 0:00:01\r\u001b[K     |██████████████▏                 | 1.1 MB 26.5 MB/s eta 0:00:01\r\u001b[K     |██████████████▎                 | 1.2 MB 26.5 MB/s eta 0:00:01\r\u001b[K     |██████████████▍                 | 1.2 MB 26.5 MB/s eta 0:00:01\r\u001b[K     |██████████████▌                 | 1.2 MB 26.5 MB/s eta 0:00:01\r\u001b[K     |██████████████▊                 | 1.2 MB 26.5 MB/s eta 0:00:01\r\u001b[K     |██████████████▉                 | 1.2 MB 26.5 MB/s eta 0:00:01\r\u001b[K     |███████████████                 | 1.2 MB 26.5 MB/s eta 0:00:01\r\u001b[K     |███████████████                 | 1.2 MB 26.5 MB/s eta 0:00:01\r\u001b[K     |███████████████▏                | 1.2 MB 26.5 MB/s eta 0:00:01\r\u001b[K     |███████████████▎                | 1.2 MB 26.5 MB/s eta 0:00:01\r\u001b[K     |███████████████▍                | 1.2 MB 26.5 MB/s eta 0:00:01\r\u001b[K     |███████████████▌                | 1.3 MB 26.5 MB/s eta 0:00:01\r\u001b[K     |███████████████▊                | 1.3 MB 26.5 MB/s eta 0:00:01\r\u001b[K     |███████████████▉                | 1.3 MB 26.5 MB/s eta 0:00:01\r\u001b[K     |████████████████                | 1.3 MB 26.5 MB/s eta 0:00:01\r\u001b[K     |████████████████                | 1.3 MB 26.5 MB/s eta 0:00:01\r\u001b[K     |████████████████▏               | 1.3 MB 26.5 MB/s eta 0:00:01\r\u001b[K     |████████████████▎               | 1.3 MB 26.5 MB/s eta 0:00:01\r\u001b[K     |████████████████▍               | 1.3 MB 26.5 MB/s eta 0:00:01\r\u001b[K     |████████████████▋               | 1.3 MB 26.5 MB/s eta 0:00:01\r\u001b[K     |████████████████▊               | 1.4 MB 26.5 MB/s eta 0:00:01\r\u001b[K     |████████████████▉               | 1.4 MB 26.5 MB/s eta 0:00:01\r\u001b[K     |█████████████████               | 1.4 MB 26.5 MB/s eta 0:00:01\r\u001b[K     |█████████████████               | 1.4 MB 26.5 MB/s eta 0:00:01\r\u001b[K     |█████████████████▏              | 1.4 MB 26.5 MB/s eta 0:00:01\r\u001b[K     |█████████████████▎              | 1.4 MB 26.5 MB/s eta 0:00:01\r\u001b[K     |█████████████████▌              | 1.4 MB 26.5 MB/s eta 0:00:01\r\u001b[K     |█████████████████▋              | 1.4 MB 26.5 MB/s eta 0:00:01\r\u001b[K     |█████████████████▊              | 1.4 MB 26.5 MB/s eta 0:00:01\r\u001b[K     |█████████████████▉              | 1.4 MB 26.5 MB/s eta 0:00:01\r\u001b[K     |██████████████████              | 1.5 MB 26.5 MB/s eta 0:00:01\r\u001b[K     |██████████████████              | 1.5 MB 26.5 MB/s eta 0:00:01\r\u001b[K     |██████████████████▏             | 1.5 MB 26.5 MB/s eta 0:00:01\r\u001b[K     |██████████████████▍             | 1.5 MB 26.5 MB/s eta 0:00:01\r\u001b[K     |██████████████████▌             | 1.5 MB 26.5 MB/s eta 0:00:01\r\u001b[K     |██████████████████▋             | 1.5 MB 26.5 MB/s eta 0:00:01\r\u001b[K     |██████████████████▊             | 1.5 MB 26.5 MB/s eta 0:00:01\r\u001b[K     |██████████████████▉             | 1.5 MB 26.5 MB/s eta 0:00:01\r\u001b[K     |███████████████████             | 1.5 MB 26.5 MB/s eta 0:00:01\r\u001b[K     |███████████████████             | 1.5 MB 26.5 MB/s eta 0:00:01\r\u001b[K     |███████████████████▏            | 1.6 MB 26.5 MB/s eta 0:00:01\r\u001b[K     |███████████████████▍            | 1.6 MB 26.5 MB/s eta 0:00:01\r\u001b[K     |███████████████████▌            | 1.6 MB 26.5 MB/s eta 0:00:01\r\u001b[K     |███████████████████▋            | 1.6 MB 26.5 MB/s eta 0:00:01\r\u001b[K     |███████████████████▊            | 1.6 MB 26.5 MB/s eta 0:00:01\r\u001b[K     |███████████████████▉            | 1.6 MB 26.5 MB/s eta 0:00:01\r\u001b[K     |████████████████████            | 1.6 MB 26.5 MB/s eta 0:00:01\r\u001b[K     |████████████████████            | 1.6 MB 26.5 MB/s eta 0:00:01\r\u001b[K     |████████████████████▎           | 1.6 MB 26.5 MB/s eta 0:00:01\r\u001b[K     |████████████████████▍           | 1.6 MB 26.5 MB/s eta 0:00:01\r\u001b[K     |████████████████████▌           | 1.7 MB 26.5 MB/s eta 0:00:01\r\u001b[K     |████████████████████▋           | 1.7 MB 26.5 MB/s eta 0:00:01\r\u001b[K     |████████████████████▊           | 1.7 MB 26.5 MB/s eta 0:00:01\r\u001b[K     |████████████████████▉           | 1.7 MB 26.5 MB/s eta 0:00:01\r\u001b[K     |█████████████████████           | 1.7 MB 26.5 MB/s eta 0:00:01\r\u001b[K     |█████████████████████▏          | 1.7 MB 26.5 MB/s eta 0:00:01\r\u001b[K     |█████████████████████▎          | 1.7 MB 26.5 MB/s eta 0:00:01\r\u001b[K     |█████████████████████▍          | 1.7 MB 26.5 MB/s eta 0:00:01\r\u001b[K     |█████████████████████▌          | 1.7 MB 26.5 MB/s eta 0:00:01\r\u001b[K     |█████████████████████▋          | 1.8 MB 26.5 MB/s eta 0:00:01\r\u001b[K     |█████████████████████▊          | 1.8 MB 26.5 MB/s eta 0:00:01\r\u001b[K     |█████████████████████▉          | 1.8 MB 26.5 MB/s eta 0:00:01\r\u001b[K     |██████████████████████          | 1.8 MB 26.5 MB/s eta 0:00:01\r\u001b[K     |██████████████████████▏         | 1.8 MB 26.5 MB/s eta 0:00:01\r\u001b[K     |██████████████████████▎         | 1.8 MB 26.5 MB/s eta 0:00:01\r\u001b[K     |██████████████████████▍         | 1.8 MB 26.5 MB/s eta 0:00:01\r\u001b[K     |██████████████████████▌         | 1.8 MB 26.5 MB/s eta 0:00:01\r\u001b[K     |██████████████████████▋         | 1.8 MB 26.5 MB/s eta 0:00:01\r\u001b[K     |██████████████████████▊         | 1.8 MB 26.5 MB/s eta 0:00:01\r\u001b[K     |██████████████████████▉         | 1.9 MB 26.5 MB/s eta 0:00:01\r\u001b[K     |███████████████████████         | 1.9 MB 26.5 MB/s eta 0:00:01\r\u001b[K     |███████████████████████▏        | 1.9 MB 26.5 MB/s eta 0:00:01\r\u001b[K     |███████████████████████▎        | 1.9 MB 26.5 MB/s eta 0:00:01\r\u001b[K     |███████████████████████▍        | 1.9 MB 26.5 MB/s eta 0:00:01\r\u001b[K     |███████████████████████▌        | 1.9 MB 26.5 MB/s eta 0:00:01\r\u001b[K     |███████████████████████▋        | 1.9 MB 26.5 MB/s eta 0:00:01\r\u001b[K     |███████████████████████▊        | 1.9 MB 26.5 MB/s eta 0:00:01\r\u001b[K     |████████████████████████        | 1.9 MB 26.5 MB/s eta 0:00:01\r\u001b[K     |████████████████████████        | 1.9 MB 26.5 MB/s eta 0:00:01\r\u001b[K     |████████████████████████▏       | 2.0 MB 26.5 MB/s eta 0:00:01\r\u001b[K     |████████████████████████▎       | 2.0 MB 26.5 MB/s eta 0:00:01\r\u001b[K     |████████████████████████▍       | 2.0 MB 26.5 MB/s eta 0:00:01\r\u001b[K     |████████████████████████▌       | 2.0 MB 26.5 MB/s eta 0:00:01\r\u001b[K     |████████████████████████▋       | 2.0 MB 26.5 MB/s eta 0:00:01\r\u001b[K     |████████████████████████▉       | 2.0 MB 26.5 MB/s eta 0:00:01\r\u001b[K     |█████████████████████████       | 2.0 MB 26.5 MB/s eta 0:00:01\r\u001b[K     |█████████████████████████       | 2.0 MB 26.5 MB/s eta 0:00:01\r\u001b[K     |█████████████████████████▏      | 2.0 MB 26.5 MB/s eta 0:00:01\r\u001b[K     |█████████████████████████▎      | 2.0 MB 26.5 MB/s eta 0:00:01\r\u001b[K     |█████████████████████████▍      | 2.1 MB 26.5 MB/s eta 0:00:01\r\u001b[K     |█████████████████████████▌      | 2.1 MB 26.5 MB/s eta 0:00:01\r\u001b[K     |█████████████████████████▊      | 2.1 MB 26.5 MB/s eta 0:00:01\r\u001b[K     |█████████████████████████▉      | 2.1 MB 26.5 MB/s eta 0:00:01\r\u001b[K     |██████████████████████████      | 2.1 MB 26.5 MB/s eta 0:00:01\r\u001b[K     |██████████████████████████      | 2.1 MB 26.5 MB/s eta 0:00:01\r\u001b[K     |██████████████████████████▏     | 2.1 MB 26.5 MB/s eta 0:00:01\r\u001b[K     |██████████████████████████▎     | 2.1 MB 26.5 MB/s eta 0:00:01\r\u001b[K     |██████████████████████████▍     | 2.1 MB 26.5 MB/s eta 0:00:01\r\u001b[K     |██████████████████████████▌     | 2.2 MB 26.5 MB/s eta 0:00:01\r\u001b[K     |██████████████████████████▊     | 2.2 MB 26.5 MB/s eta 0:00:01\r\u001b[K     |██████████████████████████▉     | 2.2 MB 26.5 MB/s eta 0:00:01\r\u001b[K     |███████████████████████████     | 2.2 MB 26.5 MB/s eta 0:00:01\r\u001b[K     |███████████████████████████     | 2.2 MB 26.5 MB/s eta 0:00:01\r\u001b[K     |███████████████████████████▏    | 2.2 MB 26.5 MB/s eta 0:00:01\r\u001b[K     |███████████████████████████▎    | 2.2 MB 26.5 MB/s eta 0:00:01\r\u001b[K     |███████████████████████████▍    | 2.2 MB 26.5 MB/s eta 0:00:01\r\u001b[K     |███████████████████████████▋    | 2.2 MB 26.5 MB/s eta 0:00:01\r\u001b[K     |███████████████████████████▊    | 2.2 MB 26.5 MB/s eta 0:00:01\r\u001b[K     |███████████████████████████▉    | 2.3 MB 26.5 MB/s eta 0:00:01\r\u001b[K     |████████████████████████████    | 2.3 MB 26.5 MB/s eta 0:00:01\r\u001b[K     |████████████████████████████    | 2.3 MB 26.5 MB/s eta 0:00:01\r\u001b[K     |████████████████████████████▏   | 2.3 MB 26.5 MB/s eta 0:00:01\r\u001b[K     |████████████████████████████▎   | 2.3 MB 26.5 MB/s eta 0:00:01\r\u001b[K     |████████████████████████████▌   | 2.3 MB 26.5 MB/s eta 0:00:01\r\u001b[K     |████████████████████████████▋   | 2.3 MB 26.5 MB/s eta 0:00:01\r\u001b[K     |████████████████████████████▊   | 2.3 MB 26.5 MB/s eta 0:00:01\r\u001b[K     |████████████████████████████▉   | 2.3 MB 26.5 MB/s eta 0:00:01\r\u001b[K     |█████████████████████████████   | 2.3 MB 26.5 MB/s eta 0:00:01\r\u001b[K     |█████████████████████████████   | 2.4 MB 26.5 MB/s eta 0:00:01\r\u001b[K     |█████████████████████████████▏  | 2.4 MB 26.5 MB/s eta 0:00:01\r\u001b[K     |█████████████████████████████▍  | 2.4 MB 26.5 MB/s eta 0:00:01\r\u001b[K     |█████████████████████████████▌  | 2.4 MB 26.5 MB/s eta 0:00:01\r\u001b[K     |█████████████████████████████▋  | 2.4 MB 26.5 MB/s eta 0:00:01\r\u001b[K     |█████████████████████████████▊  | 2.4 MB 26.5 MB/s eta 0:00:01\r\u001b[K     |█████████████████████████████▉  | 2.4 MB 26.5 MB/s eta 0:00:01\r\u001b[K     |██████████████████████████████  | 2.4 MB 26.5 MB/s eta 0:00:01\r\u001b[K     |██████████████████████████████  | 2.4 MB 26.5 MB/s eta 0:00:01\r\u001b[K     |██████████████████████████████▏ | 2.4 MB 26.5 MB/s eta 0:00:01\r\u001b[K     |██████████████████████████████▍ | 2.5 MB 26.5 MB/s eta 0:00:01\r\u001b[K     |██████████████████████████████▌ | 2.5 MB 26.5 MB/s eta 0:00:01\r\u001b[K     |██████████████████████████████▋ | 2.5 MB 26.5 MB/s eta 0:00:01\r\u001b[K     |██████████████████████████████▊ | 2.5 MB 26.5 MB/s eta 0:00:01\r\u001b[K     |██████████████████████████████▉ | 2.5 MB 26.5 MB/s eta 0:00:01\r\u001b[K     |███████████████████████████████ | 2.5 MB 26.5 MB/s eta 0:00:01\r\u001b[K     |███████████████████████████████ | 2.5 MB 26.5 MB/s eta 0:00:01\r\u001b[K     |███████████████████████████████▎| 2.5 MB 26.5 MB/s eta 0:00:01\r\u001b[K     |███████████████████████████████▍| 2.5 MB 26.5 MB/s eta 0:00:01\r\u001b[K     |███████████████████████████████▌| 2.5 MB 26.5 MB/s eta 0:00:01\r\u001b[K     |███████████████████████████████▋| 2.6 MB 26.5 MB/s eta 0:00:01\r\u001b[K     |███████████████████████████████▊| 2.6 MB 26.5 MB/s eta 0:00:01\r\u001b[K     |███████████████████████████████▉| 2.6 MB 26.5 MB/s eta 0:00:01\r\u001b[K     |████████████████████████████████| 2.6 MB 26.5 MB/s eta 0:00:01\r\u001b[K     |████████████████████████████████| 2.6 MB 26.5 MB/s \n",
            "\u001b[?25hRequirement already satisfied: importlib-metadata in /usr/local/lib/python3.7/dist-packages (from transformers) (4.6.3)\n",
            "Collecting tokenizers<0.11,>=0.10.1\n",
            "  Downloading tokenizers-0.10.3-cp37-cp37m-manylinux_2_5_x86_64.manylinux1_x86_64.manylinux_2_12_x86_64.manylinux2010_x86_64.whl (3.3 MB)\n",
            "\u001b[K     |████████████████████████████████| 3.3 MB 44.9 MB/s \n",
            "\u001b[?25hRequirement already satisfied: filelock in /usr/local/lib/python3.7/dist-packages (from transformers) (3.0.12)\n",
            "Requirement already satisfied: requests in /usr/local/lib/python3.7/dist-packages (from transformers) (2.23.0)\n",
            "Collecting pyyaml>=5.1\n",
            "  Downloading PyYAML-5.4.1-cp37-cp37m-manylinux1_x86_64.whl (636 kB)\n",
            "\u001b[K     |████████████████████████████████| 636 kB 58.4 MB/s \n",
            "\u001b[?25hRequirement already satisfied: tqdm>=4.27 in /usr/local/lib/python3.7/dist-packages (from transformers) (4.62.0)\n",
            "Requirement already satisfied: packaging in /usr/local/lib/python3.7/dist-packages (from transformers) (21.0)\n",
            "Collecting huggingface-hub==0.0.12\n",
            "  Downloading huggingface_hub-0.0.12-py3-none-any.whl (37 kB)\n",
            "Requirement already satisfied: numpy>=1.17 in /usr/local/lib/python3.7/dist-packages (from transformers) (1.19.5)\n",
            "Collecting sacremoses\n",
            "  Downloading sacremoses-0.0.45-py3-none-any.whl (895 kB)\n",
            "\u001b[K     |████████████████████████████████| 895 kB 55.3 MB/s \n",
            "\u001b[?25hRequirement already satisfied: regex!=2019.12.17 in /usr/local/lib/python3.7/dist-packages (from transformers) (2019.12.20)\n",
            "Requirement already satisfied: typing-extensions in /usr/local/lib/python3.7/dist-packages (from huggingface-hub==0.0.12->transformers) (3.7.4.3)\n",
            "Requirement already satisfied: pyparsing>=2.0.2 in /usr/local/lib/python3.7/dist-packages (from packaging->transformers) (2.4.7)\n",
            "Requirement already satisfied: zipp>=0.5 in /usr/local/lib/python3.7/dist-packages (from importlib-metadata->transformers) (3.5.0)\n",
            "Requirement already satisfied: chardet<4,>=3.0.2 in /usr/local/lib/python3.7/dist-packages (from requests->transformers) (3.0.4)\n",
            "Requirement already satisfied: certifi>=2017.4.17 in /usr/local/lib/python3.7/dist-packages (from requests->transformers) (2021.5.30)\n",
            "Requirement already satisfied: urllib3!=1.25.0,!=1.25.1,<1.26,>=1.21.1 in /usr/local/lib/python3.7/dist-packages (from requests->transformers) (1.24.3)\n",
            "Requirement already satisfied: idna<3,>=2.5 in /usr/local/lib/python3.7/dist-packages (from requests->transformers) (2.10)\n",
            "Requirement already satisfied: six in /usr/local/lib/python3.7/dist-packages (from sacremoses->transformers) (1.15.0)\n",
            "Requirement already satisfied: joblib in /usr/local/lib/python3.7/dist-packages (from sacremoses->transformers) (1.0.1)\n",
            "Requirement already satisfied: click in /usr/local/lib/python3.7/dist-packages (from sacremoses->transformers) (7.1.2)\n",
            "Installing collected packages: tokenizers, sacremoses, pyyaml, huggingface-hub, transformers\n",
            "  Attempting uninstall: pyyaml\n",
            "    Found existing installation: PyYAML 3.13\n",
            "    Uninstalling PyYAML-3.13:\n",
            "      Successfully uninstalled PyYAML-3.13\n",
            "Successfully installed huggingface-hub-0.0.12 pyyaml-5.4.1 sacremoses-0.0.45 tokenizers-0.10.3 transformers-4.9.2\n"
          ],
          "name": "stdout"
        }
      ]
    },
    {
      "cell_type": "markdown",
      "metadata": {
        "id": "R5nv0iUYTt_j"
      },
      "source": [
        "## Summarization with XLM Transformers"
      ]
    },
    {
      "cell_type": "code",
      "metadata": {
        "id": "AWGrm1ZFrcf-",
        "colab": {
          "base_uri": "https://localhost:8080/",
          "height": 210,
          "referenced_widgets": [
            "38731e9d2bf04abe932d88b24aa4b021",
            "2c62735086c64f25af848e800792e61e",
            "235b05bb6b17494faf7cb92881733295",
            "f8eb0d5000b5423ba645b7ff523f4c31",
            "a2711456b0dc4fe8942655c09ed25580",
            "02b3760897474dbf98195177a3215fea",
            "aac5c85f1bbd433382b8a8d16a4fe8dc",
            "ba61af935f224880ac3e9a63d036f9ec",
            "f173d944f1044bad99702933d0aed880",
            "66c194c52b3b4aeda092687539f893e4",
            "7bf499053a924ab38b52929e1bdfc0ab",
            "587f0416fc504c5395f494605ae25ee5",
            "666cddeb02584b3daebbcfcf4f02008c",
            "755b5c2dcc8c4b369851f1cb94722145",
            "ff5bf482f76e415a8c294ad9f94bb2ea",
            "9180ff64dc864de9aad4201b5ba28637",
            "5ce3cbb98b5a451cbbb88cf398191ce6",
            "3f81a32193574670adbd838187343c70",
            "dd431d1cc16d424ca04aa27dca357610",
            "7a485f0a42df4e8698a5b94bb7828597",
            "b49bb16843f64f8ea9a1f62a3d6ce1e7",
            "dd64545dbc72440cae4232b0d1d9a7f1",
            "f0059ae34a62436194e862364bf41a02",
            "1c32eb9061fa4317a3afb8bc341068d3",
            "f1b3be1474424fb9b27b1e7a9aafc98e",
            "5a490f311fb2455dabc8f0626927901f",
            "1fda5ae430a24e57accebec18073fa4c",
            "06765d07fad14f12856a5089436570e2",
            "ee4ec43018614fa59a91f5646b2bc8bb",
            "7f7cf38eecd64b52ae1f003ff6dabfa4",
            "b64c90e0f79c4bafbd6caae957aa92b8",
            "27ae3c348f2349b5a28995b33a74ba91",
            "437e72df57ac49668b9d17677eecc2d8",
            "582da63c2f1e43f1816f88a416939aa9",
            "81df59624ba64652a6cf5924bc7dcff3",
            "176740ec4dc4456694f860300affc3e7",
            "2ca8c3c7b0d449d6823dc7614e092c5b",
            "c0d28748141d4676865098403e929e35",
            "45288381972c4c72937081714a948228",
            "7032d17856744e0f963e215919fd7631",
            "3b4bca65ccdb4061900313613a1864dd",
            "53c29b50857345a88ccc0f9143ccc8d8",
            "b42fa1112dff4eddbe92459807f5c6c3",
            "6411ad47f280464aba68eac4003fd7e7",
            "284480fe653745e5b6d15e9ea4e7451a",
            "431ed4d09570444e892e40f6ee311e52",
            "5c1e275dd75145e1aec5454835b0e41f",
            "d32a6bbc53b942a6a45d98db35782526",
            "8d37d8b907f0463987aac64d19f5c3b8",
            "9b01bdd793c84c87b6c0fcb2312c2b90",
            "0f89078ffa1a452eb18a1da4a8927cb6",
            "9c4750cc150f4a0e8788bca4b22a38c2",
            "06d272e703a441c78c4b3c50a093d23f",
            "b40a3a170a94467093fd4a847f00ffd4",
            "c025c03faa8247e4865f240ec734c93b"
          ]
        },
        "outputId": "391fdf8b-90ab-45a6-a2b3-cfb279c5e1e5"
      },
      "source": [
        "# Importing model and tokenizer\n",
        "from transformers import XLMWithLMHeadModel, XLMTokenizer\n",
        "\n",
        "# Instantiating the model and tokenizer \n",
        "tokenizer=XLMTokenizer.from_pretrained('xlm-mlm-en-2048')\n",
        "model=XLMWithLMHeadModel.from_pretrained('xlm-mlm-en-2048')"
      ],
      "execution_count": null,
      "outputs": [
        {
          "output_type": "display_data",
          "data": {
            "application/vnd.jupyter.widget-view+json": {
              "model_id": "38731e9d2bf04abe932d88b24aa4b021",
              "version_minor": 0,
              "version_major": 2
            },
            "text/plain": [
              "Downloading:   0%|          | 0.00/646k [00:00<?, ?B/s]"
            ]
          },
          "metadata": {
            "tags": []
          }
        },
        {
          "output_type": "display_data",
          "data": {
            "application/vnd.jupyter.widget-view+json": {
              "model_id": "587f0416fc504c5395f494605ae25ee5",
              "version_minor": 0,
              "version_major": 2
            },
            "text/plain": [
              "Downloading:   0%|          | 0.00/487k [00:00<?, ?B/s]"
            ]
          },
          "metadata": {
            "tags": []
          }
        },
        {
          "output_type": "display_data",
          "data": {
            "application/vnd.jupyter.widget-view+json": {
              "model_id": "f0059ae34a62436194e862364bf41a02",
              "version_minor": 0,
              "version_major": 2
            },
            "text/plain": [
              "Downloading:   0%|          | 0.00/65.0 [00:00<?, ?B/s]"
            ]
          },
          "metadata": {
            "tags": []
          }
        },
        {
          "output_type": "display_data",
          "data": {
            "application/vnd.jupyter.widget-view+json": {
              "model_id": "582da63c2f1e43f1816f88a416939aa9",
              "version_minor": 0,
              "version_major": 2
            },
            "text/plain": [
              "Downloading:   0%|          | 0.00/840 [00:00<?, ?B/s]"
            ]
          },
          "metadata": {
            "tags": []
          }
        },
        {
          "output_type": "display_data",
          "data": {
            "application/vnd.jupyter.widget-view+json": {
              "model_id": "284480fe653745e5b6d15e9ea4e7451a",
              "version_minor": 0,
              "version_major": 2
            },
            "text/plain": [
              "Downloading:   0%|          | 0.00/2.67G [00:00<?, ?B/s]"
            ]
          },
          "metadata": {
            "tags": []
          }
        },
        {
          "output_type": "stream",
          "text": [
            "Some weights of XLMWithLMHeadModel were not initialized from the model checkpoint at xlm-mlm-en-2048 and are newly initialized: ['transformer.position_ids']\n",
            "You should probably TRAIN this model on a down-stream task to be able to use it for predictions and inference.\n"
          ],
          "name": "stderr"
        }
      ]
    },
    {
      "cell_type": "code",
      "metadata": {
        "colab": {
          "base_uri": "https://localhost:8080/"
        },
        "id": "JlpQZs-1x71A",
        "outputId": "b4b92d91-8eee-46bf-aa22-9545a46bd839"
      },
      "source": [
        "# Encoding text to get input ids & pass them to model.generate()\n",
        "inputs=tokenizer.batch_encode_plus([original_text],return_tensors='pt', max_length=512)\n",
        "summary_ids=model.generate(inputs['input_ids'],early_stopping=True)\n",
        "\n",
        "# Decode and print the summary\n",
        "XLM_summary=tokenizer.decode(summary_ids[0],skip_special_tokens=True)\n",
        "print(XLM_summary)"
      ],
      "execution_count": 42,
      "outputs": [
        {
          "output_type": "stream",
          "text": [
            "Setting `pad_token_id` to `eos_token_id`:50256 for open-end generation.\n",
            "Input length of input_ids is 512, but ``max_length`` is set to 20.This can lead to unexpected behavior. You should consider increasing ``config.max_length`` or ``max_length``.\n"
          ],
          "name": "stderr"
        },
        {
          "output_type": "stream",
          "text": [
            "Junk foods taste good that’s why it is mostly liked by everyone of any age group especially kids and school going children. They generally ask for the junk food daily because they have been trend so by their parents from the childhood. They never have been discussed by their parents about the harmful effects of junk foods over health. According to the research by scientists, it has been found that junk foods have negative effects on the health in many ways. They are generally fried food found in the market in the packets. They become high in calories, high in cholesterol, low in healthy nutrients, high in sodium mineral, high in sugar, starch, unhealthy fat, lack of protein and lack of dietary fibers. Processed and junk foods are the means of rapid and unhealthy weight gain and negatively impact the whole body throughout the life. It makes able a person to gain excessive weight which is called as obesity. Junk foods tastes good and looks good however do not fulfil the healthy calorie requirement of the body. Some of the foods like french fries, fried foods, pizza, burgers, candy, soft drinks, baked goods, ice cream, cookies, etc are the example of high-sugar and high-fat containing foods. It is found according to the Centres for Disease Control and Prevention that Kids and children eating junk food are more prone to the type-2 diabetes. In type-2 diabetes our body become unable to regulate blood sugar level. Risk of getting this disease is increasing as one become more obese or overweight. It increases the risk of kidney failure. Eating junk food daily lead us to the nutritional deficiencies in the body because it is lack of essential nutrients, vitamins, iron, minerals and dietary fibers. It increases risk of cardiovascular diseases because it is rich in saturated fat, sodium and bad cholesterol. High sodium and bad cholesterol diet increases blood pressure and overloads the heart functioning. One who like junk food develop more risk to put on extra weight and become fatter and unhealthier. Junk foods contain high level carbohydrate which spike blood sugar level and make person more lethargic, sleepy and less active and alert. Reflexes and senses of the people eating this food become dull day by day thus they live more sedentary life. Junk foods are the source of constipation and other disease like diabetes, heart ailments, clogged arteries, heart attack, strokes, etc because of being poor in nutrition. Junk food is the easiest way to gain unhealthy weight. The amount of fats and sugar in the food makes you gain weight rapidly. However, this is not the\n"
          ],
          "name": "stdout"
        }
      ]
    },
    {
      "cell_type": "markdown",
      "metadata": {
        "id": "_PvR3AT2vCV0"
      },
      "source": [
        "## Summarization with GPT-2 Transformers"
      ]
    },
    {
      "cell_type": "code",
      "metadata": {
        "id": "i_qg_UJzvPKt",
        "colab": {
          "base_uri": "https://localhost:8080/"
        },
        "outputId": "08619ed1-653b-417e-91ba-76b86172a051"
      },
      "source": [
        "from transformers import GPT2Tokenizer,GPT2LMHeadModel\n",
        "\n",
        "# Instantiating the model and tokenizer with gpt-2\n",
        "tokenizer=GPT2Tokenizer.from_pretrained('gpt2')\n",
        "model=GPT2LMHeadModel.from_pretrained('gpt2')\n",
        "\n",
        "# Encoding text to get input ids & pass them to model.generate()\n",
        "inputs=tokenizer.batch_encode_plus([document_text],return_tensors='pt',max_length=512)\n",
        "summary_ids=model.generate(inputs['input_ids'],early_stopping=True)"
      ],
      "execution_count": 43,
      "outputs": [
        {
          "output_type": "stream",
          "text": [
            "Truncation was not explicitly activated but `max_length` is provided a specific value, please use `truncation=True` to explicitly truncate examples to max length. Defaulting to 'longest_first' truncation strategy. If you encode pairs of sequences (GLUE-style) with the tokenizer you can select this strategy more precisely by providing a specific strategy to `truncation`.\n",
            "Setting `pad_token_id` to `eos_token_id`:50256 for open-end generation.\n",
            "Input length of input_ids is 512, but ``max_length`` is set to 20.This can lead to unexpected behavior. You should consider increasing ``config.max_length`` or ``max_length``.\n"
          ],
          "name": "stderr"
        }
      ]
    },
    {
      "cell_type": "markdown",
      "metadata": {
        "id": "V98UZGp9vSkU"
      },
      "source": [
        "Text Summarization using Gensim with TextRank"
      ]
    },
    {
      "cell_type": "markdown",
      "metadata": {
        "id": "r3LxPY9q2x3q"
      },
      "source": [
        "## Text Rank Algorithm\n",
        "\n",
        "*   TextRank - extractive summarization technique \n",
        "*   Words which occur more frequently are significant\n",
        "* Sentences containing highly frequent words are important \n",
        "* assigns scores to each sentence in the text \n",
        "The top-ranked sentences make it to the summary."
      ]
    },
    {
      "cell_type": "code",
      "metadata": {
        "id": "kKmLzNr61f3c"
      },
      "source": [
        "# Importing package and summarizer\n",
        "import gensim\n",
        "from gensim.summarization import summarize"
      ],
      "execution_count": 13,
      "outputs": []
    },
    {
      "cell_type": "code",
      "metadata": {
        "colab": {
          "base_uri": "https://localhost:8080/"
        },
        "id": "tR639zBc1oRW",
        "outputId": "5a7bb172-76ce-4215-a3fb-bba66e48a93b"
      },
      "source": [
        "# Passing the text corpus to summarizer \n",
        "short_summary_genensim = summarize(document_text)\n",
        "print(short_summary)"
      ],
      "execution_count": 15,
      "outputs": [
        {
          "output_type": "stream",
          "text": [
            ". AZUZ: That would be the Mississippi River, which is causing floods up and down its path through the\n",
            "gonna start in southern Illinois, in the city of Cairo.\n",
            "The U.S. Army Corps of Engineers came up with this plan to help Cairo and some other communities nearby.\n",
            "That helped the towns up in Illinois, but it purposely flooded some\n",
            "pressure on the river, hopefully lower the flood levels, keep the water away from New Orleans.\n",
            "just to get an idea of how much water we're talking about, a commander with the Army Corps of\n",
            "He said the water that's rushing through the Mississippi right now,\n",
            "flooding in states that the Mississippi branches off to, like Tennessee.\n",
            "(BEGIN VIDEO) HOLLY FIRFER, CNN NATIONAL CORRESPONDENT: Tennessee's largest\n",
            "levees around Memphis, they are currently performing as expected.\n",
            "TOMEKA JONES, CNN STUDENT NEWS: Is this legit?\n",
            "The United States and China have the world's largest\n",
            "AZUZ: Well, the global economy is one of the big issues ahead as\n",
            "Last week, one Chinese economic official said, \"To be frank,\n",
            "That includes human rights, concerns about North Korea's nuclear program, and the U.S. and China working together to fight terrorism.\n",
            "AZUZ: Moving to Japan, where officials\n",
            "CHERRY, CNN STUDENT NEWS: Today's Shoutout goes out to Miss Abromitis' class at the Sarah Rawson\n",
            "acrobat, like tightrope walkers and trapeze artists; the kind of folks you'd see in a circus.\n",
            "Ted Rowlands visited a school in Illinois where students can train to be part of the show.\n",
            "TED ROWLANDS, CNN CORRESPONDENT: Sarah Bowden is a\n",
            "sophomore at Illinois State University.\n",
            "ROWLANDS: She is also a circus performer.\n",
            "Sarah is part of Illinois State's Gamma Phi Circus, a school-sponsored circus team that dates\n",
            "It's the oldest of two college circus programs in the country; the other is at\n",
            "SARAH BOWDEN, CIRCUS PERFORMER, ILLINOIS STATE UNIVERSITY STUDENT: So, this is the\n",
            "Sarah was a gymnast in high school, but like most of her teammates had no circus experience.\n",
            "ILLINOIS STATE UNIVERSITY: I think any one of us who has ever come through Gamma Phi Circus has had\n",
            "former student at Illinois State and circus performer, is now the director of the circus\n",
            "NENA WOO, CIRCUS PERFORMER, ILLINOIS STATE UNIVERSITY STUDENT: I'm graduating with a degree\n",
            "ROWLANDS: The circus team has about 75 members.\n",
            "think I'd be in a circus.\n",
            "AZUZ: A school without grade levels: We talked about this last Wednesday.\n",
            "their own pace, some students won't get the push they need.\" Avery is home schooled, but thinks students shouldn't be grouped by age but by knowledge.\n",
            "\"Some students in a class grouped by age may be behind or ahead and thus ignored.\"Clive says it could be a good idea.\n",
            "All kidsdeserve to be with kids who are going through the same things.\" Celeste writes, \"students who usually get caught behind will have a \n",
            "I'm Carl Azuz, and CNN Student News will be herding back your way tomorrow.\n"
          ],
          "name": "stdout"
        }
      ]
    },
    {
      "cell_type": "code",
      "metadata": {
        "id": "yMntWIKX1u8e"
      },
      "source": [
        "# Summarization when both ratio & word count is given\n",
        "summary_gensim=summarize(document_text, ratio=0.1)"
      ],
      "execution_count": 22,
      "outputs": []
    },
    {
      "cell_type": "code",
      "metadata": {
        "colab": {
          "base_uri": "https://localhost:8080/"
        },
        "id": "hKz3LSVG2Miu",
        "outputId": "b3087cd8-28c1-44f8-9f51-0d710fcb0ef8"
      },
      "source": [
        "print(summary_gensim)"
      ],
      "execution_count": 23,
      "outputs": [
        {
          "output_type": "stream",
          "text": [
            ". AZUZ: That would be the Mississippi River, which is causing floods up and down its path through the\n",
            "That helped the towns up in Illinois, but it purposely flooded some\n",
            "pressure on the river, hopefully lower the flood levels, keep the water away from New Orleans.\n",
            "just to get an idea of how much water we're talking about, a commander with the Army Corps of\n",
            "flooding in states that the Mississippi branches off to, like Tennessee.\n",
            "(BEGIN VIDEO) HOLLY FIRFER, CNN NATIONAL CORRESPONDENT: Tennessee's largest\n",
            "CHERRY, CNN STUDENT NEWS: Today's Shoutout goes out to Miss Abromitis' class at the Sarah Rawson\n",
            "Ted Rowlands visited a school in Illinois where students can train to be part of the show.\n",
            "TED ROWLANDS, CNN CORRESPONDENT: Sarah Bowden is a\n",
            "ROWLANDS: She is also a circus performer.\n",
            "Sarah is part of Illinois State's Gamma Phi Circus, a school-sponsored circus team that dates\n",
            "SARAH BOWDEN, CIRCUS PERFORMER, ILLINOIS STATE UNIVERSITY STUDENT: So, this is the\n",
            "Sarah was a gymnast in high school, but like most of her teammates had no circus experience.\n",
            "ILLINOIS STATE UNIVERSITY: I think any one of us who has ever come through Gamma Phi Circus has had\n",
            "former student at Illinois State and circus performer, is now the director of the circus\n",
            "NENA WOO, CIRCUS PERFORMER, ILLINOIS STATE UNIVERSITY STUDENT: I'm graduating with a degree\n",
            "AZUZ: A school without grade levels: We talked about this last Wednesday.\n",
            "I'm Carl Azuz, and CNN Student News will be herding back your way tomorrow.\n"
          ],
          "name": "stdout"
        }
      ]
    },
    {
      "cell_type": "code",
      "metadata": {
        "colab": {
          "base_uri": "https://localhost:8080/"
        },
        "id": "9XF75jYDEeRB",
        "outputId": "f60fcb58-26fb-40d3-a5c7-f5beb783a228"
      },
      "source": [
        "short_summary = summarize(original_text)\n",
        "print(short_summary)"
      ],
      "execution_count": 25,
      "outputs": [
        {
          "output_type": "stream",
          "text": [
            "They become high in calories, high in cholesterol, low in healthy nutrients, high in sodium mineral, high in sugar, starch, unhealthy fat, lack of protein and lack of dietary fibers.\n",
            "Processed and junk foods are the means of rapid and unhealthy weight gain and negatively impact the whole body throughout the life.\n",
            "Junk foods tastes good and looks good however do not fulfil the healthy calorie requirement of the body.\n",
            "It is found according to the Centres for Disease Control and Prevention that Kids and children eating junk food are more prone to the type-2 diabetes.\n",
            "Eating junk food daily lead us to the nutritional deficiencies in the body because it is lack of essential nutrients, vitamins, iron, minerals and dietary fibers.\n",
            "It increases risk of cardiovascular diseases because it is rich in saturated fat, sodium and bad cholesterol.\n",
            "High sodium and bad cholesterol diet increases blood pressure and overloads the heart functioning.\n",
            "One who like junk food develop more risk to put on extra weight and become fatter and unhealthier.\n",
            "Junk foods contain high level carbohydrate which spike blood sugar level and make person more lethargic, sleepy and less active and alert.\n",
            "For instance, foods like French fries, burgers, candy, and cookies, all have high amounts of sugar and fats.\n"
          ],
          "name": "stdout"
        }
      ]
    },
    {
      "cell_type": "markdown",
      "metadata": {
        "id": "BJPZanHVJnmz"
      },
      "source": [
        "## LexRank Summarizer"
      ]
    },
    {
      "cell_type": "markdown",
      "metadata": {
        "id": "XD1qLTO3JtbN"
      },
      "source": [
        "* A sentence which is similar to many other sentences of the text has a high probability of being important. \n",
        "* The approach of LexRank is that a particular sentence is recommended by other similar sentences and hence is ranked higher.\n",
        "* Higher the rank, higher is the priority of being included in the summarized text."
      ]
    },
    {
      "cell_type": "code",
      "metadata": {
        "colab": {
          "base_uri": "https://localhost:8080/"
        },
        "id": "W02glE_5EsPw",
        "outputId": "c4aa53bf-a066-4d3b-c38a-6bdbccd50db9"
      },
      "source": [
        "# Installing and Importing sumy\n",
        "!pip install sumy\n",
        "import sumy"
      ],
      "execution_count": 26,
      "outputs": [
        {
          "output_type": "stream",
          "text": [
            "Collecting sumy\n",
            "  Downloading sumy-0.8.1-py2.py3-none-any.whl (83 kB)\n",
            "\u001b[?25l\r\u001b[K     |████                            | 10 kB 19.6 MB/s eta 0:00:01\r\u001b[K     |███████▉                        | 20 kB 26.9 MB/s eta 0:00:01\r\u001b[K     |███████████▊                    | 30 kB 32.5 MB/s eta 0:00:01\r\u001b[K     |███████████████▋                | 40 kB 35.8 MB/s eta 0:00:01\r\u001b[K     |███████████████████▌            | 51 kB 30.7 MB/s eta 0:00:01\r\u001b[K     |███████████████████████▍        | 61 kB 27.6 MB/s eta 0:00:01\r\u001b[K     |███████████████████████████▍    | 71 kB 25.5 MB/s eta 0:00:01\r\u001b[K     |███████████████████████████████▎| 81 kB 27.4 MB/s eta 0:00:01\r\u001b[K     |████████████████████████████████| 83 kB 2.2 MB/s \n",
            "\u001b[?25hRequirement already satisfied: docopt<0.7,>=0.6.1 in /usr/local/lib/python3.7/dist-packages (from sumy) (0.6.2)\n",
            "Collecting breadability>=0.1.20\n",
            "  Downloading breadability-0.1.20.tar.gz (32 kB)\n",
            "Requirement already satisfied: requests>=2.7.0 in /usr/local/lib/python3.7/dist-packages (from sumy) (2.23.0)\n",
            "Requirement already satisfied: nltk>=3.0.2 in /usr/local/lib/python3.7/dist-packages (from sumy) (3.2.5)\n",
            "Collecting pycountry>=18.2.23\n",
            "  Downloading pycountry-20.7.3.tar.gz (10.1 MB)\n",
            "\u001b[K     |████████████████████████████████| 10.1 MB 35.9 MB/s \n",
            "\u001b[?25hRequirement already satisfied: chardet in /usr/local/lib/python3.7/dist-packages (from breadability>=0.1.20->sumy) (3.0.4)\n",
            "Requirement already satisfied: lxml>=2.0 in /usr/local/lib/python3.7/dist-packages (from breadability>=0.1.20->sumy) (4.2.6)\n",
            "Requirement already satisfied: six in /usr/local/lib/python3.7/dist-packages (from nltk>=3.0.2->sumy) (1.15.0)\n",
            "Requirement already satisfied: idna<3,>=2.5 in /usr/local/lib/python3.7/dist-packages (from requests>=2.7.0->sumy) (2.10)\n",
            "Requirement already satisfied: urllib3!=1.25.0,!=1.25.1,<1.26,>=1.21.1 in /usr/local/lib/python3.7/dist-packages (from requests>=2.7.0->sumy) (1.24.3)\n",
            "Requirement already satisfied: certifi>=2017.4.17 in /usr/local/lib/python3.7/dist-packages (from requests>=2.7.0->sumy) (2021.5.30)\n",
            "Building wheels for collected packages: breadability, pycountry\n",
            "  Building wheel for breadability (setup.py) ... \u001b[?25l\u001b[?25hdone\n",
            "  Created wheel for breadability: filename=breadability-0.1.20-py2.py3-none-any.whl size=21711 sha256=2461ef73851eacca503ec28f93288580f5ef3eb85c3a111aef8cc2ac8ec7456c\n",
            "  Stored in directory: /root/.cache/pip/wheels/d4/bf/51/81d27ad638e1a6dca4f362ecc33d1e2c764b8ea7ec751b8fc1\n",
            "  Building wheel for pycountry (setup.py) ... \u001b[?25l\u001b[?25hdone\n",
            "  Created wheel for pycountry: filename=pycountry-20.7.3-py2.py3-none-any.whl size=10746883 sha256=0000faca36c16f276d3eec2b681c5796dfc7d65881eb1370d18e1196eee03586\n",
            "  Stored in directory: /root/.cache/pip/wheels/57/e8/3f/120ccc1ff7541c108bc5d656e2a14c39da0d824653b62284c6\n",
            "Successfully built breadability pycountry\n",
            "Installing collected packages: pycountry, breadability, sumy\n",
            "Successfully installed breadability-0.1.20 pycountry-20.7.3 sumy-0.8.1\n"
          ],
          "name": "stdout"
        }
      ]
    },
    {
      "cell_type": "code",
      "metadata": {
        "id": "Hm0PCJ5k2WQ9"
      },
      "source": [
        "# Importing the parser and tokenizer\n",
        "from sumy.parsers.plaintext import PlaintextParser\n",
        "from sumy.nlp.tokenizers import Tokenizer"
      ],
      "execution_count": 27,
      "outputs": []
    },
    {
      "cell_type": "code",
      "metadata": {
        "id": "Wm7VK0DPHKqf"
      },
      "source": [
        "# Import the LexRank summarizer\n",
        "from sumy.summarizers.lex_rank import LexRankSummarizer"
      ],
      "execution_count": 28,
      "outputs": []
    },
    {
      "cell_type": "code",
      "metadata": {
        "colab": {
          "base_uri": "https://localhost:8080/"
        },
        "id": "bhibrngdIWeD",
        "outputId": "97a0addf-e7b2-4ea3-8a4b-f208bd6da450"
      },
      "source": [
        "sumy.summarizers"
      ],
      "execution_count": 33,
      "outputs": [
        {
          "output_type": "execute_result",
          "data": {
            "text/plain": [
              "<module 'sumy.summarizers' from '/usr/local/lib/python3.7/dist-packages/sumy/summarizers/__init__.py'>"
            ]
          },
          "metadata": {
            "tags": []
          },
          "execution_count": 33
        }
      ]
    },
    {
      "cell_type": "code",
      "metadata": {
        "id": "nQm4GNrhHVmE"
      },
      "source": [
        "# Initializing the parser\n",
        "my_parser = PlaintextParser.from_string(original_text,Tokenizer('english'))"
      ],
      "execution_count": 34,
      "outputs": []
    },
    {
      "cell_type": "code",
      "metadata": {
        "colab": {
          "base_uri": "https://localhost:8080/"
        },
        "id": "at9Tx22eHaP1",
        "outputId": "99744d67-f735-44c6-8cdd-5e9f91d95d35"
      },
      "source": [
        "import nltk\n",
        "nltk.download('punkt')"
      ],
      "execution_count": 35,
      "outputs": [
        {
          "output_type": "stream",
          "text": [
            "[nltk_data] Downloading package punkt to /root/nltk_data...\n",
            "[nltk_data]   Package punkt is already up-to-date!\n"
          ],
          "name": "stdout"
        },
        {
          "output_type": "execute_result",
          "data": {
            "text/plain": [
              "True"
            ]
          },
          "metadata": {
            "tags": []
          },
          "execution_count": 35
        }
      ]
    },
    {
      "cell_type": "code",
      "metadata": {
        "id": "rEUkeAzKIgZz"
      },
      "source": [
        "# Import the LexRank summarizer\n",
        "from sumy.summarizers.lex_rank import LexRankSummarizer"
      ],
      "execution_count": 37,
      "outputs": []
    },
    {
      "cell_type": "code",
      "metadata": {
        "colab": {
          "base_uri": "https://localhost:8080/"
        },
        "id": "uNWiykJ3JLP5",
        "outputId": "dbac0677-aab9-400e-a52f-66ff6120e5d2"
      },
      "source": [
        "# Creating a summary of 3 sentences.\n",
        "lex_rank_summarizer = LexRankSummarizer()\n",
        "lexrank_summary = lex_rank_summarizer(my_parser.document,sentences_count=3)\n",
        "\n",
        "# Printing the summary\n",
        "for sentence in lexrank_summary:\n",
        "  print(sentence)"
      ],
      "execution_count": 39,
      "outputs": [
        {
          "output_type": "stream",
          "text": [
            "It is found according to the Centres for Disease Control and Prevention that Kids and children eating junk food are more prone to the type-2 diabetes.\n",
            "It is more of fats and cholesterol which will have a harmful impact on your health.\n",
            "Children will find one way or the other to have it.\n"
          ],
          "name": "stdout"
        }
      ]
    },
    {
      "cell_type": "code",
      "metadata": {
        "colab": {
          "base_uri": "https://localhost:8080/"
        },
        "id": "R_yyI73NHjAO",
        "outputId": "3dfa9e3c-0bd1-4961-a463-6442d15b8f84"
      },
      "source": [
        "lexrank_summary"
      ],
      "execution_count": 41,
      "outputs": [
        {
          "output_type": "execute_result",
          "data": {
            "text/plain": [
              "(<Sentence: It is found according to the Centres for Disease Control and Prevention that Kids and children eating junk food are more prone to the type-2 diabetes.>,\n",
              " <Sentence: It is more of fats and cholesterol which will have a harmful impact on your health.>,\n",
              " <Sentence: Children will find one way or the other to have it.>)"
            ]
          },
          "metadata": {
            "tags": []
          },
          "execution_count": 41
        }
      ]
    },
    {
      "cell_type": "markdown",
      "metadata": {
        "id": "8lU-WvrJHqfD"
      },
      "source": [
        "## LSA (Latent semantic analysis)\n",
        "* unsupervised learning algorithm that can be used for extractive text summarization.\n",
        "\n",
        "* Extracts semantically significant sentences by applying singular value decomposition(SVD) to the matrix of term-document frequency. "
      ]
    },
    {
      "cell_type": "code",
      "metadata": {
        "id": "3Jylg5-sK_DR"
      },
      "source": [
        "# Import the summarizer\n",
        "from sumy.summarizers.lsa import LsaSummarizer"
      ],
      "execution_count": 44,
      "outputs": []
    },
    {
      "cell_type": "code",
      "metadata": {
        "id": "VtK7e5r-LDGl"
      },
      "source": [
        "# Parsing the text string using PlaintextParser\n",
        "from sumy.nlp.tokenizers import Tokenizer\n",
        "from sumy.parsers.plaintext import PlaintextParser\n",
        "parser=PlaintextParser.from_string(original_text,Tokenizer('english'))"
      ],
      "execution_count": 45,
      "outputs": []
    },
    {
      "cell_type": "code",
      "metadata": {
        "colab": {
          "base_uri": "https://localhost:8080/"
        },
        "id": "Pko4N-9-LQzB",
        "outputId": "376b47f4-6bcd-4828-fcec-15cf666b46f3"
      },
      "source": [
        "# creating the summarizer\n",
        "lsa_summarizer=LsaSummarizer()\n",
        "lsa_summary= lsa_summarizer(parser.document,3)\n",
        "\n",
        "# Printing the summary\n",
        "for sentence in lsa_summary:\n",
        "    print(sentence)"
      ],
      "execution_count": 47,
      "outputs": [
        {
          "output_type": "stream",
          "text": [
            "Junk foods taste good that’s why it is mostly liked by everyone of any age group especially kids and school going children.\n",
            "To make things worse, junk food also clogs your arteries and increases the risk of a heart attack.\n",
            "Therefore, it must be avoided at the first instance to save your life from becoming ruined.The main problem with junk food is that people don’t realize its ill effects now.\n"
          ],
          "name": "stdout"
        }
      ]
    },
    {
      "cell_type": "code",
      "metadata": {
        "id": "C_HgkrbYLVY6"
      },
      "source": [
        ""
      ],
      "execution_count": null,
      "outputs": []
    },
    {
      "cell_type": "markdown",
      "metadata": {
        "id": "dG13pv5YLfrJ"
      },
      "source": [
        "## Abstractive Summarisation with t5 transformers"
      ]
    },
    {
      "cell_type": "code",
      "metadata": {
        "colab": {
          "base_uri": "https://localhost:8080/"
        },
        "id": "nR-jQDMeLjHd",
        "outputId": "cafcc182-2b6b-4726-c07a-ebb1fb77aa01"
      },
      "source": [
        "!pip install transformers"
      ],
      "execution_count": 48,
      "outputs": [
        {
          "output_type": "stream",
          "text": [
            "Requirement already satisfied: transformers in /usr/local/lib/python3.7/dist-packages (4.9.2)\n",
            "Requirement already satisfied: huggingface-hub==0.0.12 in /usr/local/lib/python3.7/dist-packages (from transformers) (0.0.12)\n",
            "Requirement already satisfied: importlib-metadata in /usr/local/lib/python3.7/dist-packages (from transformers) (4.6.3)\n",
            "Requirement already satisfied: pyyaml>=5.1 in /usr/local/lib/python3.7/dist-packages (from transformers) (5.4.1)\n",
            "Requirement already satisfied: tokenizers<0.11,>=0.10.1 in /usr/local/lib/python3.7/dist-packages (from transformers) (0.10.3)\n",
            "Requirement already satisfied: packaging in /usr/local/lib/python3.7/dist-packages (from transformers) (21.0)\n",
            "Requirement already satisfied: tqdm>=4.27 in /usr/local/lib/python3.7/dist-packages (from transformers) (4.62.0)\n",
            "Requirement already satisfied: requests in /usr/local/lib/python3.7/dist-packages (from transformers) (2.23.0)\n",
            "Requirement already satisfied: numpy>=1.17 in /usr/local/lib/python3.7/dist-packages (from transformers) (1.19.5)\n",
            "Requirement already satisfied: regex!=2019.12.17 in /usr/local/lib/python3.7/dist-packages (from transformers) (2019.12.20)\n",
            "Requirement already satisfied: sacremoses in /usr/local/lib/python3.7/dist-packages (from transformers) (0.0.45)\n",
            "Requirement already satisfied: filelock in /usr/local/lib/python3.7/dist-packages (from transformers) (3.0.12)\n",
            "Requirement already satisfied: typing-extensions in /usr/local/lib/python3.7/dist-packages (from huggingface-hub==0.0.12->transformers) (3.7.4.3)\n",
            "Requirement already satisfied: pyparsing>=2.0.2 in /usr/local/lib/python3.7/dist-packages (from packaging->transformers) (2.4.7)\n",
            "Requirement already satisfied: zipp>=0.5 in /usr/local/lib/python3.7/dist-packages (from importlib-metadata->transformers) (3.5.0)\n",
            "Requirement already satisfied: chardet<4,>=3.0.2 in /usr/local/lib/python3.7/dist-packages (from requests->transformers) (3.0.4)\n",
            "Requirement already satisfied: urllib3!=1.25.0,!=1.25.1,<1.26,>=1.21.1 in /usr/local/lib/python3.7/dist-packages (from requests->transformers) (1.24.3)\n",
            "Requirement already satisfied: idna<3,>=2.5 in /usr/local/lib/python3.7/dist-packages (from requests->transformers) (2.10)\n",
            "Requirement already satisfied: certifi>=2017.4.17 in /usr/local/lib/python3.7/dist-packages (from requests->transformers) (2021.5.30)\n",
            "Requirement already satisfied: joblib in /usr/local/lib/python3.7/dist-packages (from sacremoses->transformers) (1.0.1)\n",
            "Requirement already satisfied: six in /usr/local/lib/python3.7/dist-packages (from sacremoses->transformers) (1.15.0)\n",
            "Requirement already satisfied: click in /usr/local/lib/python3.7/dist-packages (from sacremoses->transformers) (7.1.2)\n"
          ],
          "name": "stdout"
        }
      ]
    },
    {
      "cell_type": "code",
      "metadata": {
        "colab": {
          "base_uri": "https://localhost:8080/"
        },
        "id": "Mo45LcfmM3K0",
        "outputId": "0215f390-5df2-4265-915d-20c3b0f51f49"
      },
      "source": [
        "! pip install sentencepiece"
      ],
      "execution_count": 53,
      "outputs": [
        {
          "output_type": "stream",
          "text": [
            "Collecting sentencepiece\n",
            "  Downloading sentencepiece-0.1.96-cp37-cp37m-manylinux_2_17_x86_64.manylinux2014_x86_64.whl (1.2 MB)\n",
            "\u001b[?25l\r\u001b[K     |▎                               | 10 kB 19.7 MB/s eta 0:00:01\r\u001b[K     |▌                               | 20 kB 24.3 MB/s eta 0:00:01\r\u001b[K     |▉                               | 30 kB 28.5 MB/s eta 0:00:01\r\u001b[K     |█                               | 40 kB 31.4 MB/s eta 0:00:01\r\u001b[K     |█▍                              | 51 kB 33.1 MB/s eta 0:00:01\r\u001b[K     |█▋                              | 61 kB 35.2 MB/s eta 0:00:01\r\u001b[K     |██                              | 71 kB 27.0 MB/s eta 0:00:01\r\u001b[K     |██▏                             | 81 kB 28.9 MB/s eta 0:00:01\r\u001b[K     |██▍                             | 92 kB 31.3 MB/s eta 0:00:01\r\u001b[K     |██▊                             | 102 kB 28.4 MB/s eta 0:00:01\r\u001b[K     |███                             | 112 kB 28.4 MB/s eta 0:00:01\r\u001b[K     |███▎                            | 122 kB 28.4 MB/s eta 0:00:01\r\u001b[K     |███▌                            | 133 kB 28.4 MB/s eta 0:00:01\r\u001b[K     |███▉                            | 143 kB 28.4 MB/s eta 0:00:01\r\u001b[K     |████                            | 153 kB 28.4 MB/s eta 0:00:01\r\u001b[K     |████▎                           | 163 kB 28.4 MB/s eta 0:00:01\r\u001b[K     |████▋                           | 174 kB 28.4 MB/s eta 0:00:01\r\u001b[K     |████▉                           | 184 kB 28.4 MB/s eta 0:00:01\r\u001b[K     |█████▏                          | 194 kB 28.4 MB/s eta 0:00:01\r\u001b[K     |█████▍                          | 204 kB 28.4 MB/s eta 0:00:01\r\u001b[K     |█████▊                          | 215 kB 28.4 MB/s eta 0:00:01\r\u001b[K     |██████                          | 225 kB 28.4 MB/s eta 0:00:01\r\u001b[K     |██████▏                         | 235 kB 28.4 MB/s eta 0:00:01\r\u001b[K     |██████▌                         | 245 kB 28.4 MB/s eta 0:00:01\r\u001b[K     |██████▊                         | 256 kB 28.4 MB/s eta 0:00:01\r\u001b[K     |███████                         | 266 kB 28.4 MB/s eta 0:00:01\r\u001b[K     |███████▎                        | 276 kB 28.4 MB/s eta 0:00:01\r\u001b[K     |███████▋                        | 286 kB 28.4 MB/s eta 0:00:01\r\u001b[K     |███████▉                        | 296 kB 28.4 MB/s eta 0:00:01\r\u001b[K     |████████                        | 307 kB 28.4 MB/s eta 0:00:01\r\u001b[K     |████████▍                       | 317 kB 28.4 MB/s eta 0:00:01\r\u001b[K     |████████▋                       | 327 kB 28.4 MB/s eta 0:00:01\r\u001b[K     |█████████                       | 337 kB 28.4 MB/s eta 0:00:01\r\u001b[K     |█████████▏                      | 348 kB 28.4 MB/s eta 0:00:01\r\u001b[K     |█████████▌                      | 358 kB 28.4 MB/s eta 0:00:01\r\u001b[K     |█████████▊                      | 368 kB 28.4 MB/s eta 0:00:01\r\u001b[K     |██████████                      | 378 kB 28.4 MB/s eta 0:00:01\r\u001b[K     |██████████▎                     | 389 kB 28.4 MB/s eta 0:00:01\r\u001b[K     |██████████▌                     | 399 kB 28.4 MB/s eta 0:00:01\r\u001b[K     |██████████▉                     | 409 kB 28.4 MB/s eta 0:00:01\r\u001b[K     |███████████                     | 419 kB 28.4 MB/s eta 0:00:01\r\u001b[K     |███████████▍                    | 430 kB 28.4 MB/s eta 0:00:01\r\u001b[K     |███████████▋                    | 440 kB 28.4 MB/s eta 0:00:01\r\u001b[K     |███████████▉                    | 450 kB 28.4 MB/s eta 0:00:01\r\u001b[K     |████████████▏                   | 460 kB 28.4 MB/s eta 0:00:01\r\u001b[K     |████████████▍                   | 471 kB 28.4 MB/s eta 0:00:01\r\u001b[K     |████████████▊                   | 481 kB 28.4 MB/s eta 0:00:01\r\u001b[K     |█████████████                   | 491 kB 28.4 MB/s eta 0:00:01\r\u001b[K     |█████████████▎                  | 501 kB 28.4 MB/s eta 0:00:01\r\u001b[K     |█████████████▌                  | 512 kB 28.4 MB/s eta 0:00:01\r\u001b[K     |█████████████▊                  | 522 kB 28.4 MB/s eta 0:00:01\r\u001b[K     |██████████████                  | 532 kB 28.4 MB/s eta 0:00:01\r\u001b[K     |██████████████▎                 | 542 kB 28.4 MB/s eta 0:00:01\r\u001b[K     |██████████████▋                 | 552 kB 28.4 MB/s eta 0:00:01\r\u001b[K     |██████████████▉                 | 563 kB 28.4 MB/s eta 0:00:01\r\u001b[K     |███████████████▏                | 573 kB 28.4 MB/s eta 0:00:01\r\u001b[K     |███████████████▍                | 583 kB 28.4 MB/s eta 0:00:01\r\u001b[K     |███████████████▋                | 593 kB 28.4 MB/s eta 0:00:01\r\u001b[K     |████████████████                | 604 kB 28.4 MB/s eta 0:00:01\r\u001b[K     |████████████████▏               | 614 kB 28.4 MB/s eta 0:00:01\r\u001b[K     |████████████████▌               | 624 kB 28.4 MB/s eta 0:00:01\r\u001b[K     |████████████████▊               | 634 kB 28.4 MB/s eta 0:00:01\r\u001b[K     |█████████████████               | 645 kB 28.4 MB/s eta 0:00:01\r\u001b[K     |█████████████████▎              | 655 kB 28.4 MB/s eta 0:00:01\r\u001b[K     |█████████████████▌              | 665 kB 28.4 MB/s eta 0:00:01\r\u001b[K     |█████████████████▉              | 675 kB 28.4 MB/s eta 0:00:01\r\u001b[K     |██████████████████              | 686 kB 28.4 MB/s eta 0:00:01\r\u001b[K     |██████████████████▍             | 696 kB 28.4 MB/s eta 0:00:01\r\u001b[K     |██████████████████▋             | 706 kB 28.4 MB/s eta 0:00:01\r\u001b[K     |███████████████████             | 716 kB 28.4 MB/s eta 0:00:01\r\u001b[K     |███████████████████▏            | 727 kB 28.4 MB/s eta 0:00:01\r\u001b[K     |███████████████████▍            | 737 kB 28.4 MB/s eta 0:00:01\r\u001b[K     |███████████████████▊            | 747 kB 28.4 MB/s eta 0:00:01\r\u001b[K     |████████████████████            | 757 kB 28.4 MB/s eta 0:00:01\r\u001b[K     |████████████████████▎           | 768 kB 28.4 MB/s eta 0:00:01\r\u001b[K     |████████████████████▌           | 778 kB 28.4 MB/s eta 0:00:01\r\u001b[K     |████████████████████▉           | 788 kB 28.4 MB/s eta 0:00:01\r\u001b[K     |█████████████████████           | 798 kB 28.4 MB/s eta 0:00:01\r\u001b[K     |█████████████████████▎          | 808 kB 28.4 MB/s eta 0:00:01\r\u001b[K     |█████████████████████▋          | 819 kB 28.4 MB/s eta 0:00:01\r\u001b[K     |█████████████████████▉          | 829 kB 28.4 MB/s eta 0:00:01\r\u001b[K     |██████████████████████▏         | 839 kB 28.4 MB/s eta 0:00:01\r\u001b[K     |██████████████████████▍         | 849 kB 28.4 MB/s eta 0:00:01\r\u001b[K     |██████████████████████▊         | 860 kB 28.4 MB/s eta 0:00:01\r\u001b[K     |███████████████████████         | 870 kB 28.4 MB/s eta 0:00:01\r\u001b[K     |███████████████████████▏        | 880 kB 28.4 MB/s eta 0:00:01\r\u001b[K     |███████████████████████▌        | 890 kB 28.4 MB/s eta 0:00:01\r\u001b[K     |███████████████████████▊        | 901 kB 28.4 MB/s eta 0:00:01\r\u001b[K     |████████████████████████        | 911 kB 28.4 MB/s eta 0:00:01\r\u001b[K     |████████████████████████▎       | 921 kB 28.4 MB/s eta 0:00:01\r\u001b[K     |████████████████████████▋       | 931 kB 28.4 MB/s eta 0:00:01\r\u001b[K     |████████████████████████▉       | 942 kB 28.4 MB/s eta 0:00:01\r\u001b[K     |█████████████████████████       | 952 kB 28.4 MB/s eta 0:00:01\r\u001b[K     |█████████████████████████▍      | 962 kB 28.4 MB/s eta 0:00:01\r\u001b[K     |█████████████████████████▋      | 972 kB 28.4 MB/s eta 0:00:01\r\u001b[K     |██████████████████████████      | 983 kB 28.4 MB/s eta 0:00:01\r\u001b[K     |██████████████████████████▏     | 993 kB 28.4 MB/s eta 0:00:01\r\u001b[K     |██████████████████████████▌     | 1.0 MB 28.4 MB/s eta 0:00:01\r\u001b[K     |██████████████████████████▊     | 1.0 MB 28.4 MB/s eta 0:00:01\r\u001b[K     |███████████████████████████     | 1.0 MB 28.4 MB/s eta 0:00:01\r\u001b[K     |███████████████████████████▎    | 1.0 MB 28.4 MB/s eta 0:00:01\r\u001b[K     |███████████████████████████▌    | 1.0 MB 28.4 MB/s eta 0:00:01\r\u001b[K     |███████████████████████████▉    | 1.1 MB 28.4 MB/s eta 0:00:01\r\u001b[K     |████████████████████████████    | 1.1 MB 28.4 MB/s eta 0:00:01\r\u001b[K     |████████████████████████████▍   | 1.1 MB 28.4 MB/s eta 0:00:01\r\u001b[K     |████████████████████████████▋   | 1.1 MB 28.4 MB/s eta 0:00:01\r\u001b[K     |████████████████████████████▉   | 1.1 MB 28.4 MB/s eta 0:00:01\r\u001b[K     |█████████████████████████████▏  | 1.1 MB 28.4 MB/s eta 0:00:01\r\u001b[K     |█████████████████████████████▍  | 1.1 MB 28.4 MB/s eta 0:00:01\r\u001b[K     |█████████████████████████████▊  | 1.1 MB 28.4 MB/s eta 0:00:01\r\u001b[K     |██████████████████████████████  | 1.1 MB 28.4 MB/s eta 0:00:01\r\u001b[K     |██████████████████████████████▎ | 1.1 MB 28.4 MB/s eta 0:00:01\r\u001b[K     |██████████████████████████████▌ | 1.2 MB 28.4 MB/s eta 0:00:01\r\u001b[K     |██████████████████████████████▊ | 1.2 MB 28.4 MB/s eta 0:00:01\r\u001b[K     |███████████████████████████████ | 1.2 MB 28.4 MB/s eta 0:00:01\r\u001b[K     |███████████████████████████████▎| 1.2 MB 28.4 MB/s eta 0:00:01\r\u001b[K     |███████████████████████████████▋| 1.2 MB 28.4 MB/s eta 0:00:01\r\u001b[K     |███████████████████████████████▉| 1.2 MB 28.4 MB/s eta 0:00:01\r\u001b[K     |████████████████████████████████| 1.2 MB 28.4 MB/s \n",
            "\u001b[?25hInstalling collected packages: sentencepiece\n",
            "Successfully installed sentencepiece-0.1.96\n"
          ],
          "name": "stdout"
        }
      ]
    },
    {
      "cell_type": "code",
      "metadata": {
        "id": "eH516aNWMIwO"
      },
      "source": [
        "# Importing requirements\n",
        "from transformers import T5Tokenizer, T5Config, T5ForConditionalGeneration"
      ],
      "execution_count": 54,
      "outputs": []
    },
    {
      "cell_type": "code",
      "metadata": {
        "id": "OMW3Pwf9MNzd"
      },
      "source": [
        "# Instantiating the model and tokenizer \n",
        "my_model = T5ForConditionalGeneration.from_pretrained('t5-small')\n",
        "tokenizer = T5Tokenizer.from_pretrained('t5-small')"
      ],
      "execution_count": 59,
      "outputs": []
    },
    {
      "cell_type": "code",
      "metadata": {
        "colab": {
          "base_uri": "https://localhost:8080/",
          "height": 137
        },
        "id": "KwG8DqMcMSXQ",
        "outputId": "e94c35ac-9357-43f2-9ddd-1fcbb0fce454"
      },
      "source": [
        "# Concatenating the word \"summarize:\" to raw text\n",
        "text = \"summarize:\" + original_text\n",
        "text"
      ],
      "execution_count": 57,
      "outputs": [
        {
          "output_type": "execute_result",
          "data": {
            "application/vnd.google.colaboratory.intrinsic+json": {
              "type": "string"
            },
            "text/plain": [
              "'summarize:Junk foods taste good that’s why it is mostly liked by everyone of any age group especially kids and school going children. They generally ask for the junk food daily because they have been trend so by their parents from the childhood. They never have been discussed by their parents about the harmful effects of junk foods over health. According to the research by scientists, it has been found that junk foods have negative effects on the health in many ways. They are generally fried food found in the market in the packets. They become high in calories, high in cholesterol, low in healthy nutrients, high in sodium mineral, high in sugar, starch, unhealthy fat, lack of protein and lack of dietary fibers. Processed and junk foods are the means of rapid and unhealthy weight gain and negatively impact the whole body throughout the life. It makes able a person to gain excessive weight which is called as obesity. Junk foods tastes good and looks good however do not fulfil the healthy calorie requirement of the body. Some of the foods like french fries, fried foods, pizza, burgers, candy, soft drinks, baked goods, ice cream, cookies, etc are the example of high-sugar and high-fat containing foods. It is found according to the Centres for Disease Control and Prevention that Kids and children eating junk food are more prone to the type-2 diabetes. In type-2 diabetes our body become unable to regulate blood sugar level. Risk of getting this disease is increasing as one become more obese or overweight. It increases the risk of kidney failure. Eating junk food daily lead us to the nutritional deficiencies in the body because it is lack of essential nutrients, vitamins, iron, minerals and dietary fibers. It increases risk of cardiovascular diseases because it is rich in saturated fat, sodium and bad cholesterol. High sodium and bad cholesterol diet increases blood pressure and overloads the heart functioning. One who like junk food develop more risk to put on extra weight and become fatter and unhealthier. Junk foods contain high level carbohydrate which spike blood sugar level and make person more lethargic, sleepy and less active and alert. Reflexes and senses of the people eating this food become dull day by day thus they live more sedentary life. Junk foods are the source of constipation and other disease like diabetes, heart ailments, clogged arteries, heart attack, strokes, etc because of being poor in nutrition. Junk food is the easiest way to gain unhealthy weight. The amount of fats and sugar in the food makes you gain weight rapidly. However, this is not a healthy weight. It is more of fats and cholesterol which will have a harmful impact on your health. Junk food is also one of the main reasons for the increase in obesity nowadays.This food only looks and tastes good, other than that, it has no positive points. The amount of calorie your body requires to stay fit is not fulfilled by this food. For instance, foods like French fries, burgers, candy, and cookies, all have high amounts of sugar and fats. Therefore, this can result in long-term illnesses like diabetes and high blood pressure. This may also result in kidney failure. Above all, you can get various nutritional deficiencies when you don’t consume the essential nutrients, vitamins, minerals and more. You become prone to cardiovascular diseases due to the consumption of bad cholesterol and fat plus sodium. In other words, all this interferes with the functioning of your heart. Furthermore, junk food contains a higher level of carbohydrates. It will instantly spike your blood sugar levels. This will result in lethargy, inactiveness, and sleepiness. A person reflex becomes dull overtime and they lead an inactive life. To make things worse, junk food also clogs your arteries and increases the risk of a heart attack. Therefore, it must be avoided at the first instance to save your life from becoming ruined.The main problem with junk food is that people don’t realize its ill effects now. When the time comes, it is too late. Most importantly, the issue is that it does not impact you instantly. It works on your overtime; you will face the consequences sooner or later. Thus, it is better to stop now.You can avoid junk food by encouraging your children from an early age to eat green vegetables. Their taste buds must be developed as such that they find healthy food tasty. Moreover, try to mix things up. Do not serve the same green vegetable daily in the same style. Incorporate different types of healthy food in their diet following different recipes. This will help them to try foods at home rather than being attracted to junk food.In short, do not deprive them completely of it as that will not help. Children will find one way or the other to have it. Make sure you give them junk food in limited quantities and at healthy periods of time. '"
            ]
          },
          "metadata": {
            "tags": []
          },
          "execution_count": 57
        }
      ]
    },
    {
      "cell_type": "code",
      "metadata": {
        "id": "eqGW0NBROmjW"
      },
      "source": [
        "# encoding the input text\n",
        "input_ids=tokenizer.encode(text, return_tensors='pt', max_length=512)"
      ],
      "execution_count": null,
      "outputs": []
    },
    {
      "cell_type": "markdown",
      "metadata": {
        "id": "Zl6E-krDOs04"
      },
      "source": [
        "## Summarisation with BART transformers"
      ]
    },
    {
      "cell_type": "code",
      "metadata": {
        "id": "B-SFowdnNI99"
      },
      "source": [
        "# Importing the model\n",
        "from transformers import BartForConditionalGeneration, BartTokenizer, BartConfig"
      ],
      "execution_count": 61,
      "outputs": []
    },
    {
      "cell_type": "code",
      "metadata": {
        "colab": {
          "base_uri": "https://localhost:8080/",
          "height": 177,
          "referenced_widgets": [
            "98490979396b483288a208a84b5059eb",
            "1385647e902445bd8d6438aadb121110",
            "46acaf3180ec495883cf5697900867b5",
            "ff9e505311f44596b166a513757b3c87",
            "ce546ca8a0644b74afbe170d8249bdb6",
            "2317138feeae448799c4de94454e2124",
            "caf7d94de42e48a7bb6a111dda20bc7a",
            "441a781993854439a66396bd14f8008a",
            "d6cd55c50a3645a6b4ef042d8bc71bec",
            "46c07387d92b40d2af44d1fc04acb50f",
            "6dd9ba4f656f454a8bd552cc6c4fa753",
            "00f25f6c45744bfcaa7a6beb2280c23b",
            "eb2baffefbbd4a5dab7b19e6f1f55e55",
            "83882d28a0604891b808bdd99894f5f8",
            "271f06821214466db43d5868c323bad8",
            "751c1cad96b643218b6e5d4c566c294f",
            "57ccbfbd205e4b9ab9f4f0e7435177a1",
            "dd03c83f273243208c71bfdd83843298",
            "6eb91bcfdc0d43b9b6c29019f58ec5e7",
            "94b535c11ad744fb9365a6f259128ea2",
            "a5d1b2ea48d643908628f8a211c63db7",
            "48a37ae73f55453c87927fec04adf4f0",
            "b7b8bdd5e59a429fb3fb5ba3b71229d1",
            "b785188f5491451ea61496233c948c54",
            "194aeaeda4294b848e01337f3071d2f9",
            "177211912c5f4419b3891a9e538082d9",
            "85c6dcfddd134723af124d376533511b",
            "e38e54821cf74808aab207ab46a7bda3",
            "327da204d5b24bd2bceaffea5a62a8ab",
            "a27557f1c2ad46c3a740ce31acc2ce18",
            "67ec27c5acca417ea5d05b1319404a1f",
            "6e8c4f9baae94c0d9eb537d6f9541b72",
            "0c055ec9f54140ca94248c7819926278",
            "4db96fed7c7649868100fbeefe7f2bf2",
            "5508ac8481084ffa973fe1db6255dafc",
            "c2a0e63a07ad4085820ef81fc53d1a21",
            "bab9304c444343ffaa66987ec13e9689",
            "a22af0e990464080b9a2ba5eb0b15363",
            "e889008ead494c24a2f2b9c6d20e999f",
            "5d398915962242ba8eb9ece32673b563",
            "749582ad97da42ba8cef0120c4422d9f",
            "94723aaabb1742b7863d39c0a03d4eea",
            "39e92bd41d614c1a825529f3c313e07e",
            "eeed9a6e4cb1478f9565a1756c047003",
            "a8da2666386e4c48acb210eb88930a68",
            "2fb82e055e344974b3c96f707350b6a4",
            "167ce91be19f411c8fc347f1057ec909",
            "4738dde861c74dbc931d951299715b7f",
            "898f68d1bce34e3b8c1b4179d4fb6e15",
            "88f35fb1ab87415e80e320148d3809df",
            "1de7b44f3e4f443f84b19f47823e207d",
            "147e39140a0c47738a07d0b054caa23f",
            "47b6db1098cb4ae3bac587e39ba53c1a",
            "1961e1c167424c12a5b5f9b9944ab327",
            "e363f6849bed4a158394b256ef8ed24e"
          ]
        },
        "id": "eWypyQe4Nr5C",
        "outputId": "2329f17d-1318-4718-d840-21c46de1fd6a"
      },
      "source": [
        "# Loading the model and tokenizer for bart-large-cnn\n",
        "\n",
        "tokenizer=BartTokenizer.from_pretrained('facebook/bart-large-cnn')\n",
        "model=BartForConditionalGeneration.from_pretrained('facebook/bart-large-cnn')"
      ],
      "execution_count": 62,
      "outputs": [
        {
          "output_type": "display_data",
          "data": {
            "application/vnd.jupyter.widget-view+json": {
              "model_id": "98490979396b483288a208a84b5059eb",
              "version_minor": 0,
              "version_major": 2
            },
            "text/plain": [
              "Downloading:   0%|          | 0.00/899k [00:00<?, ?B/s]"
            ]
          },
          "metadata": {
            "tags": []
          }
        },
        {
          "output_type": "display_data",
          "data": {
            "application/vnd.jupyter.widget-view+json": {
              "model_id": "00f25f6c45744bfcaa7a6beb2280c23b",
              "version_minor": 0,
              "version_major": 2
            },
            "text/plain": [
              "Downloading:   0%|          | 0.00/456k [00:00<?, ?B/s]"
            ]
          },
          "metadata": {
            "tags": []
          }
        },
        {
          "output_type": "display_data",
          "data": {
            "application/vnd.jupyter.widget-view+json": {
              "model_id": "b7b8bdd5e59a429fb3fb5ba3b71229d1",
              "version_minor": 0,
              "version_major": 2
            },
            "text/plain": [
              "Downloading:   0%|          | 0.00/1.36M [00:00<?, ?B/s]"
            ]
          },
          "metadata": {
            "tags": []
          }
        },
        {
          "output_type": "display_data",
          "data": {
            "application/vnd.jupyter.widget-view+json": {
              "model_id": "4db96fed7c7649868100fbeefe7f2bf2",
              "version_minor": 0,
              "version_major": 2
            },
            "text/plain": [
              "Downloading:   0%|          | 0.00/1.58k [00:00<?, ?B/s]"
            ]
          },
          "metadata": {
            "tags": []
          }
        },
        {
          "output_type": "display_data",
          "data": {
            "application/vnd.jupyter.widget-view+json": {
              "model_id": "a8da2666386e4c48acb210eb88930a68",
              "version_minor": 0,
              "version_major": 2
            },
            "text/plain": [
              "Downloading:   0%|          | 0.00/1.63G [00:00<?, ?B/s]"
            ]
          },
          "metadata": {
            "tags": []
          }
        }
      ]
    },
    {
      "cell_type": "code",
      "metadata": {
        "colab": {
          "base_uri": "https://localhost:8080/"
        },
        "id": "EQWeVHjMNvx8",
        "outputId": "4336020b-aba2-4929-caea-3996053389a0"
      },
      "source": [
        "# Encoding the inputs and passing them to model.generate()\n",
        "inputs = tokenizer.batch_encode_plus([original_text],return_tensors='pt')\n",
        "summary_ids = model.generate(inputs['input_ids'], early_stopping=True)"
      ],
      "execution_count": 63,
      "outputs": [
        {
          "output_type": "stream",
          "text": [
            "/usr/local/lib/python3.7/dist-packages/torch/_tensor.py:575: UserWarning: floor_divide is deprecated, and will be removed in a future version of pytorch. It currently rounds toward 0 (like the 'trunc' function NOT 'floor'). This results in incorrect rounding for negative values.\n",
            "To keep the current behavior, use torch.div(a, b, rounding_mode='trunc'), or for actual floor division, use torch.div(a, b, rounding_mode='floor'). (Triggered internally at  /pytorch/aten/src/ATen/native/BinaryOps.cpp:467.)\n",
            "  return torch.floor_divide(self, other)\n"
          ],
          "name": "stderr"
        }
      ]
    },
    {
      "cell_type": "code",
      "metadata": {
        "colab": {
          "base_uri": "https://localhost:8080/"
        },
        "id": "f6EfVpRJOIwg",
        "outputId": "c9d8878b-7a84-49ca-d883-548c74a67170"
      },
      "source": [
        "# Decoding and printing the summary\n",
        "bart_summary = tokenizer.decode(summary_ids[0], skip_special_tokens=True)\n",
        "print(bart_summary)"
      ],
      "execution_count": 64,
      "outputs": [
        {
          "output_type": "stream",
          "text": [
            "Junk foods taste good that’s why it is mostly liked by everyone of any age group especially kids and school going children. They generally ask for the junk food daily because they have been trend so by their parents from the childhood. According to the research by scientists, it has been found that junk foods have negative effects on the health.\n"
          ],
          "name": "stdout"
        }
      ]
    },
    {
      "cell_type": "code",
      "metadata": {
        "id": "7jSHewpXOVgF"
      },
      "source": [
        ""
      ],
      "execution_count": null,
      "outputs": []
    }
  ]
}